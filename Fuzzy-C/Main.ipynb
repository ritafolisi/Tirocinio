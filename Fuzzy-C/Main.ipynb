{
 "cells": [
  {
   "cell_type": "code",
   "execution_count": null,
   "metadata": {},
   "outputs": [],
   "source": [
    "from FCM import *"
   ]
  },
  {
   "cell_type": "code",
   "execution_count": null,
   "metadata": {},
   "outputs": [],
   "source": [
    "dataset=pd.read_csv(\"iris-setosa.csv\")"
   ]
  },
  {
   "cell_type": "code",
   "execution_count": null,
   "metadata": {},
   "outputs": [],
   "source": [
    "X = dataset[[\"sepal_length\", \"sepal_width\"]].values\n",
    "y = dataset[\"species\"].values\n",
    "print(\"features:\\n\", X, \"\\nLabels:\\n \", y)"
   ]
  },
  {
   "cell_type": "code",
   "execution_count": null,
   "metadata": {},
   "outputs": [],
   "source": [
    "skf = StratifiedKFold(n_splits=5, shuffle=True, random_state=1)\n",
    "for train_index, test_index in skf.split(X, y):\n",
    "    #print(\"TRAIN:\", train_index, \"\\nTEST:\", test_index)\n",
    "    X_train, X_test = X[train_index], X[test_index]\n",
    "    _train, y_test = y[train_index], y[test_index]\n",
    "\n",
    "    #training\n",
    "    model = FCM()\n",
    "    train_membership, centers = model.fuzzy_train(X_train , 2 , 2)\n",
    "\n",
    "    #test\n",
    "    test_membership = model.fuzzy_predict(X_test , 2 , centers, 2)\n",
    "    print(test_membership)\n",
    "    #MSE calcolato sulla predizione della membership\n",
    "    res=[]\n",
    "    res2=[]\n",
    "    for i in range(0, len(test_membership)):\n",
    "        res.append(test_membership[i][0])\n",
    "        res2.append(test_membership[i][1])\n",
    "\n",
    "\n",
    "    #MSE, calcolato sulle label predette (scommentare normalize_U in fuzzy_predict)\n",
    "    #res=[]\n",
    "    #res2=[]\n",
    "    #for i in range(0, len(test_membership)):\n",
    "    #    imax=test_membership[i].index(max(test_membership[i]))\n",
    "    #    res.append(imax)\n",
    "    #\tres2.append((imax+1)%2)\n",
    "\n",
    "    acc = mean_squared_error(y_test, res)\n",
    "    acc2 = mean_squared_error(y_test, res2)\n",
    "    print(min(acc, acc2))"
   ]
  },
  {
   "cell_type": "code",
   "execution_count": null,
   "metadata": {},
   "outputs": [],
   "source": []
  }
 ],
 "metadata": {
  "kernelspec": {
   "display_name": "Python 2",
   "language": "python",
   "name": "python2"
  },
  "language_info": {
   "codemirror_mode": {
    "name": "ipython",
    "version": 3
   },
   "file_extension": ".py",
   "mimetype": "text/x-python",
   "name": "python",
   "nbconvert_exporter": "python",
   "pygments_lexer": "ipython3",
   "version": "3.7.6"
  }
 },
 "nbformat": 4,
 "nbformat_minor": 4
}
