{
 "cells": [
  {
   "cell_type": "markdown",
   "metadata": {},
   "source": [
    "# Pre processing of Abalone dataset to make imbalance ratio of training and testing same"
   ]
  },
  {
   "cell_type": "code",
   "execution_count": 2,
   "metadata": {},
   "outputs": [],
   "source": [
    "import numpy as np\n",
    "from numpy import linalg\n",
    "import pandas as pd"
   ]
  },
  {
   "cell_type": "code",
   "execution_count": 4,
   "metadata": {},
   "outputs": [
    {
     "data": {
      "text/html": [
       "<div>\n",
       "<style scoped>\n",
       "    .dataframe tbody tr th:only-of-type {\n",
       "        vertical-align: middle;\n",
       "    }\n",
       "\n",
       "    .dataframe tbody tr th {\n",
       "        vertical-align: top;\n",
       "    }\n",
       "\n",
       "    .dataframe thead th {\n",
       "        text-align: right;\n",
       "    }\n",
       "</style>\n",
       "<table border=\"1\" class=\"dataframe\">\n",
       "  <thead>\n",
       "    <tr style=\"text-align: right;\">\n",
       "      <th></th>\n",
       "      <th>0</th>\n",
       "      <th>1</th>\n",
       "      <th>2</th>\n",
       "      <th>3</th>\n",
       "    </tr>\n",
       "  </thead>\n",
       "  <tbody>\n",
       "    <tr>\n",
       "      <th>0</th>\n",
       "      <td>30</td>\n",
       "      <td>64</td>\n",
       "      <td>1</td>\n",
       "      <td>1</td>\n",
       "    </tr>\n",
       "    <tr>\n",
       "      <th>1</th>\n",
       "      <td>30</td>\n",
       "      <td>62</td>\n",
       "      <td>3</td>\n",
       "      <td>1</td>\n",
       "    </tr>\n",
       "    <tr>\n",
       "      <th>2</th>\n",
       "      <td>30</td>\n",
       "      <td>65</td>\n",
       "      <td>0</td>\n",
       "      <td>1</td>\n",
       "    </tr>\n",
       "    <tr>\n",
       "      <th>3</th>\n",
       "      <td>31</td>\n",
       "      <td>59</td>\n",
       "      <td>2</td>\n",
       "      <td>1</td>\n",
       "    </tr>\n",
       "    <tr>\n",
       "      <th>4</th>\n",
       "      <td>31</td>\n",
       "      <td>65</td>\n",
       "      <td>4</td>\n",
       "      <td>1</td>\n",
       "    </tr>\n",
       "  </tbody>\n",
       "</table>\n",
       "</div>"
      ],
      "text/plain": [
       "    0   1  2  3\n",
       "0  30  64  1  1\n",
       "1  30  62  3  1\n",
       "2  30  65  0  1\n",
       "3  31  59  2  1\n",
       "4  31  65  4  1"
      ]
     },
     "execution_count": 4,
     "metadata": {},
     "output_type": "execute_result"
    }
   ],
   "source": [
    "train = pd.read_csv(\"haberman.csv\",header=None)\n",
    "train.head()"
   ]
  },
  {
   "cell_type": "code",
   "execution_count": 6,
   "metadata": {},
   "outputs": [
    {
     "name": "stdout",
     "output_type": "stream",
     "text": [
      "0     -1\n",
      "1     -1\n",
      "2     -1\n",
      "3     -1\n",
      "4     -1\n",
      "5     -1\n",
      "6     -1\n",
      "7      1\n",
      "8      1\n",
      "9     -1\n",
      "10    -1\n",
      "11    -1\n",
      "12    -1\n",
      "13    -1\n",
      "14    -1\n",
      "15    -1\n",
      "16    -1\n",
      "17    -1\n",
      "18    -1\n",
      "19    -1\n",
      "20    -1\n",
      "21    -1\n",
      "22    -1\n",
      "23    -1\n",
      "24     1\n",
      "25    -1\n",
      "26    -1\n",
      "27    -1\n",
      "28    -1\n",
      "29    -1\n",
      "      ..\n",
      "276   -1\n",
      "277   -1\n",
      "278   -1\n",
      "279   -1\n",
      "280   -1\n",
      "281    1\n",
      "282   -1\n",
      "283   -1\n",
      "284   -1\n",
      "285    1\n",
      "286    1\n",
      "287   -1\n",
      "288   -1\n",
      "289   -1\n",
      "290   -1\n",
      "291   -1\n",
      "292   -1\n",
      "293    1\n",
      "294   -1\n",
      "295   -1\n",
      "296   -1\n",
      "297   -1\n",
      "298   -1\n",
      "299    1\n",
      "300   -1\n",
      "301   -1\n",
      "302   -1\n",
      "303   -1\n",
      "304    1\n",
      "305    1\n",
      "Name: 3, Length: 306, dtype: int64\n"
     ]
    }
   ],
   "source": [
    "train[3] = train[3].map({2:1,1:-1})\n",
    "print(train[3])"
   ]
  },
  {
   "cell_type": "code",
   "execution_count": 7,
   "metadata": {},
   "outputs": [],
   "source": [
    "train=np.asarray(train)"
   ]
  },
  {
   "cell_type": "code",
   "execution_count": 19,
   "metadata": {},
   "outputs": [],
   "source": [
    "min_train=np.zeros((81,4))\n",
    "max_train=np.zeros((225,4))\n",
    "min_train=np.asarray(min_train)\n",
    "max_train=np.asarray(max_train)"
   ]
  },
  {
   "cell_type": "code",
   "execution_count": 20,
   "metadata": {},
   "outputs": [],
   "source": [
    "k=0\n",
    "l=0\n",
    "for i in range(0,306):\n",
    "    if(train[i][3]==1):\n",
    "        for j in range(0,4):\n",
    "            min_train[k][j]=train[i][j]   \n",
    "        k=k+1\n",
    "    else :\n",
    "        for j in range(0,4):\n",
    "            max_train[l][j]=train[i][j]\n",
    "        l=l+1"
   ]
  },
  {
   "cell_type": "code",
   "execution_count": 21,
   "metadata": {},
   "outputs": [
    {
     "name": "stdout",
     "output_type": "stream",
     "text": [
      "[[34. 59.  0.  1.]\n",
      " [34. 66.  9.  1.]\n",
      " [38. 69. 21.  1.]\n",
      " [39. 66.  0.  1.]\n",
      " [41. 60. 23.  1.]\n",
      " [41. 64.  0.  1.]\n",
      " [41. 67.  0.  1.]\n",
      " [42. 69.  1.  1.]\n",
      " [42. 59.  0.  1.]\n",
      " [43. 58. 52.  1.]\n",
      " [43. 59.  2.  1.]\n",
      " [43. 64.  0.  1.]\n",
      " [43. 64.  0.  1.]\n",
      " [44. 64.  6.  1.]\n",
      " [44. 58.  9.  1.]\n",
      " [44. 63. 19.  1.]\n",
      " [45. 65.  6.  1.]\n",
      " [45. 66.  0.  1.]\n",
      " [45. 67.  1.  1.]\n",
      " [46. 58.  2.  1.]\n",
      " [46. 69.  3.  1.]\n",
      " [46. 62.  5.  1.]\n",
      " [46. 65. 20.  1.]\n",
      " [47. 63. 23.  1.]\n",
      " [47. 62.  0.  1.]\n",
      " [47. 65.  0.  1.]\n",
      " [48. 58. 11.  1.]\n",
      " [48. 58. 11.  1.]\n",
      " [48. 67.  7.  1.]\n",
      " [49. 63.  0.  1.]\n",
      " [49. 64. 10.  1.]\n",
      " [50. 63. 13.  1.]\n",
      " [50. 64.  0.  1.]\n",
      " [51. 59. 13.  1.]\n",
      " [51. 59.  3.  1.]\n",
      " [52. 69.  3.  1.]\n",
      " [52. 59.  2.  1.]\n",
      " [52. 62.  3.  1.]\n",
      " [52. 66.  4.  1.]\n",
      " [53. 58.  4.  1.]\n",
      " [53. 65.  1.  1.]\n",
      " [53. 59.  3.  1.]\n",
      " [53. 60.  9.  1.]\n",
      " [53. 63. 24.  1.]\n",
      " [53. 65. 12.  1.]\n",
      " [54. 60. 11.  1.]\n",
      " [54. 65. 23.  1.]\n",
      " [54. 65.  5.  1.]\n",
      " [54. 68.  7.  1.]\n",
      " [55. 63.  6.  1.]\n",
      " [55. 68. 15.  1.]\n",
      " [56. 65.  9.  1.]\n",
      " [56. 66.  3.  1.]\n",
      " [57. 61.  5.  1.]\n",
      " [57. 62. 14.  1.]\n",
      " [57. 64.  1.  1.]\n",
      " [59. 62. 35.  1.]\n",
      " [60. 59. 17.  1.]\n",
      " [60. 65.  0.  1.]\n",
      " [61. 62.  5.  1.]\n",
      " [61. 65.  0.  1.]\n",
      " [61. 68.  1.  1.]\n",
      " [62. 59. 13.  1.]\n",
      " [62. 58.  0.  1.]\n",
      " [62. 65. 19.  1.]\n",
      " [63. 60.  1.  1.]\n",
      " [65. 58.  0.  1.]\n",
      " [65. 61.  2.  1.]\n",
      " [65. 62. 22.  1.]\n",
      " [65. 66. 15.  1.]\n",
      " [66. 58.  0.  1.]\n",
      " [66. 61. 13.  1.]\n",
      " [67. 64.  8.  1.]\n",
      " [67. 63.  1.  1.]\n",
      " [69. 67.  8.  1.]\n",
      " [70. 58.  0.  1.]\n",
      " [70. 58.  4.  1.]\n",
      " [72. 63.  0.  1.]\n",
      " [74. 65.  3.  1.]\n",
      " [78. 65.  1.  1.]\n",
      " [83. 58.  2.  1.]]\n"
     ]
    }
   ],
   "source": [
    "print(min_train)"
   ]
  },
  {
   "cell_type": "code",
   "execution_count": 23,
   "metadata": {},
   "outputs": [],
   "source": [
    "data1=np.zeros((61,4))\n",
    "data2=np.zeros((61,4))\n",
    "data3=np.zeros((61,4))\n",
    "data4=np.zeros((61,4))\n",
    "data5=np.zeros((62,4))"
   ]
  },
  {
   "cell_type": "code",
   "execution_count": null,
   "metadata": {},
   "outputs": [],
   "source": []
  },
  {
   "cell_type": "code",
   "execution_count": 28,
   "metadata": {},
   "outputs": [
    {
     "name": "stdout",
     "output_type": "stream",
     "text": [
      "[0. 0. 0. 0.]\n"
     ]
    }
   ],
   "source": [
    "for i in range(0,81):\n",
    "    for j in range(0,4):\n",
    "        if(i<16):\n",
    "            data1[i][j]=min_train[i][j]\n",
    "        elif(15<i and i<32):\n",
    "            data2[i-16][j]=min_train[i][j]\n",
    "        elif(31<i and i<48):\n",
    "            data3[i-32][j]=min_train[i][j]\n",
    "        elif(47<i and i<64):\n",
    "            data4[i-48][j]=min_train[i][j]\n",
    "        elif(63<i and i<81):\n",
    "            data5[i-64][j]=min_train[i][j]\n",
    "    \n",
    "        \n",
    "print(data5[17])"
   ]
  },
  {
   "cell_type": "code",
   "execution_count": 31,
   "metadata": {},
   "outputs": [
    {
     "name": "stdout",
     "output_type": "stream",
     "text": [
      "[77. 65.  3. -1.]\n"
     ]
    }
   ],
   "source": [
    "for i in range(0,225):\n",
    "    for j in range(0,4):\n",
    "        if(i<45):\n",
    "            data1[i+16][j]=max_train[i][j]\n",
    "        elif(44<i and i<90):\n",
    "            data2[i-29][j]=max_train[i][j]\n",
    "        elif(89<i and i<135):\n",
    "            data3[i-74][j]=max_train[i][j]\n",
    "        elif(134<i and i<180):\n",
    "            data4[i-119][j]=max_train[i][j]\n",
    "        elif(179<i and i<225):\n",
    "            data5[i-163][j]=max_train[i][j]   \n",
    "print(data5[61])"
   ]
  },
  {
   "cell_type": "code",
   "execution_count": 32,
   "metadata": {},
   "outputs": [
    {
     "name": "stdout",
     "output_type": "stream",
     "text": [
      "(62, 4)\n"
     ]
    },
    {
     "data": {
      "text/plain": [
       "array([[62., 65., 19.,  1.],\n",
       "       [63., 60.,  1.,  1.],\n",
       "       [65., 58.,  0.,  1.],\n",
       "       [65., 61.,  2.,  1.],\n",
       "       [65., 62., 22.,  1.],\n",
       "       [65., 66., 15.,  1.],\n",
       "       [66., 58.,  0.,  1.],\n",
       "       [66., 61., 13.,  1.],\n",
       "       [67., 64.,  8.,  1.],\n",
       "       [67., 63.,  1.,  1.],\n",
       "       [69., 67.,  8.,  1.],\n",
       "       [70., 58.,  0.,  1.],\n",
       "       [70., 58.,  4.,  1.],\n",
       "       [72., 63.,  0.,  1.],\n",
       "       [74., 65.,  3.,  1.],\n",
       "       [78., 65.,  1.,  1.],\n",
       "       [83., 58.,  2.,  1.],\n",
       "       [63., 61.,  0., -1.],\n",
       "       [63., 62.,  0., -1.],\n",
       "       [63., 63.,  0., -1.],\n",
       "       [63., 63.,  0., -1.],\n",
       "       [63., 66.,  0., -1.],\n",
       "       [63., 61.,  9., -1.],\n",
       "       [63., 61., 28., -1.],\n",
       "       [64., 58.,  0., -1.],\n",
       "       [64., 65., 22., -1.],\n",
       "       [64., 66.,  0., -1.],\n",
       "       [64., 61.,  0., -1.],\n",
       "       [64., 68.,  0., -1.],\n",
       "       [65., 58.,  0., -1.],\n",
       "       [65., 64.,  0., -1.],\n",
       "       [65., 67.,  0., -1.],\n",
       "       [65., 59.,  2., -1.],\n",
       "       [65., 64.,  0., -1.],\n",
       "       [65., 67.,  1., -1.],\n",
       "       [66., 58.,  0., -1.],\n",
       "       [66., 58.,  1., -1.],\n",
       "       [66., 68.,  0., -1.],\n",
       "       [67., 66.,  0., -1.],\n",
       "       [67., 66.,  0., -1.],\n",
       "       [67., 61.,  0., -1.],\n",
       "       [67., 65.,  0., -1.],\n",
       "       [68., 67.,  0., -1.],\n",
       "       [68., 68.,  0., -1.],\n",
       "       [69., 60.,  0., -1.],\n",
       "       [69., 65.,  0., -1.],\n",
       "       [69., 66.,  0., -1.],\n",
       "       [70., 66., 14., -1.],\n",
       "       [70., 67.,  0., -1.],\n",
       "       [70., 68.,  0., -1.],\n",
       "       [70., 59.,  8., -1.],\n",
       "       [70., 63.,  0., -1.],\n",
       "       [71., 68.,  2., -1.],\n",
       "       [72., 58.,  0., -1.],\n",
       "       [72., 64.,  0., -1.],\n",
       "       [72., 67.,  3., -1.],\n",
       "       [73., 62.,  0., -1.],\n",
       "       [73., 68.,  0., -1.],\n",
       "       [74., 63.,  0., -1.],\n",
       "       [75., 62.,  1., -1.],\n",
       "       [76., 67.,  0., -1.],\n",
       "       [77., 65.,  3., -1.]])"
      ]
     },
     "execution_count": 32,
     "metadata": {},
     "output_type": "execute_result"
    }
   ],
   "source": [
    "print(data5.shape)\n",
    "data5"
   ]
  },
  {
   "cell_type": "code",
   "execution_count": 33,
   "metadata": {},
   "outputs": [],
   "source": [
    "import csv\n",
    "with open('newab.csv', 'w') as csvFile:\n",
    "    writer = csv.writer(csvFile)\n",
    "    writer.writerows(data1)\n",
    "\n",
    "csvFile.close()"
   ]
  },
  {
   "cell_type": "code",
   "execution_count": 34,
   "metadata": {},
   "outputs": [],
   "source": [
    "import csv\n",
    "with open('newab.csv', 'a') as csvFile:\n",
    "    writer = csv.writer(csvFile)\n",
    "    writer.writerows(data2)\n",
    "\n",
    "csvFile.close()"
   ]
  },
  {
   "cell_type": "code",
   "execution_count": 35,
   "metadata": {},
   "outputs": [],
   "source": [
    "import csv\n",
    "with open('newab.csv', 'a') as csvFile:\n",
    "    writer = csv.writer(csvFile)\n",
    "    writer.writerows(data3)\n",
    "\n",
    "csvFile.close()"
   ]
  },
  {
   "cell_type": "code",
   "execution_count": 36,
   "metadata": {},
   "outputs": [],
   "source": [
    "import csv\n",
    "with open('newab.csv', 'a') as csvFile:\n",
    "    writer = csv.writer(csvFile)\n",
    "    writer.writerows(data4)\n",
    "\n",
    "csvFile.close()"
   ]
  },
  {
   "cell_type": "code",
   "execution_count": 37,
   "metadata": {},
   "outputs": [],
   "source": [
    "import csv\n",
    "with open('newab.csv', 'a') as csvFile:\n",
    "    writer = csv.writer(csvFile)\n",
    "    writer.writerows(data5)\n",
    "\n",
    "csvFile.close()"
   ]
  },
  {
   "cell_type": "code",
   "execution_count": 38,
   "metadata": {},
   "outputs": [
    {
     "name": "stdout",
     "output_type": "stream",
     "text": [
      "34.0    0\n",
      "59.0    0\n",
      "0.0     0\n",
      "1.0     0\n",
      "dtype: int64\n"
     ]
    }
   ],
   "source": [
    "df = pd.read_csv(\"newab.csv\")\n",
    "#checking the number of empty rows in th csv file\n",
    "print (df.isnull().sum())\n",
    "#Droping the empty rows\n",
    "modifiedDF = df.dropna()\n",
    "#Saving it to the csv file \n",
    "modifiedDF.to_csv('modifiedhaberman.csv',index=False)"
   ]
  },
  {
   "cell_type": "code",
   "execution_count": null,
   "metadata": {},
   "outputs": [],
   "source": []
  }
 ],
 "metadata": {
  "kernelspec": {
   "display_name": "Python 3",
   "language": "python",
   "name": "python3"
  },
  "language_info": {
   "codemirror_mode": {
    "name": "ipython",
    "version": 3
   },
   "file_extension": ".py",
   "mimetype": "text/x-python",
   "name": "python",
   "nbconvert_exporter": "python",
   "pygments_lexer": "ipython3",
   "version": "3.6.5"
  }
 },
 "nbformat": 4,
 "nbformat_minor": 2
}
