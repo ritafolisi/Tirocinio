{
 "cells": [
  {
   "cell_type": "markdown",
   "metadata": {},
   "source": [
    "# ADITYA SAHU"
   ]
  },
  {
   "cell_type": "markdown",
   "metadata": {},
   "source": [
    "# Pre processing of Pima indians dataset to make imbalance ratio of training and testing same"
   ]
  },
  {
   "cell_type": "code",
   "execution_count": null,
   "metadata": {},
   "outputs": [],
   "source": [
    "import numpy as np\n",
    "from numpy import linalg\n",
    "import pandas as pd"
   ]
  },
  {
   "cell_type": "code",
   "execution_count": 2,
   "metadata": {},
   "outputs": [
    {
     "data": {
      "text/html": [
       "<div>\n",
       "<style scoped>\n",
       "    .dataframe tbody tr th:only-of-type {\n",
       "        vertical-align: middle;\n",
       "    }\n",
       "\n",
       "    .dataframe tbody tr th {\n",
       "        vertical-align: top;\n",
       "    }\n",
       "\n",
       "    .dataframe thead th {\n",
       "        text-align: right;\n",
       "    }\n",
       "</style>\n",
       "<table border=\"1\" class=\"dataframe\">\n",
       "  <thead>\n",
       "    <tr style=\"text-align: right;\">\n",
       "      <th></th>\n",
       "      <th>1</th>\n",
       "      <th>2</th>\n",
       "      <th>3</th>\n",
       "      <th>4</th>\n",
       "      <th>5</th>\n",
       "      <th>6</th>\n",
       "      <th>7</th>\n",
       "      <th>8</th>\n",
       "      <th>9</th>\n",
       "    </tr>\n",
       "  </thead>\n",
       "  <tbody>\n",
       "    <tr>\n",
       "      <th>0</th>\n",
       "      <td>6</td>\n",
       "      <td>148</td>\n",
       "      <td>72</td>\n",
       "      <td>35</td>\n",
       "      <td>0</td>\n",
       "      <td>33.6</td>\n",
       "      <td>0.627</td>\n",
       "      <td>50</td>\n",
       "      <td>1</td>\n",
       "    </tr>\n",
       "    <tr>\n",
       "      <th>1</th>\n",
       "      <td>1</td>\n",
       "      <td>85</td>\n",
       "      <td>66</td>\n",
       "      <td>29</td>\n",
       "      <td>0</td>\n",
       "      <td>26.6</td>\n",
       "      <td>0.351</td>\n",
       "      <td>31</td>\n",
       "      <td>0</td>\n",
       "    </tr>\n",
       "    <tr>\n",
       "      <th>2</th>\n",
       "      <td>8</td>\n",
       "      <td>183</td>\n",
       "      <td>64</td>\n",
       "      <td>0</td>\n",
       "      <td>0</td>\n",
       "      <td>23.3</td>\n",
       "      <td>0.672</td>\n",
       "      <td>32</td>\n",
       "      <td>1</td>\n",
       "    </tr>\n",
       "    <tr>\n",
       "      <th>3</th>\n",
       "      <td>1</td>\n",
       "      <td>89</td>\n",
       "      <td>66</td>\n",
       "      <td>23</td>\n",
       "      <td>94</td>\n",
       "      <td>28.1</td>\n",
       "      <td>0.167</td>\n",
       "      <td>21</td>\n",
       "      <td>0</td>\n",
       "    </tr>\n",
       "    <tr>\n",
       "      <th>4</th>\n",
       "      <td>0</td>\n",
       "      <td>137</td>\n",
       "      <td>40</td>\n",
       "      <td>35</td>\n",
       "      <td>168</td>\n",
       "      <td>43.1</td>\n",
       "      <td>2.288</td>\n",
       "      <td>33</td>\n",
       "      <td>1</td>\n",
       "    </tr>\n",
       "  </tbody>\n",
       "</table>\n",
       "</div>"
      ],
      "text/plain": [
       "   1    2   3   4    5     6      7   8  9\n",
       "0  6  148  72  35    0  33.6  0.627  50  1\n",
       "1  1   85  66  29    0  26.6  0.351  31  0\n",
       "2  8  183  64   0    0  23.3  0.672  32  1\n",
       "3  1   89  66  23   94  28.1  0.167  21  0\n",
       "4  0  137  40  35  168  43.1  2.288  33  1"
      ]
     },
     "execution_count": 2,
     "metadata": {},
     "output_type": "execute_result"
    }
   ],
   "source": [
    "train = pd.read_csv(\"pima-indians-diabetes.csv\")\n",
    "train.head()"
   ]
  },
  {
   "cell_type": "code",
   "execution_count": 3,
   "metadata": {},
   "outputs": [
    {
     "name": "stdout",
     "output_type": "stream",
     "text": [
      "0      1\n",
      "1     -1\n",
      "2      1\n",
      "3     -1\n",
      "4      1\n",
      "5     -1\n",
      "6      1\n",
      "7     -1\n",
      "8      1\n",
      "9      1\n",
      "10    -1\n",
      "11     1\n",
      "12    -1\n",
      "13     1\n",
      "14     1\n",
      "15     1\n",
      "16     1\n",
      "17     1\n",
      "18    -1\n",
      "19     1\n",
      "20    -1\n",
      "21    -1\n",
      "22     1\n",
      "23     1\n",
      "24     1\n",
      "25     1\n",
      "26     1\n",
      "27    -1\n",
      "28    -1\n",
      "29    -1\n",
      "      ..\n",
      "738   -1\n",
      "739    1\n",
      "740    1\n",
      "741   -1\n",
      "742   -1\n",
      "743    1\n",
      "744   -1\n",
      "745   -1\n",
      "746    1\n",
      "747   -1\n",
      "748    1\n",
      "749    1\n",
      "750    1\n",
      "751   -1\n",
      "752   -1\n",
      "753    1\n",
      "754    1\n",
      "755    1\n",
      "756   -1\n",
      "757    1\n",
      "758   -1\n",
      "759    1\n",
      "760   -1\n",
      "761    1\n",
      "762   -1\n",
      "763   -1\n",
      "764   -1\n",
      "765   -1\n",
      "766    1\n",
      "767   -1\n",
      "Name: 9, Length: 768, dtype: int64\n"
     ]
    }
   ],
   "source": [
    "train['9'] = train['9'].map({1: 1, 0: -1})\n",
    "print(train['9'])"
   ]
  },
  {
   "cell_type": "code",
   "execution_count": 4,
   "metadata": {},
   "outputs": [],
   "source": [
    "\n",
    "train=np.asarray(train)"
   ]
  },
  {
   "cell_type": "code",
   "execution_count": 5,
   "metadata": {},
   "outputs": [],
   "source": [
    "min_train=np.zeros((268,9))\n",
    "max_train=np.zeros((500,9))\n",
    "min_train=np.asarray(min_train)\n",
    "max_train=np.asarray(max_train)"
   ]
  },
  {
   "cell_type": "code",
   "execution_count": 6,
   "metadata": {},
   "outputs": [],
   "source": [
    "\n",
    "k=0\n",
    "l=0\n",
    "for i in range(0,768):\n",
    "    if(train[i][8]==1):\n",
    "        for j in range(0,9):\n",
    "            min_train[k][j]=train[i][j]   \n",
    "        k=k+1\n",
    "    else :\n",
    "        for j in range(0,9):\n",
    "            max_train[l][j]=train[i][j]\n",
    "        l=l+1"
   ]
  },
  {
   "cell_type": "code",
   "execution_count": 7,
   "metadata": {},
   "outputs": [
    {
     "name": "stdout",
     "output_type": "stream",
     "text": [
      "[[  6.    148.     72.    ...   0.627  50.      1.   ]\n",
      " [  8.    183.     64.    ...   0.672  32.      1.   ]\n",
      " [  0.    137.     40.    ...   2.288  33.      1.   ]\n",
      " ...\n",
      " [  6.    190.     92.    ...   0.278  66.      1.   ]\n",
      " [  9.    170.     74.    ...   0.403  43.      1.   ]\n",
      " [  1.    126.     60.    ...   0.349  47.      1.   ]]\n"
     ]
    }
   ],
   "source": [
    "print(min_train)"
   ]
  },
  {
   "cell_type": "markdown",
   "metadata": {},
   "source": [
    "#768/5 =153.6\n",
    "#So we have to make no. of instances in data1,2 as 153 and data3,4,5 as 154 \n",
    "#Also min class value will be 35% of 153=53 and max class=100"
   ]
  },
  {
   "cell_type": "code",
   "execution_count": 21,
   "metadata": {},
   "outputs": [],
   "source": [
    "data1=np.zeros((153,9))\n",
    "data2=np.zeros((153,9))\n",
    "data3=np.zeros((154,9))\n",
    "data4=np.zeros((154,9))\n",
    "data5=np.zeros((154,9))"
   ]
  },
  {
   "cell_type": "code",
   "execution_count": null,
   "metadata": {},
   "outputs": [],
   "source": []
  },
  {
   "cell_type": "code",
   "execution_count": 22,
   "metadata": {},
   "outputs": [
    {
     "name": "stdout",
     "output_type": "stream",
     "text": [
      "[0. 0. 0. 0. 0. 0. 0. 0. 0.]\n"
     ]
    }
   ],
   "source": [
    "for i in range(0,268):\n",
    "    for j in range(0,9):\n",
    "        if(i<53):\n",
    "            data1[i][j]=min_train[i][j]\n",
    "        elif(52<i and i<106):\n",
    "            data2[i-53][j]=min_train[i][j]\n",
    "        elif(105<i and i<160):\n",
    "            data3[i-106][j]=min_train[i][j]\n",
    "        elif(159<i and i<214):\n",
    "            data4[i-160][j]=min_train[i][j]\n",
    "        elif(213<i and i<268):\n",
    "            data5[i-214][j]=min_train[i][j]\n",
    "    \n",
    "        \n",
    "print(data5[54])"
   ]
  },
  {
   "cell_type": "code",
   "execution_count": 28,
   "metadata": {},
   "outputs": [
    {
     "name": "stdout",
     "output_type": "stream",
     "text": [
      "[ 1.    93.    70.    31.     0.    30.4    0.315 23.    -1.   ]\n"
     ]
    }
   ],
   "source": [
    "for i in range(0,500):\n",
    "    for j in range(0,9):\n",
    "        if(i<100):\n",
    "            data1[i+53][j]=max_train[i][j]\n",
    "        elif(99<i and i<200):\n",
    "            data2[i-47][j]=max_train[i][j]\n",
    "        elif(199<i and i<300):\n",
    "            data3[i-146][j]=max_train[i][j]\n",
    "        elif(299<i and i<400):\n",
    "            data4[i-246][j]=max_train[i][j]\n",
    "        elif(399<i and i<500):\n",
    "            data5[i-346][j]=max_train[i][j]   \n",
    "print(data5[153])"
   ]
  },
  {
   "cell_type": "code",
   "execution_count": 35,
   "metadata": {},
   "outputs": [
    {
     "name": "stdout",
     "output_type": "stream",
     "text": [
      "(154, 9)\n"
     ]
    },
    {
     "data": {
      "text/plain": [
       "array([[  9.   , 112.   ,  82.   , ...,   1.282,  50.   ,   1.   ],\n",
       "       [  0.   , 119.   ,   0.   , ...,   0.141,  24.   ,   1.   ],\n",
       "       [  7.   , 114.   ,  64.   , ...,   0.732,  34.   ,   1.   ],\n",
       "       ...,\n",
       "       [  2.   , 122.   ,  70.   , ...,   0.34 ,  27.   ,  -1.   ],\n",
       "       [  5.   , 121.   ,  72.   , ...,   0.245,  30.   ,  -1.   ],\n",
       "       [  1.   ,  93.   ,  70.   , ...,   0.315,  23.   ,  -1.   ]])"
      ]
     },
     "execution_count": 35,
     "metadata": {},
     "output_type": "execute_result"
    }
   ],
   "source": [
    "print(data5.shape)\n",
    "data5"
   ]
  },
  {
   "cell_type": "code",
   "execution_count": 38,
   "metadata": {},
   "outputs": [],
   "source": [
    "import csv\n",
    "with open('new_pima.csv', 'w') as csvFile:\n",
    "    writer = csv.writer(csvFile)\n",
    "    writer.writerows(data1)\n",
    "\n",
    "csvFile.close()"
   ]
  },
  {
   "cell_type": "code",
   "execution_count": 39,
   "metadata": {},
   "outputs": [],
   "source": [
    "import csv\n",
    "with open('new_pima.csv', 'a') as csvFile:\n",
    "    writer = csv.writer(csvFile)\n",
    "    writer.writerows(data2)\n",
    "\n",
    "csvFile.close()"
   ]
  },
  {
   "cell_type": "code",
   "execution_count": 40,
   "metadata": {},
   "outputs": [],
   "source": [
    "import csv\n",
    "with open('new_pima.csv', 'a') as csvFile:\n",
    "    writer = csv.writer(csvFile)\n",
    "    writer.writerows(data3)\n",
    "\n",
    "csvFile.close()"
   ]
  },
  {
   "cell_type": "code",
   "execution_count": 41,
   "metadata": {},
   "outputs": [],
   "source": [
    "import csv\n",
    "with open('new_pima.csv', 'a') as csvFile:\n",
    "    writer = csv.writer(csvFile)\n",
    "    writer.writerows(data4)\n",
    "\n",
    "csvFile.close()"
   ]
  },
  {
   "cell_type": "code",
   "execution_count": 42,
   "metadata": {},
   "outputs": [],
   "source": [
    "import csv\n",
    "with open('new_pima.csv', 'a') as csvFile:\n",
    "    writer = csv.writer(csvFile)\n",
    "    writer.writerows(data5)\n",
    "\n",
    "csvFile.close()"
   ]
  },
  {
   "cell_type": "code",
   "execution_count": 47,
   "metadata": {},
   "outputs": [
    {
     "name": "stdout",
     "output_type": "stream",
     "text": [
      "6        767\n",
      "148      767\n",
      "72       767\n",
      "35       767\n",
      "0        767\n",
      "33.6     767\n",
      "0.627    767\n",
      "50       767\n",
      "1        767\n",
      "dtype: int64\n"
     ]
    }
   ],
   "source": [
    "df = pd.read_csv(\"new_pima.csv\")\n",
    "#checking the number of empty rows in th csv file\n",
    "print (df.isnull().sum())\n",
    "#Droping the empty rows\n",
    "modifiedDF = df.dropna()\n",
    "#Saving it to the csv file \n",
    "modifiedDF.to_csv('modifiedpima.csv',index=False)"
   ]
  },
  {
   "cell_type": "code",
   "execution_count": null,
   "metadata": {},
   "outputs": [],
   "source": []
  },
  {
   "cell_type": "code",
   "execution_count": null,
   "metadata": {},
   "outputs": [],
   "source": []
  }
 ],
 "metadata": {
  "kernelspec": {
   "display_name": "Python 3",
   "language": "python",
   "name": "python3"
  },
  "language_info": {
   "codemirror_mode": {
    "name": "ipython",
    "version": 3
   },
   "file_extension": ".py",
   "mimetype": "text/x-python",
   "name": "python",
   "nbconvert_exporter": "python",
   "pygments_lexer": "ipython3",
   "version": "3.6.5"
  }
 },
 "nbformat": 4,
 "nbformat_minor": 2
}
