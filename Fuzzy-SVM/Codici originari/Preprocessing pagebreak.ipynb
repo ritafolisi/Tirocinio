{
 "cells": [
  {
   "cell_type": "markdown",
   "metadata": {},
   "source": [
    "# Pre processing of Abalone dataset to make imbalance ratio of training and testing same"
   ]
  },
  {
   "cell_type": "code",
   "execution_count": 30,
   "metadata": {},
   "outputs": [],
   "source": [
    "import numpy as np\n",
    "from numpy import linalg\n",
    "import pandas as pd"
   ]
  },
  {
   "cell_type": "code",
   "execution_count": 31,
   "metadata": {},
   "outputs": [
    {
     "data": {
      "text/html": [
       "<div>\n",
       "<style scoped>\n",
       "    .dataframe tbody tr th:only-of-type {\n",
       "        vertical-align: middle;\n",
       "    }\n",
       "\n",
       "    .dataframe tbody tr th {\n",
       "        vertical-align: top;\n",
       "    }\n",
       "\n",
       "    .dataframe thead th {\n",
       "        text-align: right;\n",
       "    }\n",
       "</style>\n",
       "<table border=\"1\" class=\"dataframe\">\n",
       "  <thead>\n",
       "    <tr style=\"text-align: right;\">\n",
       "      <th></th>\n",
       "      <th>0</th>\n",
       "      <th>1</th>\n",
       "      <th>2</th>\n",
       "      <th>3</th>\n",
       "      <th>4</th>\n",
       "      <th>5</th>\n",
       "      <th>6</th>\n",
       "      <th>7</th>\n",
       "      <th>8</th>\n",
       "      <th>9</th>\n",
       "      <th>10</th>\n",
       "    </tr>\n",
       "  </thead>\n",
       "  <tbody>\n",
       "    <tr>\n",
       "      <th>0</th>\n",
       "      <td>5</td>\n",
       "      <td>7</td>\n",
       "      <td>35</td>\n",
       "      <td>1.400</td>\n",
       "      <td>0.400</td>\n",
       "      <td>0.657</td>\n",
       "      <td>2.33</td>\n",
       "      <td>14</td>\n",
       "      <td>23</td>\n",
       "      <td>6</td>\n",
       "      <td>1</td>\n",
       "    </tr>\n",
       "    <tr>\n",
       "      <th>1</th>\n",
       "      <td>6</td>\n",
       "      <td>7</td>\n",
       "      <td>42</td>\n",
       "      <td>1.167</td>\n",
       "      <td>0.429</td>\n",
       "      <td>0.881</td>\n",
       "      <td>3.60</td>\n",
       "      <td>18</td>\n",
       "      <td>37</td>\n",
       "      <td>5</td>\n",
       "      <td>1</td>\n",
       "    </tr>\n",
       "    <tr>\n",
       "      <th>2</th>\n",
       "      <td>6</td>\n",
       "      <td>18</td>\n",
       "      <td>108</td>\n",
       "      <td>3.000</td>\n",
       "      <td>0.287</td>\n",
       "      <td>0.741</td>\n",
       "      <td>4.43</td>\n",
       "      <td>31</td>\n",
       "      <td>80</td>\n",
       "      <td>7</td>\n",
       "      <td>1</td>\n",
       "    </tr>\n",
       "    <tr>\n",
       "      <th>3</th>\n",
       "      <td>5</td>\n",
       "      <td>7</td>\n",
       "      <td>35</td>\n",
       "      <td>1.400</td>\n",
       "      <td>0.371</td>\n",
       "      <td>0.743</td>\n",
       "      <td>4.33</td>\n",
       "      <td>13</td>\n",
       "      <td>26</td>\n",
       "      <td>3</td>\n",
       "      <td>1</td>\n",
       "    </tr>\n",
       "    <tr>\n",
       "      <th>4</th>\n",
       "      <td>6</td>\n",
       "      <td>3</td>\n",
       "      <td>18</td>\n",
       "      <td>0.500</td>\n",
       "      <td>0.500</td>\n",
       "      <td>0.944</td>\n",
       "      <td>2.25</td>\n",
       "      <td>9</td>\n",
       "      <td>17</td>\n",
       "      <td>4</td>\n",
       "      <td>1</td>\n",
       "    </tr>\n",
       "  </tbody>\n",
       "</table>\n",
       "</div>"
      ],
      "text/plain": [
       "   0   1    2      3      4      5     6   7   8   9   10\n",
       "0   5   7   35  1.400  0.400  0.657  2.33  14  23   6   1\n",
       "1   6   7   42  1.167  0.429  0.881  3.60  18  37   5   1\n",
       "2   6  18  108  3.000  0.287  0.741  4.43  31  80   7   1\n",
       "3   5   7   35  1.400  0.371  0.743  4.33  13  26   3   1\n",
       "4   6   3   18  0.500  0.500  0.944  2.25   9  17   4   1"
      ]
     },
     "execution_count": 31,
     "metadata": {},
     "output_type": "execute_result"
    }
   ],
   "source": [
    "train = pd.read_table(\"page-blocks.data\", sep=\"\\s+\",header=None)\n",
    "train.head()"
   ]
  },
  {
   "cell_type": "code",
   "execution_count": 32,
   "metadata": {},
   "outputs": [
    {
     "name": "stdout",
     "output_type": "stream",
     "text": [
      "0      -1\n",
      "1      -1\n",
      "2      -1\n",
      "3      -1\n",
      "4      -1\n",
      "5      -1\n",
      "6      -1\n",
      "7      -1\n",
      "8      -1\n",
      "9      -1\n",
      "10     -1\n",
      "11     -1\n",
      "12     -1\n",
      "13     -1\n",
      "14     -1\n",
      "15     -1\n",
      "16     -1\n",
      "17     -1\n",
      "18     -1\n",
      "19     -1\n",
      "20     -1\n",
      "21     -1\n",
      "22     -1\n",
      "23     -1\n",
      "24     -1\n",
      "25     -1\n",
      "26     -1\n",
      "27     -1\n",
      "28     -1\n",
      "29     -1\n",
      "       ..\n",
      "5443   -1\n",
      "5444   -1\n",
      "5445   -1\n",
      "5446   -1\n",
      "5447   -1\n",
      "5448   -1\n",
      "5449   -1\n",
      "5450   -1\n",
      "5451   -1\n",
      "5452   -1\n",
      "5453   -1\n",
      "5454   -1\n",
      "5455   -1\n",
      "5456   -1\n",
      "5457   -1\n",
      "5458   -1\n",
      "5459   -1\n",
      "5460   -1\n",
      "5461   -1\n",
      "5462   -1\n",
      "5463   -1\n",
      "5464   -1\n",
      "5465   -1\n",
      "5466   -1\n",
      "5467   -1\n",
      "5468   -1\n",
      "5469   -1\n",
      "5470   -1\n",
      "5471   -1\n",
      "5472   -1\n",
      "Name: 10, Length: 5473, dtype: int64\n"
     ]
    }
   ],
   "source": [
    "train[10] = train[10].map({5: 1, 1:-1,2:-1,3:-1,4:-1})\n",
    "print(train[10])"
   ]
  },
  {
   "cell_type": "code",
   "execution_count": 33,
   "metadata": {},
   "outputs": [],
   "source": [
    "train=np.asarray(train)"
   ]
  },
  {
   "cell_type": "code",
   "execution_count": 34,
   "metadata": {},
   "outputs": [],
   "source": [
    "min_train=np.zeros((115,11))\n",
    "max_train=np.zeros((5358,11))\n",
    "min_train=np.asarray(min_train)\n",
    "max_train=np.asarray(max_train)"
   ]
  },
  {
   "cell_type": "code",
   "execution_count": 62,
   "metadata": {},
   "outputs": [],
   "source": [
    "k=0\n",
    "l=0\n",
    "for i in range(0,5473):\n",
    "    if(train[i][10]==1):\n",
    "        for j in range(0,11):\n",
    "            min_train[k][j]=train[i][j]   \n",
    "        k=k+1\n",
    "    else :\n",
    "        for j in range(0,11):\n",
    "            max_train[l][j]=train[i][j]\n",
    "        l=l+1"
   ]
  },
  {
   "cell_type": "code",
   "execution_count": 63,
   "metadata": {},
   "outputs": [
    {
     "name": "stdout",
     "output_type": "stream",
     "text": [
      "[[  5.   7.  35. ...  23.   6.  -1.]\n",
      " [  6.   7.  42. ...  37.   5.  -1.]\n",
      " [  6.  18. 108. ...  80.   7.  -1.]\n",
      " ...\n",
      " [  6.  95. 570. ... 519. 104.  -1.]\n",
      " [  7.  41. 287. ... 230.  45.  -1.]\n",
      " [  8.   1.   8. ...   8.   1.  -1.]]\n"
     ]
    }
   ],
   "source": [
    "print(max_train)"
   ]
  },
  {
   "cell_type": "code",
   "execution_count": 64,
   "metadata": {},
   "outputs": [],
   "source": [
    "data1=np.zeros((1094,11))\n",
    "data2=np.zeros((1094,11))\n",
    "data3=np.zeros((1095,11))\n",
    "data4=np.zeros((1095,11))\n",
    "data5=np.zeros((1095,11))"
   ]
  },
  {
   "cell_type": "code",
   "execution_count": null,
   "metadata": {},
   "outputs": [],
   "source": []
  },
  {
   "cell_type": "code",
   "execution_count": 65,
   "metadata": {},
   "outputs": [
    {
     "name": "stdout",
     "output_type": "stream",
     "text": [
      "[0. 0. 0. 0. 0. 0. 0. 0. 0. 0. 0.]\n"
     ]
    }
   ],
   "source": [
    "for i in range(0,115):\n",
    "    for j in range(0,11):\n",
    "        if(i<23):\n",
    "            data1[i][j]=min_train[i][j]\n",
    "        elif(22<i and i<46):\n",
    "            data2[i-23][j]=min_train[i][j]\n",
    "        elif(45<i and i<69):\n",
    "            data3[i-46][j]=min_train[i][j]\n",
    "        elif(68<i and i<92):\n",
    "            data4[i-69][j]=min_train[i][j]\n",
    "        elif(91<i and i<115):\n",
    "            data5[i-92][j]=min_train[i][j]\n",
    "    \n",
    "        \n",
    "print(data5[24])"
   ]
  },
  {
   "cell_type": "code",
   "execution_count": 66,
   "metadata": {},
   "outputs": [
    {
     "name": "stdout",
     "output_type": "stream",
     "text": [
      "[  9.     33.    297.      3.667   0.347   0.929   2.58  103.    276.\n",
      "  40.     -1.   ]\n"
     ]
    }
   ],
   "source": [
    "for i in range(0,5358):\n",
    "    for j in range(0,11):\n",
    "        if(i<1071):\n",
    "            data1[i+23][j]=max_train[i][j]\n",
    "        elif(1070<i and i<2142):\n",
    "            data2[i-1048][j]=max_train[i][j]\n",
    "        elif(2141<i and i<3214):\n",
    "            data3[i-2119][j]=max_train[i][j]\n",
    "        elif(3213<i and i<4286):\n",
    "            data4[i-3191][j]=max_train[i][j]\n",
    "        elif(4285<i and i<5358):\n",
    "            data5[i-4263][j]=max_train[i][j]   \n",
    "print(data5[1000])"
   ]
  },
  {
   "cell_type": "code",
   "execution_count": 67,
   "metadata": {},
   "outputs": [
    {
     "name": "stdout",
     "output_type": "stream",
     "text": [
      "(1095, 11)\n"
     ]
    },
    {
     "data": {
      "text/plain": [
       "array([[ 1.010e+02,  9.900e+01,  9.999e+03, ...,  7.780e+03,  6.910e+02,\n",
       "         1.000e+00],\n",
       "       [ 3.000e+01,  6.000e+01,  1.800e+03, ...,  8.230e+02,  1.500e+02,\n",
       "         1.000e+00],\n",
       "       [ 3.200e+01,  1.060e+02,  3.392e+03, ...,  1.341e+03,  1.470e+02,\n",
       "         1.000e+00],\n",
       "       ...,\n",
       "       [ 6.000e+00,  9.500e+01,  5.700e+02, ...,  5.190e+02,  1.040e+02,\n",
       "        -1.000e+00],\n",
       "       [ 7.000e+00,  4.100e+01,  2.870e+02, ...,  2.300e+02,  4.500e+01,\n",
       "        -1.000e+00],\n",
       "       [ 8.000e+00,  1.000e+00,  8.000e+00, ...,  8.000e+00,  1.000e+00,\n",
       "        -1.000e+00]])"
      ]
     },
     "execution_count": 67,
     "metadata": {},
     "output_type": "execute_result"
    }
   ],
   "source": [
    "print(data5.shape)\n",
    "data5"
   ]
  },
  {
   "cell_type": "code",
   "execution_count": 68,
   "metadata": {},
   "outputs": [],
   "source": [
    "import csv\n",
    "with open('newab.csv', 'w') as csvFile:\n",
    "    writer = csv.writer(csvFile)\n",
    "    writer.writerows(data1)\n",
    "\n",
    "csvFile.close()"
   ]
  },
  {
   "cell_type": "code",
   "execution_count": 69,
   "metadata": {},
   "outputs": [],
   "source": [
    "import csv\n",
    "with open('newab.csv', 'a') as csvFile:\n",
    "    writer = csv.writer(csvFile)\n",
    "    writer.writerows(data2)\n",
    "\n",
    "csvFile.close()"
   ]
  },
  {
   "cell_type": "code",
   "execution_count": 70,
   "metadata": {},
   "outputs": [],
   "source": [
    "import csv\n",
    "with open('newab.csv', 'a') as csvFile:\n",
    "    writer = csv.writer(csvFile)\n",
    "    writer.writerows(data3)\n",
    "\n",
    "csvFile.close()"
   ]
  },
  {
   "cell_type": "code",
   "execution_count": 71,
   "metadata": {},
   "outputs": [],
   "source": [
    "import csv\n",
    "with open('newab.csv', 'a') as csvFile:\n",
    "    writer = csv.writer(csvFile)\n",
    "    writer.writerows(data4)\n",
    "\n",
    "csvFile.close()"
   ]
  },
  {
   "cell_type": "code",
   "execution_count": 72,
   "metadata": {},
   "outputs": [],
   "source": [
    "import csv\n",
    "with open('newab.csv', 'a') as csvFile:\n",
    "    writer = csv.writer(csvFile)\n",
    "    writer.writerows(data5)\n",
    "\n",
    "csvFile.close()"
   ]
  },
  {
   "cell_type": "code",
   "execution_count": 73,
   "metadata": {},
   "outputs": [
    {
     "name": "stdout",
     "output_type": "stream",
     "text": [
      "48.0       0\n",
      "402.0      0\n",
      "19296.0    0\n",
      "8.375      0\n",
      "0.055      0\n",
      "0.094      0\n",
      "4.13       0\n",
      "1058.0     0\n",
      "1814.0     0\n",
      "256.0      0\n",
      "1.0        0\n",
      "dtype: int64\n"
     ]
    }
   ],
   "source": [
    "df = pd.read_csv(\"newab.csv\")\n",
    "#checking the number of empty rows in th csv file\n",
    "print (df.isnull().sum())\n",
    "#Droping the empty rows\n",
    "modifiedDF = df.dropna()\n",
    "#Saving it to the csv file \n",
    "modifiedDF.to_csv('modifiedpage.csv',index=False)"
   ]
  },
  {
   "cell_type": "code",
   "execution_count": null,
   "metadata": {},
   "outputs": [],
   "source": []
  }
 ],
 "metadata": {
  "kernelspec": {
   "display_name": "Python 3",
   "language": "python",
   "name": "python3"
  },
  "language_info": {
   "codemirror_mode": {
    "name": "ipython",
    "version": 3
   },
   "file_extension": ".py",
   "mimetype": "text/x-python",
   "name": "python",
   "nbconvert_exporter": "python",
   "pygments_lexer": "ipython3",
   "version": "3.6.5"
  }
 },
 "nbformat": 4,
 "nbformat_minor": 2
}
