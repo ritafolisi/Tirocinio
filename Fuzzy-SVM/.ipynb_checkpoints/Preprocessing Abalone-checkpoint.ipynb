{
 "cells": [
  {
   "cell_type": "markdown",
   "metadata": {},
   "source": [
    "# ADITYA SAHU"
   ]
  },
  {
   "cell_type": "markdown",
   "metadata": {},
   "source": [
    "# Pre processing of Abalone dataset to make imbalance ratio of training and testing same"
   ]
  },
  {
   "cell_type": "code",
   "execution_count": 1,
   "metadata": {},
   "outputs": [],
   "source": [
    "import numpy as np\n",
    "from numpy import linalg\n",
    "import pandas as pd"
   ]
  },
  {
   "cell_type": "code",
   "execution_count": 2,
   "metadata": {},
   "outputs": [
    {
     "data": {
      "text/html": [
       "<div>\n",
       "<style scoped>\n",
       "    .dataframe tbody tr th:only-of-type {\n",
       "        vertical-align: middle;\n",
       "    }\n",
       "\n",
       "    .dataframe tbody tr th {\n",
       "        vertical-align: top;\n",
       "    }\n",
       "\n",
       "    .dataframe thead th {\n",
       "        text-align: right;\n",
       "    }\n",
       "</style>\n",
       "<table border=\"1\" class=\"dataframe\">\n",
       "  <thead>\n",
       "    <tr style=\"text-align: right;\">\n",
       "      <th></th>\n",
       "      <th>sex</th>\n",
       "      <th>length</th>\n",
       "      <th>diameter</th>\n",
       "      <th>height</th>\n",
       "      <th>weight.w</th>\n",
       "      <th>weight.s</th>\n",
       "      <th>weight.v</th>\n",
       "      <th>weight.sh</th>\n",
       "      <th>rings</th>\n",
       "    </tr>\n",
       "  </thead>\n",
       "  <tbody>\n",
       "    <tr>\n",
       "      <th>0</th>\n",
       "      <td>M</td>\n",
       "      <td>0.455</td>\n",
       "      <td>0.365</td>\n",
       "      <td>0.095</td>\n",
       "      <td>0.5140</td>\n",
       "      <td>0.2245</td>\n",
       "      <td>0.1010</td>\n",
       "      <td>0.150</td>\n",
       "      <td>15</td>\n",
       "    </tr>\n",
       "    <tr>\n",
       "      <th>1</th>\n",
       "      <td>M</td>\n",
       "      <td>0.350</td>\n",
       "      <td>0.265</td>\n",
       "      <td>0.090</td>\n",
       "      <td>0.2255</td>\n",
       "      <td>0.0995</td>\n",
       "      <td>0.0485</td>\n",
       "      <td>0.070</td>\n",
       "      <td>7</td>\n",
       "    </tr>\n",
       "    <tr>\n",
       "      <th>2</th>\n",
       "      <td>F</td>\n",
       "      <td>0.530</td>\n",
       "      <td>0.420</td>\n",
       "      <td>0.135</td>\n",
       "      <td>0.6770</td>\n",
       "      <td>0.2565</td>\n",
       "      <td>0.1415</td>\n",
       "      <td>0.210</td>\n",
       "      <td>9</td>\n",
       "    </tr>\n",
       "    <tr>\n",
       "      <th>3</th>\n",
       "      <td>M</td>\n",
       "      <td>0.440</td>\n",
       "      <td>0.365</td>\n",
       "      <td>0.125</td>\n",
       "      <td>0.5160</td>\n",
       "      <td>0.2155</td>\n",
       "      <td>0.1140</td>\n",
       "      <td>0.155</td>\n",
       "      <td>10</td>\n",
       "    </tr>\n",
       "    <tr>\n",
       "      <th>4</th>\n",
       "      <td>I</td>\n",
       "      <td>0.330</td>\n",
       "      <td>0.255</td>\n",
       "      <td>0.080</td>\n",
       "      <td>0.2050</td>\n",
       "      <td>0.0895</td>\n",
       "      <td>0.0395</td>\n",
       "      <td>0.055</td>\n",
       "      <td>7</td>\n",
       "    </tr>\n",
       "  </tbody>\n",
       "</table>\n",
       "</div>"
      ],
      "text/plain": [
       "  sex  length  diameter  height  weight.w  weight.s  weight.v  weight.sh  \\\n",
       "0   M   0.455     0.365   0.095    0.5140    0.2245    0.1010      0.150   \n",
       "1   M   0.350     0.265   0.090    0.2255    0.0995    0.0485      0.070   \n",
       "2   F   0.530     0.420   0.135    0.6770    0.2565    0.1415      0.210   \n",
       "3   M   0.440     0.365   0.125    0.5160    0.2155    0.1140      0.155   \n",
       "4   I   0.330     0.255   0.080    0.2050    0.0895    0.0395      0.055   \n",
       "\n",
       "   rings  \n",
       "0     15  \n",
       "1      7  \n",
       "2      9  \n",
       "3     10  \n",
       "4      7  "
      ]
     },
     "execution_count": 2,
     "metadata": {},
     "output_type": "execute_result"
    }
   ],
   "source": [
    "train = pd.read_csv(\"Abalone.csv\")\n",
    "train.head()"
   ]
  },
  {
   "cell_type": "code",
   "execution_count": 3,
   "metadata": {},
   "outputs": [],
   "source": [
    "train=train.replace(to_replace=['M', 'F', 'I'], value=[1, 2, 3])"
   ]
  },
  {
   "cell_type": "code",
   "execution_count": 4,
   "metadata": {},
   "outputs": [
    {
     "name": "stdout",
     "output_type": "stream",
     "text": [
      "0       1\n",
      "1      -1\n",
      "2      -1\n",
      "3      -1\n",
      "4      -1\n",
      "5      -1\n",
      "6      -1\n",
      "7      -1\n",
      "8      -1\n",
      "9      -1\n",
      "10     -1\n",
      "11     -1\n",
      "12     -1\n",
      "13     -1\n",
      "14     -1\n",
      "15     -1\n",
      "16     -1\n",
      "17     -1\n",
      "18     -1\n",
      "19     -1\n",
      "20     -1\n",
      "21     -1\n",
      "22     -1\n",
      "23     -1\n",
      "24     -1\n",
      "25     -1\n",
      "26     -1\n",
      "27     -1\n",
      "28      1\n",
      "29     -1\n",
      "       ..\n",
      "4147   -1\n",
      "4148   -1\n",
      "4149   -1\n",
      "4150   -1\n",
      "4151   -1\n",
      "4152   -1\n",
      "4153   -1\n",
      "4154   -1\n",
      "4155   -1\n",
      "4156   -1\n",
      "4157   -1\n",
      "4158   -1\n",
      "4159   -1\n",
      "4160   -1\n",
      "4161   -1\n",
      "4162   -1\n",
      "4163   -1\n",
      "4164   -1\n",
      "4165   -1\n",
      "4166   -1\n",
      "4167   -1\n",
      "4168   -1\n",
      "4169   -1\n",
      "4170   -1\n",
      "4171   -1\n",
      "4172   -1\n",
      "4173   -1\n",
      "4174   -1\n",
      "4175   -1\n",
      "4176   -1\n",
      "Name: rings, Length: 4177, dtype: int64\n"
     ]
    }
   ],
   "source": [
    "train['rings'] = train['rings'].map({15: 1, 1:-1,2:-1,3:-1,4:-1,5:-1,6:-1,7:-1,8:-1,9:-1,10:-1,11:-1,12:-1,13:-1,14:-1,16:-1,17:-1,18:-1,19:-1,20:-1,21:-1,22:-1,23:-1,24:-1,25:-1,26:-1,27:-1,28:-1,29:-1})\n",
    "print(train['rings'])"
   ]
  },
  {
   "cell_type": "code",
   "execution_count": 5,
   "metadata": {},
   "outputs": [],
   "source": [
    "train=np.asarray(train)"
   ]
  },
  {
   "cell_type": "code",
   "execution_count": 6,
   "metadata": {},
   "outputs": [],
   "source": [
    "min_train=np.zeros((103,9))\n",
    "max_train=np.zeros((4074,9))\n",
    "min_train=np.asarray(min_train)\n",
    "max_train=np.asarray(max_train)"
   ]
  },
  {
   "cell_type": "code",
   "execution_count": 7,
   "metadata": {},
   "outputs": [],
   "source": [
    "k=0\n",
    "l=0\n",
    "for i in range(0,4177):\n",
    "    if(train[i][8]==1):\n",
    "        for j in range(0,9):\n",
    "            min_train[k][j]=train[i][j]   \n",
    "        k=k+1\n",
    "    else :\n",
    "        for j in range(0,9):\n",
    "            max_train[l][j]=train[i][j]\n",
    "        l=l+1"
   ]
  },
  {
   "cell_type": "code",
   "execution_count": 8,
   "metadata": {},
   "outputs": [
    {
     "name": "stdout",
     "output_type": "stream",
     "text": [
      "[[1.     0.455  0.365  0.095  0.514  0.2245 0.101  0.15   1.    ]\n",
      " [1.     0.605  0.475  0.18   0.9365 0.394  0.219  0.295  1.    ]\n",
      " [2.     0.68   0.56   0.165  1.639  0.6055 0.2805 0.46   1.    ]\n",
      " [2.     0.6    0.475  0.15   1.0075 0.4425 0.221  0.28   1.    ]\n",
      " [1.     0.565  0.425  0.135  0.8115 0.341  0.1675 0.255  1.    ]\n",
      " [1.     0.695  0.56   0.19   1.494  0.588  0.3425 0.485  1.    ]\n",
      " [1.     0.55   0.435  0.145  0.843  0.328  0.1915 0.255  1.    ]\n",
      " [1.     0.53   0.435  0.16   0.883  0.316  0.164  0.335  1.    ]\n",
      " [1.     0.59   0.475  0.145  1.053  0.4415 0.262  0.325  1.    ]\n",
      " [1.     0.56   0.45   0.16   0.922  0.432  0.178  0.26   1.    ]\n",
      " [2.     0.53   0.415  0.16   0.783  0.2935 0.158  0.245  1.    ]\n",
      " [2.     0.575  0.46   0.185  1.094  0.4485 0.217  0.345  1.    ]\n",
      " [1.     0.6    0.495  0.165  1.2415 0.485  0.2775 0.34   1.    ]\n",
      " [1.     0.56   0.45   0.175  1.011  0.3835 0.2065 0.37   1.    ]\n",
      " [2.     0.635  0.505  0.17   1.415  0.605  0.297  0.365  1.    ]\n",
      " [1.     0.63   0.505  0.225  1.525  0.56   0.3335 0.45   1.    ]\n",
      " [2.     0.535  0.415  0.185  0.8415 0.314  0.1585 0.3    1.    ]\n",
      " [1.     0.61   0.475  0.165  1.116  0.428  0.2205 0.315  1.    ]\n",
      " [2.     0.565  0.45   0.195  1.0035 0.406  0.2505 0.285  1.    ]\n",
      " [1.     0.565  0.465  0.175  0.995  0.3895 0.183  0.37   1.    ]\n",
      " [1.     0.605  0.47   0.18   1.1405 0.3755 0.2805 0.385  1.    ]\n",
      " [1.     0.59   0.5    0.165  1.1045 0.4565 0.2425 0.34   1.    ]\n",
      " [2.     0.62   0.47   0.14   1.0325 0.3605 0.224  0.36   1.    ]\n",
      " [2.     0.64   0.54   0.175  1.221  0.51   0.259  0.39   1.    ]\n",
      " [1.     0.57   0.465  0.125  0.849  0.3785 0.1765 0.24   1.    ]\n",
      " [2.     0.625  0.515  0.15   1.2415 0.5235 0.3065 0.36   1.    ]\n",
      " [1.     0.655  0.53   0.175  1.2635 0.486  0.2635 0.415  1.    ]\n",
      " [2.     0.625  0.5    0.15   0.953  0.3445 0.2235 0.305  1.    ]\n",
      " [2.     0.62   0.47   0.225  1.115  0.378  0.2145 0.36   1.    ]\n",
      " [1.     0.6    0.47   0.175  1.105  0.4865 0.247  0.315  1.    ]\n",
      " [1.     0.585  0.455  0.225  1.055  0.3815 0.221  0.365  1.    ]\n",
      " [2.     0.5    0.375  0.14   0.604  0.242  0.1415 0.179  1.    ]\n",
      " [1.     0.42   0.325  0.115  0.2885 0.1    0.057  0.1135 1.    ]\n",
      " [3.     0.45   0.35   0.145  0.525  0.2085 0.1    0.1655 1.    ]\n",
      " [3.     0.465  0.36   0.105  0.498  0.214  0.116  0.14   1.    ]\n",
      " [2.     0.485  0.38   0.15   0.605  0.2155 0.14   0.18   1.    ]\n",
      " [1.     0.565  0.44   0.185  0.909  0.344  0.2325 0.255  1.    ]\n",
      " [1.     0.555  0.44   0.15   1.092  0.416  0.212  0.4405 1.    ]\n",
      " [1.     0.525  0.41   0.13   0.99   0.3865 0.243  0.295  1.    ]\n",
      " [2.     0.52   0.4    0.12   0.6515 0.261  0.2015 0.165  1.    ]\n",
      " [1.     0.52   0.4    0.12   0.823  0.298  0.1805 0.265  1.    ]\n",
      " [1.     0.695  0.515  0.175  1.5165 0.578  0.4105 0.39   1.    ]\n",
      " [2.     0.605  0.495  0.19   1.437  0.469  0.2655 0.41   1.    ]\n",
      " [1.     0.57   0.43   0.12   1.0615 0.348  0.167  0.31   1.    ]\n",
      " [1.     0.585  0.405  0.15   1.2565 0.435  0.202  0.325  1.    ]\n",
      " [1.     0.505  0.385  0.145  0.6775 0.236  0.179  0.2    1.    ]\n",
      " [1.     0.465  0.35   0.14   0.5755 0.2015 0.1505 0.19   1.    ]\n",
      " [2.     0.47   0.36   0.145  0.537  0.1725 0.1375 0.195  1.    ]\n",
      " [1.     0.55   0.415  0.175  1.042  0.3295 0.2325 0.2905 1.    ]\n",
      " [1.     0.515  0.405  0.145  0.695  0.215  0.1635 0.234  1.    ]\n",
      " [2.     0.48   0.4    0.125  0.759  0.2125 0.179  0.24   1.    ]\n",
      " [1.     0.66   0.53   0.17   1.3905 0.5905 0.212  0.453  1.    ]\n",
      " [1.     0.64   0.565  0.23   1.521  0.644  0.372  0.406  1.    ]\n",
      " [2.     0.7    0.535  0.175  1.773  0.6805 0.48   0.512  1.    ]\n",
      " [1.     0.62   0.495  0.195  1.5145 0.579  0.346  0.5195 1.    ]\n",
      " [2.     0.675  0.55   0.18   1.6885 0.562  0.3705 0.6    1.    ]\n",
      " [2.     0.595  0.48   0.2    0.975  0.358  0.2035 0.34   1.    ]\n",
      " [1.     0.645  0.495  0.185  1.4935 0.5265 0.2785 0.455  1.    ]\n",
      " [2.     0.56   0.435  0.185  1.106  0.422  0.2435 0.33   1.    ]\n",
      " [2.     0.61   0.48   0.175  1.0675 0.391  0.216  0.42   1.    ]\n",
      " [1.     0.635  0.51   0.21   1.598  0.6535 0.2835 0.58   1.    ]\n",
      " [1.     0.695  0.57   0.2    2.033  0.751  0.4255 0.685  1.    ]\n",
      " [2.     0.505  0.395  0.145  0.6515 0.2695 0.153  0.205  1.    ]\n",
      " [2.     0.525  0.425  0.145  0.7995 0.3345 0.209  0.24   1.    ]\n",
      " [3.     0.48   0.39   0.145  0.5825 0.2315 0.121  0.255  1.    ]\n",
      " [1.     0.59   0.46   0.155  0.906  0.327  0.1485 0.335  1.    ]\n",
      " [2.     0.6    0.47   0.2    1.031  0.392  0.2035 0.29   1.    ]\n",
      " [1.     0.65   0.545  0.16   1.2425 0.487  0.296  0.48   1.    ]\n",
      " [3.     0.555  0.455  0.17   0.8435 0.309  0.1905 0.3    1.    ]\n",
      " [3.     0.655  0.515  0.145  1.25   0.5265 0.283  0.315  1.    ]\n",
      " [3.     0.62   0.485  0.17   1.208  0.4805 0.3045 0.33   1.    ]\n",
      " [3.     0.52   0.415  0.16   0.595  0.2105 0.142  0.26   1.    ]\n",
      " [1.     0.49   0.39   0.135  0.592  0.242  0.096  0.1835 1.    ]\n",
      " [2.     0.52   0.4    0.13   0.6245 0.215  0.2065 0.17   1.    ]\n",
      " [1.     0.495  0.4    0.14   0.7775 0.2015 0.18   0.25   1.    ]\n",
      " [1.     0.66   0.535  0.2    1.791  0.733  0.318  0.54   1.    ]\n",
      " [1.     0.65   0.52   0.195  1.676  0.693  0.44   0.47   1.    ]\n",
      " [1.     0.64   0.49   0.14   1.194  0.4445 0.238  0.375  1.    ]\n",
      " [1.     0.605  0.49   0.155  1.153  0.503  0.2505 0.295  1.    ]\n",
      " [1.     0.605  0.47   0.115  1.114  0.3925 0.291  0.31   1.    ]\n",
      " [2.     0.505  0.41   0.135  0.657  0.291  0.133  0.195  1.    ]\n",
      " [2.     0.665  0.53   0.185  1.3955 0.456  0.3205 0.49   1.    ]\n",
      " [3.     0.48   0.38   0.125  0.523  0.2105 0.1045 0.175  1.    ]\n",
      " [2.     0.69   0.54   0.185  1.5715 0.6935 0.318  0.47   1.    ]\n",
      " [1.     0.555  0.435  0.135  0.858  0.377  0.1585 0.29   1.    ]\n",
      " [1.     0.635  0.48   0.19   1.467  0.5825 0.303  0.42   1.    ]\n",
      " [2.     0.61   0.495  0.19   1.213  0.464  0.306  0.365  1.    ]\n",
      " [2.     0.465  0.39   0.14   0.5555 0.213  0.1075 0.215  1.    ]\n",
      " [2.     0.605  0.475  0.145  1.0185 0.4695 0.225  0.27   1.    ]\n",
      " [1.     0.535  0.42   0.16   0.72   0.275  0.164  0.225  1.    ]\n",
      " [2.     0.71   0.575  0.175  1.555  0.6465 0.3705 0.52   1.    ]\n",
      " [2.     0.48   0.37   0.13   0.5885 0.2475 0.1505 0.1595 1.    ]\n",
      " [3.     0.66   0.525  0.18   1.6935 0.6025 0.4005 0.42   1.    ]\n",
      " [2.     0.52   0.405  0.145  0.829  0.3535 0.1685 0.205  1.    ]\n",
      " [1.     0.495  0.4    0.12   0.6605 0.2605 0.161  0.19   1.    ]\n",
      " [2.     0.5    0.39   0.13   0.6355 0.2505 0.1635 0.195  1.    ]\n",
      " [1.     0.545  0.44   0.165  0.744  0.2875 0.204  0.25   1.    ]\n",
      " [2.     0.645  0.5    0.225  1.626  0.587  0.4055 0.41   1.    ]\n",
      " [2.     0.61   0.49   0.17   1.1775 0.5655 0.2385 0.295  1.    ]\n",
      " [2.     0.67   0.545  0.16   1.5415 0.5985 0.2565 0.495  1.    ]\n",
      " [1.     0.445  0.345  0.14   0.476  0.2055 0.1015 0.1085 1.    ]\n",
      " [3.     0.52   0.405  0.14   0.6765 0.2865 0.146  0.205  1.    ]\n",
      " [2.     0.54   0.44   0.16   1.0905 0.391  0.2295 0.355  1.    ]]\n"
     ]
    }
   ],
   "source": [
    "print(min_train)"
   ]
  },
  {
   "cell_type": "code",
   "execution_count": 14,
   "metadata": {},
   "outputs": [],
   "source": [
    "data1=np.zeros((834,9))\n",
    "data2=np.zeros((835,9))\n",
    "data3=np.zeros((836,9))\n",
    "data4=np.zeros((836,9))\n",
    "data5=np.zeros((836,9))"
   ]
  },
  {
   "cell_type": "code",
   "execution_count": null,
   "metadata": {},
   "outputs": [],
   "source": []
  },
  {
   "cell_type": "code",
   "execution_count": 16,
   "metadata": {},
   "outputs": [
    {
     "name": "stdout",
     "output_type": "stream",
     "text": [
      "[2.     0.54   0.44   0.16   1.0905 0.391  0.2295 0.355  1.    ]\n"
     ]
    }
   ],
   "source": [
    "for i in range(0,103):\n",
    "    for j in range(0,9):\n",
    "        if(i<20):\n",
    "            data1[i][j]=min_train[i][j]\n",
    "        elif(19<i and i<40):\n",
    "            data2[i-20][j]=min_train[i][j]\n",
    "        elif(39<i and i<61):\n",
    "            data3[i-40][j]=min_train[i][j]\n",
    "        elif(60<i and i<82):\n",
    "            data4[i-61][j]=min_train[i][j]\n",
    "        elif(81<i and i<103):\n",
    "            data5[i-82][j]=min_train[i][j]\n",
    "    \n",
    "        \n",
    "print(data5[20])"
   ]
  },
  {
   "cell_type": "code",
   "execution_count": 19,
   "metadata": {},
   "outputs": [
    {
     "name": "stdout",
     "output_type": "stream",
     "text": [
      "[3.     0.48   0.38   0.125  0.523  0.2105 0.1045 0.175  1.    ]\n"
     ]
    }
   ],
   "source": [
    "for i in range(0,4074):\n",
    "    for j in range(0,9):\n",
    "        if(i<814):\n",
    "            data1[i+20][j]=max_train[i][j]\n",
    "        elif(813<i and i<1629):\n",
    "            data2[i-794][j]=max_train[i][j]\n",
    "        elif(1628<i and i<2444):\n",
    "            data3[i-1608][j]=max_train[i][j]\n",
    "        elif(2443<i and i<3259):\n",
    "            data4[i-2423][j]=max_train[i][j]\n",
    "        elif(3258<i and i<4074):\n",
    "            data5[i-3238][j]=max_train[i][j]   \n",
    "print(data5[0])"
   ]
  },
  {
   "cell_type": "code",
   "execution_count": 20,
   "metadata": {},
   "outputs": [
    {
     "name": "stdout",
     "output_type": "stream",
     "text": [
      "(836, 9)\n"
     ]
    },
    {
     "data": {
      "text/plain": [
       "array([[ 3.    ,  0.48  ,  0.38  , ...,  0.1045,  0.175 ,  1.    ],\n",
       "       [ 2.    ,  0.69  ,  0.54  , ...,  0.318 ,  0.47  ,  1.    ],\n",
       "       [ 1.    ,  0.555 ,  0.435 , ...,  0.1585,  0.29  ,  1.    ],\n",
       "       ...,\n",
       "       [ 1.    ,  0.6   ,  0.475 , ...,  0.2875,  0.308 , -1.    ],\n",
       "       [ 2.    ,  0.625 ,  0.485 , ...,  0.261 ,  0.296 , -1.    ],\n",
       "       [ 1.    ,  0.71  ,  0.555 , ...,  0.3765,  0.495 , -1.    ]])"
      ]
     },
     "execution_count": 20,
     "metadata": {},
     "output_type": "execute_result"
    }
   ],
   "source": [
    "print(data5.shape)\n",
    "data5"
   ]
  },
  {
   "cell_type": "code",
   "execution_count": 22,
   "metadata": {},
   "outputs": [],
   "source": [
    "import csv\n",
    "with open('newab.csv', 'w') as csvFile:\n",
    "    writer = csv.writer(csvFile)\n",
    "    writer.writerows(data1)\n",
    "\n",
    "csvFile.close()"
   ]
  },
  {
   "cell_type": "code",
   "execution_count": 23,
   "metadata": {},
   "outputs": [],
   "source": [
    "import csv\n",
    "with open('newab.csv', 'a') as csvFile:\n",
    "    writer = csv.writer(csvFile)\n",
    "    writer.writerows(data2)\n",
    "\n",
    "csvFile.close()"
   ]
  },
  {
   "cell_type": "code",
   "execution_count": 24,
   "metadata": {},
   "outputs": [],
   "source": [
    "import csv\n",
    "with open('newab.csv', 'a') as csvFile:\n",
    "    writer = csv.writer(csvFile)\n",
    "    writer.writerows(data3)\n",
    "\n",
    "csvFile.close()"
   ]
  },
  {
   "cell_type": "code",
   "execution_count": 25,
   "metadata": {},
   "outputs": [],
   "source": [
    "import csv\n",
    "with open('newab.csv', 'a') as csvFile:\n",
    "    writer = csv.writer(csvFile)\n",
    "    writer.writerows(data4)\n",
    "\n",
    "csvFile.close()"
   ]
  },
  {
   "cell_type": "code",
   "execution_count": 26,
   "metadata": {},
   "outputs": [],
   "source": [
    "import csv\n",
    "with open('newab.csv', 'a') as csvFile:\n",
    "    writer = csv.writer(csvFile)\n",
    "    writer.writerows(data5)\n",
    "\n",
    "csvFile.close()"
   ]
  },
  {
   "cell_type": "code",
   "execution_count": 27,
   "metadata": {},
   "outputs": [
    {
     "name": "stdout",
     "output_type": "stream",
     "text": [
      "1.0                    0\n",
      "0.455                  0\n",
      "0.365                  0\n",
      "0.095                  0\n",
      "0.514                  0\n",
      "0.2245                 0\n",
      "0.10099999999999999    0\n",
      "0.15                   0\n",
      "1.0.1                  0\n",
      "dtype: int64\n"
     ]
    }
   ],
   "source": [
    "df = pd.read_csv(\"newab.csv\")\n",
    "#checking the number of empty rows in th csv file\n",
    "print (df.isnull().sum())\n",
    "#Droping the empty rows\n",
    "modifiedDF = df.dropna()\n",
    "#Saving it to the csv file \n",
    "modifiedDF.to_csv('modifiedabalone.csv',index=False)"
   ]
  },
  {
   "cell_type": "code",
   "execution_count": null,
   "metadata": {},
   "outputs": [],
   "source": []
  }
 ],
 "metadata": {
  "kernelspec": {
   "display_name": "Python 3",
   "language": "python",
   "name": "python3"
  },
  "language_info": {
   "codemirror_mode": {
    "name": "ipython",
    "version": 3
   },
   "file_extension": ".py",
   "mimetype": "text/x-python",
   "name": "python",
   "nbconvert_exporter": "python",
   "pygments_lexer": "ipython3",
   "version": "3.7.6"
  }
 },
 "nbformat": 4,
 "nbformat_minor": 2
}
