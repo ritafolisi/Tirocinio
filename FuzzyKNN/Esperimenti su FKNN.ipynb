{
 "cells": [
  {
   "cell_type": "code",
   "execution_count": 35,
   "metadata": {},
   "outputs": [],
   "source": [
    "from fknn import *\n",
    "import numpy as np"
   ]
  },
  {
   "cell_type": "code",
   "execution_count": 36,
   "metadata": {},
   "outputs": [],
   "source": [
    "import pandas as pd\n",
    "dataset = pd.read_csv(\"iris-virginica.csv\")"
   ]
  },
  {
   "cell_type": "code",
   "execution_count": 37,
   "metadata": {},
   "outputs": [
    {
     "data": {
      "text/html": [
       "<div>\n",
       "<style scoped>\n",
       "    .dataframe tbody tr th:only-of-type {\n",
       "        vertical-align: middle;\n",
       "    }\n",
       "\n",
       "    .dataframe tbody tr th {\n",
       "        vertical-align: top;\n",
       "    }\n",
       "\n",
       "    .dataframe thead th {\n",
       "        text-align: right;\n",
       "    }\n",
       "</style>\n",
       "<table border=\"1\" class=\"dataframe\">\n",
       "  <thead>\n",
       "    <tr style=\"text-align: right;\">\n",
       "      <th></th>\n",
       "      <th>species</th>\n",
       "      <th>sepal_length</th>\n",
       "      <th>sepal_width</th>\n",
       "      <th>petal_length</th>\n",
       "      <th>petal_width</th>\n",
       "    </tr>\n",
       "  </thead>\n",
       "  <tbody>\n",
       "    <tr>\n",
       "      <td>140</td>\n",
       "      <td>1</td>\n",
       "      <td>6.7</td>\n",
       "      <td>3.1</td>\n",
       "      <td>5.6</td>\n",
       "      <td>2.4</td>\n",
       "    </tr>\n",
       "    <tr>\n",
       "      <td>56</td>\n",
       "      <td>0</td>\n",
       "      <td>6.3</td>\n",
       "      <td>3.3</td>\n",
       "      <td>4.7</td>\n",
       "      <td>1.6</td>\n",
       "    </tr>\n",
       "    <tr>\n",
       "      <td>67</td>\n",
       "      <td>0</td>\n",
       "      <td>5.8</td>\n",
       "      <td>2.7</td>\n",
       "      <td>4.1</td>\n",
       "      <td>1.0</td>\n",
       "    </tr>\n",
       "    <tr>\n",
       "      <td>99</td>\n",
       "      <td>0</td>\n",
       "      <td>5.7</td>\n",
       "      <td>2.8</td>\n",
       "      <td>4.1</td>\n",
       "      <td>1.3</td>\n",
       "    </tr>\n",
       "    <tr>\n",
       "      <td>9</td>\n",
       "      <td>0</td>\n",
       "      <td>4.9</td>\n",
       "      <td>3.1</td>\n",
       "      <td>1.5</td>\n",
       "      <td>0.1</td>\n",
       "    </tr>\n",
       "    <tr>\n",
       "      <td>...</td>\n",
       "      <td>...</td>\n",
       "      <td>...</td>\n",
       "      <td>...</td>\n",
       "      <td>...</td>\n",
       "      <td>...</td>\n",
       "    </tr>\n",
       "    <tr>\n",
       "      <td>134</td>\n",
       "      <td>1</td>\n",
       "      <td>6.1</td>\n",
       "      <td>2.6</td>\n",
       "      <td>5.6</td>\n",
       "      <td>1.4</td>\n",
       "    </tr>\n",
       "    <tr>\n",
       "      <td>2</td>\n",
       "      <td>0</td>\n",
       "      <td>4.7</td>\n",
       "      <td>3.2</td>\n",
       "      <td>1.3</td>\n",
       "      <td>0.2</td>\n",
       "    </tr>\n",
       "    <tr>\n",
       "      <td>50</td>\n",
       "      <td>0</td>\n",
       "      <td>7.0</td>\n",
       "      <td>3.2</td>\n",
       "      <td>4.7</td>\n",
       "      <td>1.4</td>\n",
       "    </tr>\n",
       "    <tr>\n",
       "      <td>45</td>\n",
       "      <td>0</td>\n",
       "      <td>4.8</td>\n",
       "      <td>3.0</td>\n",
       "      <td>1.4</td>\n",
       "      <td>0.3</td>\n",
       "    </tr>\n",
       "    <tr>\n",
       "      <td>64</td>\n",
       "      <td>0</td>\n",
       "      <td>5.6</td>\n",
       "      <td>2.9</td>\n",
       "      <td>3.6</td>\n",
       "      <td>1.3</td>\n",
       "    </tr>\n",
       "  </tbody>\n",
       "</table>\n",
       "<p>150 rows × 5 columns</p>\n",
       "</div>"
      ],
      "text/plain": [
       "     species  sepal_length  sepal_width  petal_length  petal_width\n",
       "140        1           6.7          3.1           5.6          2.4\n",
       "56         0           6.3          3.3           4.7          1.6\n",
       "67         0           5.8          2.7           4.1          1.0\n",
       "99         0           5.7          2.8           4.1          1.3\n",
       "9          0           4.9          3.1           1.5          0.1\n",
       "..       ...           ...          ...           ...          ...\n",
       "134        1           6.1          2.6           5.6          1.4\n",
       "2          0           4.7          3.2           1.3          0.2\n",
       "50         0           7.0          3.2           4.7          1.4\n",
       "45         0           4.8          3.0           1.4          0.3\n",
       "64         0           5.6          2.9           3.6          1.3\n",
       "\n",
       "[150 rows x 5 columns]"
      ]
     },
     "execution_count": 37,
     "metadata": {},
     "output_type": "execute_result"
    }
   ],
   "source": [
    "dataset = dataset.sample(frac=1)\n",
    "dataset"
   ]
  },
  {
   "cell_type": "code",
   "execution_count": 38,
   "metadata": {},
   "outputs": [],
   "source": [
    "X = dataset.iloc[:, 1:3].values\n",
    "Y = dataset.iloc[:,0].values"
   ]
  },
  {
   "cell_type": "code",
   "execution_count": 39,
   "metadata": {},
   "outputs": [],
   "source": [
    "from sklearn.model_selection import train_test_split\n",
    "xTrain, xTest, yTrain, yTest = train_test_split(X,Y)"
   ]
  },
  {
   "cell_type": "code",
   "execution_count": 40,
   "metadata": {},
   "outputs": [],
   "source": [
    "from sklearn.model_selection import cross_val_score\n",
    "from sklearn.metrics import accuracy_score, mean_squared_error"
   ]
  },
  {
   "cell_type": "code",
   "execution_count": 41,
   "metadata": {},
   "outputs": [],
   "source": [
    "model = FuzzyKNN()"
   ]
  },
  {
   "cell_type": "code",
   "execution_count": 42,
   "metadata": {},
   "outputs": [
    {
     "data": {
      "text/plain": [
       "FuzzyKNN(k=3, plot=False)"
      ]
     },
     "execution_count": 42,
     "metadata": {},
     "output_type": "execute_result"
    }
   ],
   "source": [
    "model.fit(xTrain, yTrain)"
   ]
  },
  {
   "cell_type": "code",
   "execution_count": 43,
   "metadata": {},
   "outputs": [
    {
     "data": {
      "text/plain": [
       "0.7105263157894737"
      ]
     },
     "execution_count": 43,
     "metadata": {},
     "output_type": "execute_result"
    }
   ],
   "source": [
    "model.score(xTest, yTest)"
   ]
  },
  {
   "cell_type": "code",
   "execution_count": 44,
   "metadata": {},
   "outputs": [
    {
     "data": {
      "text/plain": [
       "0.2894736842105263"
      ]
     },
     "execution_count": 44,
     "metadata": {},
     "output_type": "execute_result"
    }
   ],
   "source": [
    "model.mean_squared_error(xTest, yTest)"
   ]
  },
  {
   "cell_type": "code",
   "execution_count": 45,
   "metadata": {},
   "outputs": [
    {
     "data": {
      "text/plain": [
       "([{0: 1.0, 1: 0.0}, {0: 1.0, 1: 0.0}],\n",
       " [(0, {0: 1.0, 1: 0.0}), (0, {0: 1.0, 1: 0.0})])"
      ]
     },
     "execution_count": 45,
     "metadata": {},
     "output_type": "execute_result"
    }
   ],
   "source": [
    "model.predict(xTrain[3])"
   ]
  },
  {
   "cell_type": "markdown",
   "metadata": {},
   "source": [
    "# Cross Validation"
   ]
  },
  {
   "cell_type": "code",
   "execution_count": 46,
   "metadata": {},
   "outputs": [
    {
     "name": "stdout",
     "output_type": "stream",
     "text": [
      "TRAIN: [  0   1   2   3   4   5   6   7   8   9  11  12  13  14  16  18  19  20\n",
      "  21  22  23  24  25  26  27  29  30  31  32  33  34  35  36  37  38  39\n",
      "  40  42  43  44  45  46  47  48  50  52  54  55  56  57  58  60  61  63\n",
      "  64  65  66  68  69  70  71  72  73  74  75  76  77  80  81  82  83  85\n",
      "  86  87  88  89  90  91  92  93  94  95  97  98 100 101 103 104 106 107\n",
      " 108 110 111 112 113 114 115 119 121 122 123 128 130 131 132 133 134 135\n",
      " 136 137 138 140 142 143 144 145 146 147 148 149] TEST: [ 10  15  17  28  41  49  51  53  59  62  67  78  79  84  96  99 102 105\n",
      " 109 116 117 118 120 124 125 126 127 129 139 141]\n"
     ]
    },
    {
     "name": "stderr",
     "output_type": "stream",
     "text": [
      "C:\\Users\\rita folisi\\Desktop\\Tirocinio\\Codice\\knn\\Funzionanti\\Tirocinio\\FuzzyKNN\\fknn.py:58: RuntimeWarning: divide by zero encountered in double_scalars\n",
      "  den += 1 / (dist ** (2 / (m-1)))     # sommatoria nel denominatore\n",
      "C:\\Users\\rita folisi\\Desktop\\Tirocinio\\Codice\\knn\\Funzionanti\\Tirocinio\\FuzzyKNN\\fknn.py:63: RuntimeWarning: divide by zero encountered in double_scalars\n",
      "  num = (neighbors.iloc[n].membership[c]) / (dist ** (2 / (m-1)))    # sommatoria nel numeratore\n",
      "C:\\Users\\rita folisi\\Desktop\\Tirocinio\\Codice\\knn\\Funzionanti\\Tirocinio\\FuzzyKNN\\fknn.py:65: RuntimeWarning: invalid value encountered in double_scalars\n",
      "  vote = num/den   # calcolo grado membership del vettore al fuzzy set considerato\n",
      "C:\\Users\\rita folisi\\Desktop\\Tirocinio\\Codice\\knn\\Funzionanti\\Tirocinio\\FuzzyKNN\\fknn.py:63: RuntimeWarning: invalid value encountered in double_scalars\n",
      "  num = (neighbors.iloc[n].membership[c]) / (dist ** (2 / (m-1)))    # sommatoria nel numeratore\n"
     ]
    },
    {
     "name": "stdout",
     "output_type": "stream",
     "text": [
      "TRAIN: [  0   1   2   4   5   6   7   9  10  11  12  13  14  15  16  17  18  19\n",
      "  20  21  23  24  25  26  27  28  29  30  32  33  34  36  37  38  39  40\n",
      "  41  45  46  47  48  49  50  51  53  54  57  59  60  62  64  65  66  67\n",
      "  68  69  70  72  73  76  77  78  79  80  82  83  84  86  87  89  90  92\n",
      "  93  94  95  96  97  98  99 101 102 103 104 105 106 107 109 110 111 112\n",
      " 113 114 115 116 117 118 119 120 121 122 123 124 125 126 127 128 129 130\n",
      " 131 132 133 136 137 138 139 141 143 145 146 148] TEST: [  3   8  22  31  35  42  43  44  52  55  56  58  61  63  71  74  75  81\n",
      "  85  88  91 100 108 134 135 140 142 144 147 149]\n"
     ]
    },
    {
     "name": "stderr",
     "output_type": "stream",
     "text": [
      "C:\\Users\\rita folisi\\Desktop\\Tirocinio\\Codice\\knn\\Funzionanti\\Tirocinio\\FuzzyKNN\\fknn.py:58: RuntimeWarning: divide by zero encountered in double_scalars\n",
      "  den += 1 / (dist ** (2 / (m-1)))     # sommatoria nel denominatore\n",
      "C:\\Users\\rita folisi\\Desktop\\Tirocinio\\Codice\\knn\\Funzionanti\\Tirocinio\\FuzzyKNN\\fknn.py:63: RuntimeWarning: divide by zero encountered in double_scalars\n",
      "  num = (neighbors.iloc[n].membership[c]) / (dist ** (2 / (m-1)))    # sommatoria nel numeratore\n",
      "C:\\Users\\rita folisi\\Desktop\\Tirocinio\\Codice\\knn\\Funzionanti\\Tirocinio\\FuzzyKNN\\fknn.py:65: RuntimeWarning: invalid value encountered in double_scalars\n",
      "  vote = num/den   # calcolo grado membership del vettore al fuzzy set considerato\n",
      "C:\\Users\\rita folisi\\Desktop\\Tirocinio\\Codice\\knn\\Funzionanti\\Tirocinio\\FuzzyKNN\\fknn.py:63: RuntimeWarning: invalid value encountered in double_scalars\n",
      "  num = (neighbors.iloc[n].membership[c]) / (dist ** (2 / (m-1)))    # sommatoria nel numeratore\n"
     ]
    },
    {
     "name": "stdout",
     "output_type": "stream",
     "text": [
      "TRAIN: [  0   1   2   3   6   7   8   9  10  11  12  13  14  15  16  17  18  19\n",
      "  20  21  22  23  24  26  28  29  30  31  32  34  35  37  39  40  41  42\n",
      "  43  44  46  47  48  49  50  51  52  53  54  55  56  57  58  59  60  61\n",
      "  62  63  65  67  71  72  74  75  77  78  79  81  83  84  85  86  88  89\n",
      "  90  91  93  94  95  96  98  99 100 101 102 103 104 105 106 108 109 113\n",
      " 114 116 117 118 119 120 121 122 123 124 125 126 127 129 130 133 134 135\n",
      " 136 137 139 140 141 142 143 144 145 146 147 149] TEST: [  4   5  25  27  33  36  38  45  64  66  68  69  70  73  76  80  82  87\n",
      "  92  97 107 110 111 112 115 128 131 132 138 148]\n"
     ]
    },
    {
     "name": "stderr",
     "output_type": "stream",
     "text": [
      "C:\\Users\\rita folisi\\Desktop\\Tirocinio\\Codice\\knn\\Funzionanti\\Tirocinio\\FuzzyKNN\\fknn.py:58: RuntimeWarning: divide by zero encountered in double_scalars\n",
      "  den += 1 / (dist ** (2 / (m-1)))     # sommatoria nel denominatore\n",
      "C:\\Users\\rita folisi\\Desktop\\Tirocinio\\Codice\\knn\\Funzionanti\\Tirocinio\\FuzzyKNN\\fknn.py:63: RuntimeWarning: divide by zero encountered in double_scalars\n",
      "  num = (neighbors.iloc[n].membership[c]) / (dist ** (2 / (m-1)))    # sommatoria nel numeratore\n",
      "C:\\Users\\rita folisi\\Desktop\\Tirocinio\\Codice\\knn\\Funzionanti\\Tirocinio\\FuzzyKNN\\fknn.py:65: RuntimeWarning: invalid value encountered in double_scalars\n",
      "  vote = num/den   # calcolo grado membership del vettore al fuzzy set considerato\n",
      "C:\\Users\\rita folisi\\Desktop\\Tirocinio\\Codice\\knn\\Funzionanti\\Tirocinio\\FuzzyKNN\\fknn.py:63: RuntimeWarning: invalid value encountered in double_scalars\n",
      "  num = (neighbors.iloc[n].membership[c]) / (dist ** (2 / (m-1)))    # sommatoria nel numeratore\n"
     ]
    },
    {
     "name": "stdout",
     "output_type": "stream",
     "text": [
      "TRAIN: [  2   3   4   5   6   7   8   9  10  14  15  16  17  18  19  21  22  25\n",
      "  26  27  28  29  30  31  32  33  35  36  37  38  39  40  41  42  43  44\n",
      "  45  46  47  49  51  52  53  55  56  57  58  59  60  61  62  63  64  66\n",
      "  67  68  69  70  71  73  74  75  76  77  78  79  80  81  82  83  84  85\n",
      "  87  88  91  92  95  96  97  99 100 102 104 105 106 107 108 109 110 111\n",
      " 112 113 114 115 116 117 118 119 120 124 125 126 127 128 129 131 132 134\n",
      " 135 138 139 140 141 142 143 144 145 147 148 149] TEST: [  0   1  11  12  13  20  23  24  34  48  50  54  65  72  86  89  90  93\n",
      "  94  98 101 103 121 122 123 130 133 136 137 146]\n"
     ]
    },
    {
     "name": "stderr",
     "output_type": "stream",
     "text": [
      "C:\\Users\\rita folisi\\Desktop\\Tirocinio\\Codice\\knn\\Funzionanti\\Tirocinio\\FuzzyKNN\\fknn.py:58: RuntimeWarning: divide by zero encountered in double_scalars\n",
      "  den += 1 / (dist ** (2 / (m-1)))     # sommatoria nel denominatore\n",
      "C:\\Users\\rita folisi\\Desktop\\Tirocinio\\Codice\\knn\\Funzionanti\\Tirocinio\\FuzzyKNN\\fknn.py:63: RuntimeWarning: divide by zero encountered in double_scalars\n",
      "  num = (neighbors.iloc[n].membership[c]) / (dist ** (2 / (m-1)))    # sommatoria nel numeratore\n",
      "C:\\Users\\rita folisi\\Desktop\\Tirocinio\\Codice\\knn\\Funzionanti\\Tirocinio\\FuzzyKNN\\fknn.py:65: RuntimeWarning: invalid value encountered in double_scalars\n",
      "  vote = num/den   # calcolo grado membership del vettore al fuzzy set considerato\n",
      "C:\\Users\\rita folisi\\Desktop\\Tirocinio\\Codice\\knn\\Funzionanti\\Tirocinio\\FuzzyKNN\\fknn.py:63: RuntimeWarning: invalid value encountered in double_scalars\n",
      "  num = (neighbors.iloc[n].membership[c]) / (dist ** (2 / (m-1)))    # sommatoria nel numeratore\n"
     ]
    },
    {
     "name": "stdout",
     "output_type": "stream",
     "text": [
      "TRAIN: [  0   1   3   4   5   8  10  11  12  13  15  17  20  22  23  24  25  27\n",
      "  28  31  33  34  35  36  38  41  42  43  44  45  48  49  50  51  52  53\n",
      "  54  55  56  58  59  61  62  63  64  65  66  67  68  69  70  71  72  73\n",
      "  74  75  76  78  79  80  81  82  84  85  86  87  88  89  90  91  92  93\n",
      "  94  96  97  98  99 100 101 102 103 105 107 108 109 110 111 112 115 116\n",
      " 117 118 120 121 122 123 124 125 126 127 128 129 130 131 132 133 134 135\n",
      " 136 137 138 139 140 141 142 144 146 147 148 149] TEST: [  2   6   7   9  14  16  18  19  21  26  29  30  32  37  39  40  46  47\n",
      "  57  60  77  83  95 104 106 113 114 119 143 145]\n"
     ]
    },
    {
     "name": "stderr",
     "output_type": "stream",
     "text": [
      "C:\\Users\\rita folisi\\Desktop\\Tirocinio\\Codice\\knn\\Funzionanti\\Tirocinio\\FuzzyKNN\\fknn.py:58: RuntimeWarning: divide by zero encountered in double_scalars\n",
      "  den += 1 / (dist ** (2 / (m-1)))     # sommatoria nel denominatore\n",
      "C:\\Users\\rita folisi\\Desktop\\Tirocinio\\Codice\\knn\\Funzionanti\\Tirocinio\\FuzzyKNN\\fknn.py:63: RuntimeWarning: divide by zero encountered in double_scalars\n",
      "  num = (neighbors.iloc[n].membership[c]) / (dist ** (2 / (m-1)))    # sommatoria nel numeratore\n",
      "C:\\Users\\rita folisi\\Desktop\\Tirocinio\\Codice\\knn\\Funzionanti\\Tirocinio\\FuzzyKNN\\fknn.py:65: RuntimeWarning: invalid value encountered in double_scalars\n",
      "  vote = num/den   # calcolo grado membership del vettore al fuzzy set considerato\n",
      "C:\\Users\\rita folisi\\Desktop\\Tirocinio\\Codice\\knn\\Funzionanti\\Tirocinio\\FuzzyKNN\\fknn.py:63: RuntimeWarning: invalid value encountered in double_scalars\n",
      "  num = (neighbors.iloc[n].membership[c]) / (dist ** (2 / (m-1)))    # sommatoria nel numeratore\n"
     ]
    }
   ],
   "source": [
    "value_array = []\n",
    "error_array = []\n",
    "from sklearn.model_selection import StratifiedKFold\n",
    "skf = StratifiedKFold(n_splits=5, shuffle=True, random_state=1)\n",
    "for train_index, test_index in skf.split(X, Y):\n",
    "    print(\"TRAIN:\", train_index, \"TEST:\", test_index)\n",
    "    xTrain, xTest = X[train_index], X[test_index]\n",
    "    yTrain, yTest = Y[train_index], Y[test_index]\n",
    "    model.fit(xTrain, yTrain)\n",
    "    value = model.score(xTest, yTest)\n",
    "    error = model.mean_squared_error(xTest, yTest)\n",
    "    value_array.append(value)\n",
    "    error_array.append(error)"
   ]
  },
  {
   "cell_type": "code",
   "execution_count": 47,
   "metadata": {},
   "outputs": [
    {
     "data": {
      "text/plain": [
       "0.7533333333333333"
      ]
     },
     "execution_count": 47,
     "metadata": {},
     "output_type": "execute_result"
    }
   ],
   "source": [
    "np.mean(value_array)"
   ]
  },
  {
   "cell_type": "code",
   "execution_count": 48,
   "metadata": {},
   "outputs": [
    {
     "data": {
      "text/plain": [
       "0.24666666666666667"
      ]
     },
     "execution_count": 48,
     "metadata": {},
     "output_type": "execute_result"
    }
   ],
   "source": [
    "np.mean(error_array)"
   ]
  },
  {
   "cell_type": "markdown",
   "metadata": {},
   "source": [
    "# Model Selection & Cross Validation"
   ]
  },
  {
   "cell_type": "code",
   "execution_count": 49,
   "metadata": {},
   "outputs": [
    {
     "data": {
      "text/plain": [
       "array([ 1,  3,  5,  7,  9, 11, 13, 15, 17, 19])"
      ]
     },
     "execution_count": 49,
     "metadata": {},
     "output_type": "execute_result"
    }
   ],
   "source": [
    "a = np.arange (1, 21, 2)\n",
    "parameters = {\"k\" : a}\n",
    "parameters[\"k\"]"
   ]
  },
  {
   "cell_type": "code",
   "execution_count": 50,
   "metadata": {},
   "outputs": [],
   "source": [
    "from sklearn.model_selection import GridSearchCV\n",
    "clf = GridSearchCV(model, parameters, cv = 5)"
   ]
  },
  {
   "cell_type": "code",
   "execution_count": 51,
   "metadata": {},
   "outputs": [
    {
     "name": "stderr",
     "output_type": "stream",
     "text": [
      "C:\\Users\\rita folisi\\Desktop\\Tirocinio\\Codice\\knn\\Funzionanti\\Tirocinio\\FuzzyKNN\\fknn.py:58: RuntimeWarning: divide by zero encountered in double_scalars\n",
      "  den += 1 / (dist ** (2 / (m-1)))     # sommatoria nel denominatore\n",
      "C:\\Users\\rita folisi\\Desktop\\Tirocinio\\Codice\\knn\\Funzionanti\\Tirocinio\\FuzzyKNN\\fknn.py:63: RuntimeWarning: divide by zero encountered in double_scalars\n",
      "  num = (neighbors.iloc[n].membership[c]) / (dist ** (2 / (m-1)))    # sommatoria nel numeratore\n",
      "C:\\Users\\rita folisi\\Desktop\\Tirocinio\\Codice\\knn\\Funzionanti\\Tirocinio\\FuzzyKNN\\fknn.py:65: RuntimeWarning: invalid value encountered in double_scalars\n",
      "  vote = num/den   # calcolo grado membership del vettore al fuzzy set considerato\n",
      "C:\\Users\\rita folisi\\Desktop\\Tirocinio\\Codice\\knn\\Funzionanti\\Tirocinio\\FuzzyKNN\\fknn.py:63: RuntimeWarning: invalid value encountered in double_scalars\n",
      "  num = (neighbors.iloc[n].membership[c]) / (dist ** (2 / (m-1)))    # sommatoria nel numeratore\n"
     ]
    },
    {
     "data": {
      "text/plain": [
       "GridSearchCV(cv=5, error_score='raise-deprecating',\n",
       "             estimator=FuzzyKNN(k=3, plot=False), iid='warn', n_jobs=None,\n",
       "             param_grid={'k': array([ 1,  3,  5,  7,  9, 11, 13, 15, 17, 19])},\n",
       "             pre_dispatch='2*n_jobs', refit=True, return_train_score=False,\n",
       "             scoring=None, verbose=0)"
      ]
     },
     "execution_count": 51,
     "metadata": {},
     "output_type": "execute_result"
    }
   ],
   "source": [
    "clf.fit(xTrain, yTrain)"
   ]
  },
  {
   "cell_type": "code",
   "execution_count": 52,
   "metadata": {},
   "outputs": [
    {
     "data": {
      "text/plain": [
       "0.8666666666666667"
      ]
     },
     "execution_count": 52,
     "metadata": {},
     "output_type": "execute_result"
    }
   ],
   "source": [
    "clf.score(xTest, yTest) "
   ]
  },
  {
   "cell_type": "code",
   "execution_count": 53,
   "metadata": {},
   "outputs": [
    {
     "data": {
      "text/plain": [
       "{'k': 13}"
      ]
     },
     "execution_count": 53,
     "metadata": {},
     "output_type": "execute_result"
    }
   ],
   "source": [
    "best_params = clf.best_params_\n",
    "best_params"
   ]
  },
  {
   "cell_type": "code",
   "execution_count": 54,
   "metadata": {},
   "outputs": [],
   "source": [
    "model = clf.best_estimator_"
   ]
  },
  {
   "cell_type": "code",
   "execution_count": 55,
   "metadata": {},
   "outputs": [],
   "source": [
    "\tdef MSE_membership(self, X, y):\n",
    "\t\tmemb, _ = self.predict(X)\n",
    "\t\tres = []\n",
    "\t\tfor t in memb:\n",
    "\t\t\tres.append(t[1])\n",
    "\t\treturn mean_squared_error(y, res) "
   ]
  },
  {
   "cell_type": "code",
   "execution_count": 56,
   "metadata": {},
   "outputs": [
    {
     "data": {
      "text/plain": [
       "0.09130117329128305"
      ]
     },
     "execution_count": 56,
     "metadata": {},
     "output_type": "execute_result"
    }
   ],
   "source": [
    "model.RMSE_membership(xTest, yTest)"
   ]
  },
  {
   "cell_type": "code",
   "execution_count": null,
   "metadata": {},
   "outputs": [],
   "source": []
  },
  {
   "cell_type": "code",
   "execution_count": 59,
   "metadata": {},
   "outputs": [
    {
     "name": "stdout",
     "output_type": "stream",
     "text": [
      "[ 30  31  32  33  34  35  36  37  38  39  40  41  42  43  44  45  46  47\n",
      "  48  49  50  51  52  53  54  55  56  57  58  59  60  61  62  63  64  65\n",
      "  66  67  68  69  70  71  72  73  74  75  76  77  78  79  80  81  82  83\n",
      "  84  85  86  87  88  89  90  91  92  93  94  95  96  97  98  99 100 101\n",
      " 102 103 104 105 106 107 108 109 110 111 112 113 114 115 116 117 118 119\n",
      " 120 121 122 123 124 125 126 127 128 129 130 131 132 133 134 135 136 137\n",
      " 138 139 140 141 142 143 144 145 146 147 148 149]\n"
     ]
    },
    {
     "name": "stderr",
     "output_type": "stream",
     "text": [
      "C:\\Users\\rita folisi\\Desktop\\Tirocinio\\Codice\\knn\\Funzionanti\\Tirocinio\\FuzzyKNN\\fknn.py:58: RuntimeWarning: divide by zero encountered in double_scalars\n",
      "  den += 1 / (dist ** (2 / (m-1)))     # sommatoria nel denominatore\n",
      "C:\\Users\\rita folisi\\Desktop\\Tirocinio\\Codice\\knn\\Funzionanti\\Tirocinio\\FuzzyKNN\\fknn.py:63: RuntimeWarning: divide by zero encountered in double_scalars\n",
      "  num = (neighbors.iloc[n].membership[c]) / (dist ** (2 / (m-1)))    # sommatoria nel numeratore\n",
      "C:\\Users\\rita folisi\\Desktop\\Tirocinio\\Codice\\knn\\Funzionanti\\Tirocinio\\FuzzyKNN\\fknn.py:65: RuntimeWarning: invalid value encountered in double_scalars\n",
      "  vote = num/den   # calcolo grado membership del vettore al fuzzy set considerato\n",
      "C:\\Users\\rita folisi\\Desktop\\Tirocinio\\Codice\\knn\\Funzionanti\\Tirocinio\\FuzzyKNN\\fknn.py:63: RuntimeWarning: invalid value encountered in double_scalars\n",
      "  num = (neighbors.iloc[n].membership[c]) / (dist ** (2 / (m-1)))    # sommatoria nel numeratore\n"
     ]
    },
    {
     "name": "stdout",
     "output_type": "stream",
     "text": [
      "[  0   1   2   3   4   5   6   7   8   9  10  11  12  13  14  15  16  17\n",
      "  18  19  20  21  22  23  24  25  26  27  28  29  57  59  62  63  64  65\n",
      "  66  67  68  69  70  71  72  73  74  75  76  77  78  79  80  81  82  83\n",
      "  84  85  86  87  88  89  90  91  92  93  94  95  96  97  98  99 100 101\n",
      " 102 103 104 105 106 107 108 109 110 111 112 113 114 115 116 117 118 119\n",
      " 120 121 122 123 124 125 126 127 128 129 130 131 132 133 134 135 136 137\n",
      " 138 139 140 141 142 143 144 145 146 147 148 149]\n"
     ]
    },
    {
     "name": "stderr",
     "output_type": "stream",
     "text": [
      "C:\\Users\\rita folisi\\Desktop\\Tirocinio\\Codice\\knn\\Funzionanti\\Tirocinio\\FuzzyKNN\\fknn.py:58: RuntimeWarning: divide by zero encountered in double_scalars\n",
      "  den += 1 / (dist ** (2 / (m-1)))     # sommatoria nel denominatore\n",
      "C:\\Users\\rita folisi\\Desktop\\Tirocinio\\Codice\\knn\\Funzionanti\\Tirocinio\\FuzzyKNN\\fknn.py:63: RuntimeWarning: divide by zero encountered in double_scalars\n",
      "  num = (neighbors.iloc[n].membership[c]) / (dist ** (2 / (m-1)))    # sommatoria nel numeratore\n",
      "C:\\Users\\rita folisi\\Desktop\\Tirocinio\\Codice\\knn\\Funzionanti\\Tirocinio\\FuzzyKNN\\fknn.py:65: RuntimeWarning: invalid value encountered in double_scalars\n",
      "  vote = num/den   # calcolo grado membership del vettore al fuzzy set considerato\n",
      "C:\\Users\\rita folisi\\Desktop\\Tirocinio\\Codice\\knn\\Funzionanti\\Tirocinio\\FuzzyKNN\\fknn.py:63: RuntimeWarning: invalid value encountered in double_scalars\n",
      "  num = (neighbors.iloc[n].membership[c]) / (dist ** (2 / (m-1)))    # sommatoria nel numeratore\n"
     ]
    },
    {
     "name": "stdout",
     "output_type": "stream",
     "text": [
      "[  0   1   2   3   4   5   6   7   8   9  10  11  12  13  14  15  16  17\n",
      "  18  19  20  21  22  23  24  25  26  27  28  29  30  31  32  33  34  35\n",
      "  36  37  38  39  40  41  42  43  44  45  46  47  48  49  50  51  52  53\n",
      "  54  55  56  58  60  61  88  89  90  93  94  95  96  97  98  99 100 101\n",
      " 102 103 104 105 106 107 108 109 110 111 112 113 114 115 116 117 118 119\n",
      " 120 121 122 123 124 125 126 127 128 129 130 131 132 133 134 135 136 137\n",
      " 138 139 140 141 142 143 144 145 146 147 148 149]\n"
     ]
    },
    {
     "name": "stderr",
     "output_type": "stream",
     "text": [
      "C:\\Users\\rita folisi\\Desktop\\Tirocinio\\Codice\\knn\\Funzionanti\\Tirocinio\\FuzzyKNN\\fknn.py:58: RuntimeWarning: divide by zero encountered in double_scalars\n",
      "  den += 1 / (dist ** (2 / (m-1)))     # sommatoria nel denominatore\n",
      "C:\\Users\\rita folisi\\Desktop\\Tirocinio\\Codice\\knn\\Funzionanti\\Tirocinio\\FuzzyKNN\\fknn.py:63: RuntimeWarning: divide by zero encountered in double_scalars\n",
      "  num = (neighbors.iloc[n].membership[c]) / (dist ** (2 / (m-1)))    # sommatoria nel numeratore\n",
      "C:\\Users\\rita folisi\\Desktop\\Tirocinio\\Codice\\knn\\Funzionanti\\Tirocinio\\FuzzyKNN\\fknn.py:65: RuntimeWarning: invalid value encountered in double_scalars\n",
      "  vote = num/den   # calcolo grado membership del vettore al fuzzy set considerato\n",
      "C:\\Users\\rita folisi\\Desktop\\Tirocinio\\Codice\\knn\\Funzionanti\\Tirocinio\\FuzzyKNN\\fknn.py:63: RuntimeWarning: invalid value encountered in double_scalars\n",
      "  num = (neighbors.iloc[n].membership[c]) / (dist ** (2 / (m-1)))    # sommatoria nel numeratore\n"
     ]
    },
    {
     "name": "stdout",
     "output_type": "stream",
     "text": [
      "[  0   1   2   3   4   5   6   7   8   9  10  11  12  13  14  15  16  17\n",
      "  18  19  20  21  22  23  24  25  26  27  28  29  30  31  32  33  34  35\n",
      "  36  37  38  39  40  41  42  43  44  45  46  47  48  49  50  51  52  53\n",
      "  54  55  56  57  58  59  60  61  62  63  64  65  66  67  68  69  70  71\n",
      "  72  73  74  75  76  77  78  79  80  81  82  83  84  85  86  87  91  92\n",
      " 119 121 122 123 124 125 126 127 128 129 130 131 132 133 134 135 136 137\n",
      " 138 139 140 141 142 143 144 145 146 147 148 149]\n"
     ]
    },
    {
     "name": "stderr",
     "output_type": "stream",
     "text": [
      "C:\\Users\\rita folisi\\Desktop\\Tirocinio\\Codice\\knn\\Funzionanti\\Tirocinio\\FuzzyKNN\\fknn.py:58: RuntimeWarning: divide by zero encountered in double_scalars\n",
      "  den += 1 / (dist ** (2 / (m-1)))     # sommatoria nel denominatore\n",
      "C:\\Users\\rita folisi\\Desktop\\Tirocinio\\Codice\\knn\\Funzionanti\\Tirocinio\\FuzzyKNN\\fknn.py:63: RuntimeWarning: divide by zero encountered in double_scalars\n",
      "  num = (neighbors.iloc[n].membership[c]) / (dist ** (2 / (m-1)))    # sommatoria nel numeratore\n",
      "C:\\Users\\rita folisi\\Desktop\\Tirocinio\\Codice\\knn\\Funzionanti\\Tirocinio\\FuzzyKNN\\fknn.py:65: RuntimeWarning: invalid value encountered in double_scalars\n",
      "  vote = num/den   # calcolo grado membership del vettore al fuzzy set considerato\n",
      "C:\\Users\\rita folisi\\Desktop\\Tirocinio\\Codice\\knn\\Funzionanti\\Tirocinio\\FuzzyKNN\\fknn.py:63: RuntimeWarning: invalid value encountered in double_scalars\n",
      "  num = (neighbors.iloc[n].membership[c]) / (dist ** (2 / (m-1)))    # sommatoria nel numeratore\n"
     ]
    },
    {
     "name": "stdout",
     "output_type": "stream",
     "text": [
      "[  0   1   2   3   4   5   6   7   8   9  10  11  12  13  14  15  16  17\n",
      "  18  19  20  21  22  23  24  25  26  27  28  29  30  31  32  33  34  35\n",
      "  36  37  38  39  40  41  42  43  44  45  46  47  48  49  50  51  52  53\n",
      "  54  55  56  57  58  59  60  61  62  63  64  65  66  67  68  69  70  71\n",
      "  72  73  74  75  76  77  78  79  80  81  82  83  84  85  86  87  88  89\n",
      "  90  91  92  93  94  95  96  97  98  99 100 101 102 103 104 105 106 107\n",
      " 108 109 110 111 112 113 114 115 116 117 118 120]\n"
     ]
    },
    {
     "name": "stderr",
     "output_type": "stream",
     "text": [
      "C:\\Users\\rita folisi\\Desktop\\Tirocinio\\Codice\\knn\\Funzionanti\\Tirocinio\\FuzzyKNN\\fknn.py:58: RuntimeWarning: divide by zero encountered in double_scalars\n",
      "  den += 1 / (dist ** (2 / (m-1)))     # sommatoria nel denominatore\n",
      "C:\\Users\\rita folisi\\Desktop\\Tirocinio\\Codice\\knn\\Funzionanti\\Tirocinio\\FuzzyKNN\\fknn.py:63: RuntimeWarning: divide by zero encountered in double_scalars\n",
      "  num = (neighbors.iloc[n].membership[c]) / (dist ** (2 / (m-1)))    # sommatoria nel numeratore\n",
      "C:\\Users\\rita folisi\\Desktop\\Tirocinio\\Codice\\knn\\Funzionanti\\Tirocinio\\FuzzyKNN\\fknn.py:65: RuntimeWarning: invalid value encountered in double_scalars\n",
      "  vote = num/den   # calcolo grado membership del vettore al fuzzy set considerato\n",
      "C:\\Users\\rita folisi\\Desktop\\Tirocinio\\Codice\\knn\\Funzionanti\\Tirocinio\\FuzzyKNN\\fknn.py:63: RuntimeWarning: invalid value encountered in double_scalars\n",
      "  num = (neighbors.iloc[n].membership[c]) / (dist ** (2 / (m-1)))    # sommatoria nel numeratore\n"
     ]
    }
   ],
   "source": [
    "from sklearn.model_selection import GridSearchCV, StratifiedKFold\n",
    "from sklearn.metrics import classification_report, mean_squared_error\n",
    "from sklearn.metrics import accuracy_score\n",
    "from sklearn.utils import shuffle\n",
    "\n",
    "df = pd.read_csv('iris-setosa.csv')\n",
    "\n",
    "\n",
    "X = df.iloc[:, 1:3].values\n",
    "y = df.iloc[:,0].values\n",
    "\n",
    "seed = 10\n",
    "X, y = shuffle(X, y, random_state=seed)\n",
    "\n",
    "a = np.arange (1, 21, 2)\n",
    "parameters = {\"k\" : a}\n",
    "N_SPLIT = 5\n",
    "err = []\n",
    "acc = []\n",
    "\n",
    "\n",
    "skf = StratifiedKFold(n_splits=N_SPLIT, shuffle=False, random_state=5)\n",
    "for train_index, validation_index in skf.split(X, y):\n",
    "    print(train_index)\n",
    "    X_train, X_validation = X[train_index], X[validation_index]\n",
    "    y_train, y_validation = y[train_index], y[validation_index]\n",
    "    \n",
    "    model = FuzzyKNN()\n",
    "    clf = GridSearchCV(model, parameters, cv=5)\n",
    "    clf.fit(X_train, y_train)\n",
    "    best_model = clf.best_estimator_\n",
    "    best_model.fit(X_train, y_train)\n",
    "    acc.append(best_model.score(X_validation, y_validation))\n",
    "    val = best_model.RMSE_membership(X_validation, y_validation)\n",
    "    err.append(val)"
   ]
  },
  {
   "cell_type": "code",
   "execution_count": 60,
   "metadata": {},
   "outputs": [
    {
     "data": {
      "text/plain": [
       "[1.0, 0.9666666666666667, 1.0, 1.0, 1.0]"
      ]
     },
     "execution_count": 60,
     "metadata": {},
     "output_type": "execute_result"
    }
   ],
   "source": [
    "acc"
   ]
  },
  {
   "cell_type": "code",
   "execution_count": 61,
   "metadata": {},
   "outputs": [
    {
     "data": {
      "text/plain": [
       "[0.033957274952160735, 0.03333333333333333, 0.0014461966362521491, 0.0, 0.0]"
      ]
     },
     "execution_count": 61,
     "metadata": {},
     "output_type": "execute_result"
    }
   ],
   "source": [
    "err"
   ]
  },
  {
   "cell_type": "code",
   "execution_count": null,
   "metadata": {},
   "outputs": [],
   "source": []
  }
 ],
 "metadata": {
  "kernelspec": {
   "display_name": "Python 3",
   "language": "python",
   "name": "python3"
  },
  "language_info": {
   "codemirror_mode": {
    "name": "ipython",
    "version": 3
   },
   "file_extension": ".py",
   "mimetype": "text/x-python",
   "name": "python",
   "nbconvert_exporter": "python",
   "pygments_lexer": "ipython3",
   "version": "3.7.4"
  }
 },
 "nbformat": 4,
 "nbformat_minor": 2
}
