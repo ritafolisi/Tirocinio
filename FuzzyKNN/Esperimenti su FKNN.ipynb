{
 "cells": [
  {
   "cell_type": "code",
   "execution_count": 1,
   "metadata": {},
   "outputs": [],
   "source": [
    "from fknn import *\n",
    "import numpy as np"
   ]
  },
  {
   "cell_type": "code",
   "execution_count": 2,
   "metadata": {},
   "outputs": [],
   "source": [
    "import pandas as pd\n",
    "dataset = pd.read_csv(\"iris-virginica.csv\")"
   ]
  },
  {
   "cell_type": "code",
   "execution_count": 3,
   "metadata": {},
   "outputs": [
    {
     "data": {
      "text/html": [
       "<div>\n",
       "<style scoped>\n",
       "    .dataframe tbody tr th:only-of-type {\n",
       "        vertical-align: middle;\n",
       "    }\n",
       "\n",
       "    .dataframe tbody tr th {\n",
       "        vertical-align: top;\n",
       "    }\n",
       "\n",
       "    .dataframe thead th {\n",
       "        text-align: right;\n",
       "    }\n",
       "</style>\n",
       "<table border=\"1\" class=\"dataframe\">\n",
       "  <thead>\n",
       "    <tr style=\"text-align: right;\">\n",
       "      <th></th>\n",
       "      <th>species</th>\n",
       "      <th>sepal_length</th>\n",
       "      <th>sepal_width</th>\n",
       "      <th>petal_length</th>\n",
       "      <th>petal_width</th>\n",
       "    </tr>\n",
       "  </thead>\n",
       "  <tbody>\n",
       "    <tr>\n",
       "      <td>45</td>\n",
       "      <td>0</td>\n",
       "      <td>4.8</td>\n",
       "      <td>3.0</td>\n",
       "      <td>1.4</td>\n",
       "      <td>0.3</td>\n",
       "    </tr>\n",
       "    <tr>\n",
       "      <td>145</td>\n",
       "      <td>1</td>\n",
       "      <td>6.7</td>\n",
       "      <td>3.0</td>\n",
       "      <td>5.2</td>\n",
       "      <td>2.3</td>\n",
       "    </tr>\n",
       "    <tr>\n",
       "      <td>17</td>\n",
       "      <td>0</td>\n",
       "      <td>5.1</td>\n",
       "      <td>3.5</td>\n",
       "      <td>1.4</td>\n",
       "      <td>0.3</td>\n",
       "    </tr>\n",
       "    <tr>\n",
       "      <td>106</td>\n",
       "      <td>1</td>\n",
       "      <td>4.9</td>\n",
       "      <td>2.5</td>\n",
       "      <td>4.5</td>\n",
       "      <td>1.7</td>\n",
       "    </tr>\n",
       "    <tr>\n",
       "      <td>148</td>\n",
       "      <td>1</td>\n",
       "      <td>6.2</td>\n",
       "      <td>3.4</td>\n",
       "      <td>5.4</td>\n",
       "      <td>2.3</td>\n",
       "    </tr>\n",
       "    <tr>\n",
       "      <td>...</td>\n",
       "      <td>...</td>\n",
       "      <td>...</td>\n",
       "      <td>...</td>\n",
       "      <td>...</td>\n",
       "      <td>...</td>\n",
       "    </tr>\n",
       "    <tr>\n",
       "      <td>99</td>\n",
       "      <td>0</td>\n",
       "      <td>5.7</td>\n",
       "      <td>2.8</td>\n",
       "      <td>4.1</td>\n",
       "      <td>1.3</td>\n",
       "    </tr>\n",
       "    <tr>\n",
       "      <td>104</td>\n",
       "      <td>1</td>\n",
       "      <td>6.5</td>\n",
       "      <td>3.0</td>\n",
       "      <td>5.8</td>\n",
       "      <td>2.2</td>\n",
       "    </tr>\n",
       "    <tr>\n",
       "      <td>4</td>\n",
       "      <td>0</td>\n",
       "      <td>5.0</td>\n",
       "      <td>3.6</td>\n",
       "      <td>1.4</td>\n",
       "      <td>0.2</td>\n",
       "    </tr>\n",
       "    <tr>\n",
       "      <td>134</td>\n",
       "      <td>1</td>\n",
       "      <td>6.1</td>\n",
       "      <td>2.6</td>\n",
       "      <td>5.6</td>\n",
       "      <td>1.4</td>\n",
       "    </tr>\n",
       "    <tr>\n",
       "      <td>8</td>\n",
       "      <td>0</td>\n",
       "      <td>4.4</td>\n",
       "      <td>2.9</td>\n",
       "      <td>1.4</td>\n",
       "      <td>0.2</td>\n",
       "    </tr>\n",
       "  </tbody>\n",
       "</table>\n",
       "<p>150 rows × 5 columns</p>\n",
       "</div>"
      ],
      "text/plain": [
       "     species  sepal_length  sepal_width  petal_length  petal_width\n",
       "45         0           4.8          3.0           1.4          0.3\n",
       "145        1           6.7          3.0           5.2          2.3\n",
       "17         0           5.1          3.5           1.4          0.3\n",
       "106        1           4.9          2.5           4.5          1.7\n",
       "148        1           6.2          3.4           5.4          2.3\n",
       "..       ...           ...          ...           ...          ...\n",
       "99         0           5.7          2.8           4.1          1.3\n",
       "104        1           6.5          3.0           5.8          2.2\n",
       "4          0           5.0          3.6           1.4          0.2\n",
       "134        1           6.1          2.6           5.6          1.4\n",
       "8          0           4.4          2.9           1.4          0.2\n",
       "\n",
       "[150 rows x 5 columns]"
      ]
     },
     "execution_count": 3,
     "metadata": {},
     "output_type": "execute_result"
    }
   ],
   "source": [
    "dataset = dataset.sample(frac=1)\n",
    "dataset"
   ]
  },
  {
   "cell_type": "code",
   "execution_count": 4,
   "metadata": {},
   "outputs": [],
   "source": [
    "X = dataset.iloc[:, 1:3].values\n",
    "Y = dataset.iloc[:,0].values"
   ]
  },
  {
   "cell_type": "code",
   "execution_count": 5,
   "metadata": {},
   "outputs": [],
   "source": [
    "from sklearn.model_selection import train_test_split\n",
    "xTrain, xTest, yTrain, yTest = train_test_split(X,Y)"
   ]
  },
  {
   "cell_type": "code",
   "execution_count": 6,
   "metadata": {},
   "outputs": [],
   "source": [
    "from sklearn.model_selection import cross_val_score\n",
    "from sklearn.metrics import accuracy_score, mean_squared_error"
   ]
  },
  {
   "cell_type": "code",
   "execution_count": 7,
   "metadata": {},
   "outputs": [],
   "source": [
    "model = FuzzyKNN()"
   ]
  },
  {
   "cell_type": "code",
   "execution_count": 8,
   "metadata": {},
   "outputs": [
    {
     "data": {
      "text/plain": [
       "FuzzyKNN(k=3, plot=False)"
      ]
     },
     "execution_count": 8,
     "metadata": {},
     "output_type": "execute_result"
    }
   ],
   "source": [
    "model.fit(xTrain, yTrain)"
   ]
  },
  {
   "cell_type": "code",
   "execution_count": 9,
   "metadata": {},
   "outputs": [
    {
     "name": "stderr",
     "output_type": "stream",
     "text": [
      "C:\\Users\\rita folisi\\Desktop\\Tirocinio\\Codice\\knn\\Funzionanti\\Tirocinio\\FuzzyKNN\\fknn.py:58: RuntimeWarning: divide by zero encountered in double_scalars\n",
      "  den += 1 / (dist ** (2 / (m-1)))     # sommatoria nel denominatore\n",
      "C:\\Users\\rita folisi\\Desktop\\Tirocinio\\Codice\\knn\\Funzionanti\\Tirocinio\\FuzzyKNN\\fknn.py:63: RuntimeWarning: divide by zero encountered in double_scalars\n",
      "  num = (neighbors.iloc[n].membership[c]) / (dist ** (2 / (m-1)))    # sommatoria nel numeratore\n",
      "C:\\Users\\rita folisi\\Desktop\\Tirocinio\\Codice\\knn\\Funzionanti\\Tirocinio\\FuzzyKNN\\fknn.py:65: RuntimeWarning: invalid value encountered in double_scalars\n",
      "  vote = num/den   # calcolo grado membership del vettore al fuzzy set considerato\n",
      "C:\\Users\\rita folisi\\Desktop\\Tirocinio\\Codice\\knn\\Funzionanti\\Tirocinio\\FuzzyKNN\\fknn.py:63: RuntimeWarning: invalid value encountered in double_scalars\n",
      "  num = (neighbors.iloc[n].membership[c]) / (dist ** (2 / (m-1)))    # sommatoria nel numeratore\n"
     ]
    },
    {
     "data": {
      "text/plain": [
       "0.7368421052631579"
      ]
     },
     "execution_count": 9,
     "metadata": {},
     "output_type": "execute_result"
    }
   ],
   "source": [
    "model.score(xTest, yTest)"
   ]
  },
  {
   "cell_type": "code",
   "execution_count": 10,
   "metadata": {},
   "outputs": [
    {
     "data": {
      "text/plain": [
       "0.2631578947368421"
      ]
     },
     "execution_count": 10,
     "metadata": {},
     "output_type": "execute_result"
    }
   ],
   "source": [
    "model.mean_squared_error(xTest, yTest)"
   ]
  },
  {
   "cell_type": "code",
   "execution_count": 11,
   "metadata": {},
   "outputs": [
    {
     "data": {
      "text/plain": [
       "([{0: 0.9999999999999998, 1: 0.0}, {0: 1.0, 1: 0.0}],\n",
       " [(0, {0: 0.9999999999999998, 1: 0.0}), (0, {0: 1.0, 1: 0.0})])"
      ]
     },
     "execution_count": 11,
     "metadata": {},
     "output_type": "execute_result"
    }
   ],
   "source": [
    "model.predict(xTrain[3])"
   ]
  },
  {
   "cell_type": "markdown",
   "metadata": {},
   "source": [
    "# Cross Validation"
   ]
  },
  {
   "cell_type": "code",
   "execution_count": 12,
   "metadata": {},
   "outputs": [
    {
     "name": "stdout",
     "output_type": "stream",
     "text": [
      "TRAIN: [  0   1   2   3   4   5   7   8   9  10  11  12  13  15  16  17  18  20\n",
      "  21  22  23  24  25  26  27  29  30  31  32  33  34  35  36  37  38  39\n",
      "  40  41  42  43  44  46  50  51  52  53  55  56  58  59  60  61  62  63\n",
      "  65  66  67  68  69  70  71  72  73  74  76  77  79  80  81  83  84  85\n",
      "  86  87  88  89  90  91  92  93  95  96  97  98  99 100 104 105 106 107\n",
      " 108 109 110 111 112 114 118 119 123 124 126 127 128 129 130 133 134 135\n",
      " 136 137 138 140 142 143 144 145 146 147 148 149] TEST: [  6  14  19  28  45  47  48  49  54  57  64  75  78  82  94 101 102 103\n",
      " 113 115 116 117 120 121 122 125 131 132 139 141]\n"
     ]
    },
    {
     "name": "stderr",
     "output_type": "stream",
     "text": [
      "C:\\Users\\rita folisi\\Desktop\\Tirocinio\\Codice\\knn\\Funzionanti\\Tirocinio\\FuzzyKNN\\fknn.py:58: RuntimeWarning: divide by zero encountered in double_scalars\n",
      "  den += 1 / (dist ** (2 / (m-1)))     # sommatoria nel denominatore\n",
      "C:\\Users\\rita folisi\\Desktop\\Tirocinio\\Codice\\knn\\Funzionanti\\Tirocinio\\FuzzyKNN\\fknn.py:63: RuntimeWarning: divide by zero encountered in double_scalars\n",
      "  num = (neighbors.iloc[n].membership[c]) / (dist ** (2 / (m-1)))    # sommatoria nel numeratore\n",
      "C:\\Users\\rita folisi\\Desktop\\Tirocinio\\Codice\\knn\\Funzionanti\\Tirocinio\\FuzzyKNN\\fknn.py:65: RuntimeWarning: invalid value encountered in double_scalars\n",
      "  vote = num/den   # calcolo grado membership del vettore al fuzzy set considerato\n",
      "C:\\Users\\rita folisi\\Desktop\\Tirocinio\\Codice\\knn\\Funzionanti\\Tirocinio\\FuzzyKNN\\fknn.py:63: RuntimeWarning: invalid value encountered in double_scalars\n",
      "  num = (neighbors.iloc[n].membership[c]) / (dist ** (2 / (m-1)))    # sommatoria nel numeratore\n"
     ]
    },
    {
     "name": "stdout",
     "output_type": "stream",
     "text": [
      "TRAIN: [  0   1   2   4   6   7   8   9  10  11  12  13  14  15  16  17  18  19\n",
      "  20  21  22  23  24  25  27  28  29  30  32  33  34  35  36  38  39  40\n",
      "  42  43  44  45  47  48  49  53  54  55  57  58  61  62  63  64  65  66\n",
      "  68  70  72  73  74  75  76  77  78  79  81  82  83  85  87  88  90  91\n",
      "  93  94  95  96  98  99 100 101 102 103 104 105 106 108 109 110 111 112\n",
      " 113 114 115 116 117 118 119 120 121 122 123 124 125 126 127 128 129 130\n",
      " 131 132 134 135 136 137 139 141 144 146 147 148] TEST: [  3   5  26  31  37  41  46  50  51  52  56  59  60  67  69  71  80  84\n",
      "  86  89  92  97 107 133 138 140 142 143 145 149]\n"
     ]
    },
    {
     "name": "stderr",
     "output_type": "stream",
     "text": [
      "C:\\Users\\rita folisi\\Desktop\\Tirocinio\\Codice\\knn\\Funzionanti\\Tirocinio\\FuzzyKNN\\fknn.py:58: RuntimeWarning: divide by zero encountered in double_scalars\n",
      "  den += 1 / (dist ** (2 / (m-1)))     # sommatoria nel denominatore\n",
      "C:\\Users\\rita folisi\\Desktop\\Tirocinio\\Codice\\knn\\Funzionanti\\Tirocinio\\FuzzyKNN\\fknn.py:63: RuntimeWarning: divide by zero encountered in double_scalars\n",
      "  num = (neighbors.iloc[n].membership[c]) / (dist ** (2 / (m-1)))    # sommatoria nel numeratore\n",
      "C:\\Users\\rita folisi\\Desktop\\Tirocinio\\Codice\\knn\\Funzionanti\\Tirocinio\\FuzzyKNN\\fknn.py:65: RuntimeWarning: invalid value encountered in double_scalars\n",
      "  vote = num/den   # calcolo grado membership del vettore al fuzzy set considerato\n",
      "C:\\Users\\rita folisi\\Desktop\\Tirocinio\\Codice\\knn\\Funzionanti\\Tirocinio\\FuzzyKNN\\fknn.py:63: RuntimeWarning: invalid value encountered in double_scalars\n",
      "  num = (neighbors.iloc[n].membership[c]) / (dist ** (2 / (m-1)))    # sommatoria nel numeratore\n"
     ]
    },
    {
     "name": "stdout",
     "output_type": "stream",
     "text": [
      "TRAIN: [  0   1   2   3   4   5   6   8  10  11  12  13  14  15  16  17  18  19\n",
      "  20  21  22  23  25  26  28  29  30  31  32  34  35  36  37  39  41  42\n",
      "  43  44  45  46  47  48  49  50  51  52  54  55  56  57  58  59  60  62\n",
      "  64  66  67  68  69  70  71  74  75  78  80  82  83  84  86  87  88  89\n",
      "  90  91  92  93  94  95  97  98 100 101 102 103 104 105 106 107 110 111\n",
      " 113 114 115 116 117 120 121 122 123 125 126 127 129 131 132 133 134 135\n",
      " 136 138 139 140 141 142 143 144 145 146 148 149] TEST: [  7   9  24  27  33  38  40  53  61  63  65  72  73  76  77  79  81  85\n",
      "  96  99 108 109 112 118 119 124 128 130 137 147]\n"
     ]
    },
    {
     "name": "stderr",
     "output_type": "stream",
     "text": [
      "C:\\Users\\rita folisi\\Desktop\\Tirocinio\\Codice\\knn\\Funzionanti\\Tirocinio\\FuzzyKNN\\fknn.py:58: RuntimeWarning: divide by zero encountered in double_scalars\n",
      "  den += 1 / (dist ** (2 / (m-1)))     # sommatoria nel denominatore\n",
      "C:\\Users\\rita folisi\\Desktop\\Tirocinio\\Codice\\knn\\Funzionanti\\Tirocinio\\FuzzyKNN\\fknn.py:63: RuntimeWarning: divide by zero encountered in double_scalars\n",
      "  num = (neighbors.iloc[n].membership[c]) / (dist ** (2 / (m-1)))    # sommatoria nel numeratore\n",
      "C:\\Users\\rita folisi\\Desktop\\Tirocinio\\Codice\\knn\\Funzionanti\\Tirocinio\\FuzzyKNN\\fknn.py:65: RuntimeWarning: invalid value encountered in double_scalars\n",
      "  vote = num/den   # calcolo grado membership del vettore al fuzzy set considerato\n",
      "C:\\Users\\rita folisi\\Desktop\\Tirocinio\\Codice\\knn\\Funzionanti\\Tirocinio\\FuzzyKNN\\fknn.py:63: RuntimeWarning: invalid value encountered in double_scalars\n",
      "  num = (neighbors.iloc[n].membership[c]) / (dist ** (2 / (m-1)))    # sommatoria nel numeratore\n"
     ]
    },
    {
     "name": "stdout",
     "output_type": "stream",
     "text": [
      "TRAIN: [  2   3   4   5   6   7   9  10  11  14  15  16  17  19  20  21  24  25\n",
      "  26  27  28  29  30  31  32  33  34  35  37  38  39  40  41  42  43  45\n",
      "  46  47  48  49  50  51  52  53  54  55  56  57  59  60  61  63  64  65\n",
      "  67  69  70  71  72  73  74  75  76  77  78  79  80  81  82  84  85  86\n",
      "  89  91  92  93  94  96  97  99 101 102 103 105 106 107 108 109 110 111\n",
      " 112 113 114 115 116 117 118 119 120 121 122 124 125 128 130 131 132 133\n",
      " 137 138 139 140 141 142 143 145 146 147 148 149] TEST: [  0   1   8  12  13  18  22  23  36  44  58  62  66  68  83  87  88  90\n",
      "  95  98 100 104 123 126 127 129 134 135 136 144]\n"
     ]
    },
    {
     "name": "stderr",
     "output_type": "stream",
     "text": [
      "C:\\Users\\rita folisi\\Desktop\\Tirocinio\\Codice\\knn\\Funzionanti\\Tirocinio\\FuzzyKNN\\fknn.py:58: RuntimeWarning: divide by zero encountered in double_scalars\n",
      "  den += 1 / (dist ** (2 / (m-1)))     # sommatoria nel denominatore\n",
      "C:\\Users\\rita folisi\\Desktop\\Tirocinio\\Codice\\knn\\Funzionanti\\Tirocinio\\FuzzyKNN\\fknn.py:63: RuntimeWarning: divide by zero encountered in double_scalars\n",
      "  num = (neighbors.iloc[n].membership[c]) / (dist ** (2 / (m-1)))    # sommatoria nel numeratore\n",
      "C:\\Users\\rita folisi\\Desktop\\Tirocinio\\Codice\\knn\\Funzionanti\\Tirocinio\\FuzzyKNN\\fknn.py:65: RuntimeWarning: invalid value encountered in double_scalars\n",
      "  vote = num/den   # calcolo grado membership del vettore al fuzzy set considerato\n",
      "C:\\Users\\rita folisi\\Desktop\\Tirocinio\\Codice\\knn\\Funzionanti\\Tirocinio\\FuzzyKNN\\fknn.py:63: RuntimeWarning: invalid value encountered in double_scalars\n",
      "  num = (neighbors.iloc[n].membership[c]) / (dist ** (2 / (m-1)))    # sommatoria nel numeratore\n"
     ]
    },
    {
     "name": "stdout",
     "output_type": "stream",
     "text": [
      "TRAIN: [  0   1   3   5   6   7   8   9  12  13  14  18  19  22  23  24  26  27\n",
      "  28  31  33  36  37  38  40  41  44  45  46  47  48  49  50  51  52  53\n",
      "  54  56  57  58  59  60  61  62  63  64  65  66  67  68  69  71  72  73\n",
      "  75  76  77  78  79  80  81  82  83  84  85  86  87  88  89  90  92  94\n",
      "  95  96  97  98  99 100 101 102 103 104 107 108 109 112 113 115 116 117\n",
      " 118 119 120 121 122 123 124 125 126 127 128 129 130 131 132 133 134 135\n",
      " 136 137 138 139 140 141 142 143 144 145 147 149] TEST: [  2   4  10  11  15  16  17  20  21  25  29  30  32  34  35  39  42  43\n",
      "  55  70  74  91  93 105 106 110 111 114 146 148]\n"
     ]
    },
    {
     "name": "stderr",
     "output_type": "stream",
     "text": [
      "C:\\Users\\rita folisi\\Desktop\\Tirocinio\\Codice\\knn\\Funzionanti\\Tirocinio\\FuzzyKNN\\fknn.py:58: RuntimeWarning: divide by zero encountered in double_scalars\n",
      "  den += 1 / (dist ** (2 / (m-1)))     # sommatoria nel denominatore\n",
      "C:\\Users\\rita folisi\\Desktop\\Tirocinio\\Codice\\knn\\Funzionanti\\Tirocinio\\FuzzyKNN\\fknn.py:63: RuntimeWarning: divide by zero encountered in double_scalars\n",
      "  num = (neighbors.iloc[n].membership[c]) / (dist ** (2 / (m-1)))    # sommatoria nel numeratore\n",
      "C:\\Users\\rita folisi\\Desktop\\Tirocinio\\Codice\\knn\\Funzionanti\\Tirocinio\\FuzzyKNN\\fknn.py:65: RuntimeWarning: invalid value encountered in double_scalars\n",
      "  vote = num/den   # calcolo grado membership del vettore al fuzzy set considerato\n",
      "C:\\Users\\rita folisi\\Desktop\\Tirocinio\\Codice\\knn\\Funzionanti\\Tirocinio\\FuzzyKNN\\fknn.py:63: RuntimeWarning: invalid value encountered in double_scalars\n",
      "  num = (neighbors.iloc[n].membership[c]) / (dist ** (2 / (m-1)))    # sommatoria nel numeratore\n"
     ]
    }
   ],
   "source": [
    "value_array = []\n",
    "error_array = []\n",
    "from sklearn.model_selection import StratifiedKFold\n",
    "skf = StratifiedKFold(n_splits=5, shuffle=True, random_state=1)\n",
    "for train_index, test_index in skf.split(X, Y):\n",
    "    print(\"TRAIN:\", train_index, \"TEST:\", test_index)\n",
    "    xTrain, xTest = X[train_index], X[test_index]\n",
    "    yTrain, yTest = Y[train_index], Y[test_index]\n",
    "    model.fit(xTrain, yTrain)\n",
    "    value = model.score(xTest, yTest)\n",
    "    error = model.mean_squared_error(xTest, yTest)\n",
    "    value_array.append(value)\n",
    "    error_array.append(error)"
   ]
  },
  {
   "cell_type": "code",
   "execution_count": 13,
   "metadata": {},
   "outputs": [
    {
     "data": {
      "text/plain": [
       "0.74"
      ]
     },
     "execution_count": 13,
     "metadata": {},
     "output_type": "execute_result"
    }
   ],
   "source": [
    "np.mean(value_array)"
   ]
  },
  {
   "cell_type": "code",
   "execution_count": 14,
   "metadata": {},
   "outputs": [
    {
     "data": {
      "text/plain": [
       "0.26"
      ]
     },
     "execution_count": 14,
     "metadata": {},
     "output_type": "execute_result"
    }
   ],
   "source": [
    "np.mean(error_array)"
   ]
  },
  {
   "cell_type": "markdown",
   "metadata": {},
   "source": [
    "# Model Selection & Cross Validation"
   ]
  },
  {
   "cell_type": "code",
   "execution_count": 15,
   "metadata": {},
   "outputs": [
    {
     "data": {
      "text/plain": [
       "array([ 1,  3,  5,  7,  9, 11, 13, 15, 17, 19])"
      ]
     },
     "execution_count": 15,
     "metadata": {},
     "output_type": "execute_result"
    }
   ],
   "source": [
    "a = np.arange (1, 21, 2)\n",
    "parameters = {\"k\" : a}\n",
    "parameters[\"k\"]"
   ]
  },
  {
   "cell_type": "code",
   "execution_count": 16,
   "metadata": {},
   "outputs": [],
   "source": [
    "from sklearn.model_selection import GridSearchCV\n",
    "clf = GridSearchCV(model, parameters, cv = 5)"
   ]
  },
  {
   "cell_type": "code",
   "execution_count": 17,
   "metadata": {},
   "outputs": [
    {
     "name": "stderr",
     "output_type": "stream",
     "text": [
      "C:\\Users\\rita folisi\\Desktop\\Tirocinio\\Codice\\knn\\Funzionanti\\Tirocinio\\FuzzyKNN\\fknn.py:58: RuntimeWarning: divide by zero encountered in double_scalars\n",
      "  den += 1 / (dist ** (2 / (m-1)))     # sommatoria nel denominatore\n",
      "C:\\Users\\rita folisi\\Desktop\\Tirocinio\\Codice\\knn\\Funzionanti\\Tirocinio\\FuzzyKNN\\fknn.py:63: RuntimeWarning: divide by zero encountered in double_scalars\n",
      "  num = (neighbors.iloc[n].membership[c]) / (dist ** (2 / (m-1)))    # sommatoria nel numeratore\n",
      "C:\\Users\\rita folisi\\Desktop\\Tirocinio\\Codice\\knn\\Funzionanti\\Tirocinio\\FuzzyKNN\\fknn.py:65: RuntimeWarning: invalid value encountered in double_scalars\n",
      "  vote = num/den   # calcolo grado membership del vettore al fuzzy set considerato\n",
      "C:\\Users\\rita folisi\\Desktop\\Tirocinio\\Codice\\knn\\Funzionanti\\Tirocinio\\FuzzyKNN\\fknn.py:63: RuntimeWarning: invalid value encountered in double_scalars\n",
      "  num = (neighbors.iloc[n].membership[c]) / (dist ** (2 / (m-1)))    # sommatoria nel numeratore\n"
     ]
    },
    {
     "data": {
      "text/plain": [
       "GridSearchCV(cv=5, error_score='raise-deprecating',\n",
       "             estimator=FuzzyKNN(k=3, plot=False), iid='warn', n_jobs=None,\n",
       "             param_grid={'k': array([ 1,  3,  5,  7,  9, 11, 13, 15, 17, 19])},\n",
       "             pre_dispatch='2*n_jobs', refit=True, return_train_score=False,\n",
       "             scoring=None, verbose=0)"
      ]
     },
     "execution_count": 17,
     "metadata": {},
     "output_type": "execute_result"
    }
   ],
   "source": [
    "clf.fit(xTrain, yTrain)"
   ]
  },
  {
   "cell_type": "code",
   "execution_count": 18,
   "metadata": {},
   "outputs": [
    {
     "data": {
      "text/plain": [
       "0.8333333333333334"
      ]
     },
     "execution_count": 18,
     "metadata": {},
     "output_type": "execute_result"
    }
   ],
   "source": [
    "clf.score(xTest, yTest) "
   ]
  },
  {
   "cell_type": "code",
   "execution_count": 19,
   "metadata": {},
   "outputs": [
    {
     "data": {
      "text/plain": [
       "{'k': 9}"
      ]
     },
     "execution_count": 19,
     "metadata": {},
     "output_type": "execute_result"
    }
   ],
   "source": [
    "best_params = clf.best_params_\n",
    "best_params"
   ]
  },
  {
   "cell_type": "code",
   "execution_count": 20,
   "metadata": {},
   "outputs": [],
   "source": [
    "model = clf.best_estimator_"
   ]
  },
  {
   "cell_type": "code",
   "execution_count": 21,
   "metadata": {},
   "outputs": [],
   "source": [
    "\tdef MSE_membership(self, X, y):\n",
    "\t\tmemb, _ = self.predict(X)\n",
    "\t\tres = []\n",
    "\t\tfor t in memb:\n",
    "\t\t\tres.append(t[1])\n",
    "\t\treturn mean_squared_error(y, res) "
   ]
  },
  {
   "cell_type": "code",
   "execution_count": 22,
   "metadata": {},
   "outputs": [
    {
     "ename": "NameError",
     "evalue": "name 'RMSE_membership' is not defined",
     "output_type": "error",
     "traceback": [
      "\u001b[1;31m---------------------------------------------------------------------------\u001b[0m",
      "\u001b[1;31mNameError\u001b[0m                                 Traceback (most recent call last)",
      "\u001b[1;32m<ipython-input-22-6cfc76bdd532>\u001b[0m in \u001b[0;36m<module>\u001b[1;34m\u001b[0m\n\u001b[1;32m----> 1\u001b[1;33m \u001b[0mRMSE_membership\u001b[0m\u001b[1;33m(\u001b[0m\u001b[0mmodel\u001b[0m\u001b[1;33m,\u001b[0m \u001b[0mxTest\u001b[0m\u001b[1;33m,\u001b[0m \u001b[0myTest\u001b[0m\u001b[1;33m)\u001b[0m\u001b[1;33m\u001b[0m\u001b[1;33m\u001b[0m\u001b[0m\n\u001b[0m",
      "\u001b[1;31mNameError\u001b[0m: name 'RMSE_membership' is not defined"
     ]
    }
   ],
   "source": [
    "RMSE_membership(model, xTest, yTest)"
   ]
  },
  {
   "cell_type": "code",
   "execution_count": null,
   "metadata": {},
   "outputs": [],
   "source": []
  }
 ],
 "metadata": {
  "kernelspec": {
   "display_name": "Python 3",
   "language": "python",
   "name": "python3"
  },
  "language_info": {
   "codemirror_mode": {
    "name": "ipython",
    "version": 3
   },
   "file_extension": ".py",
   "mimetype": "text/x-python",
   "name": "python",
   "nbconvert_exporter": "python",
   "pygments_lexer": "ipython3",
   "version": "3.7.4"
  }
 },
 "nbformat": 4,
 "nbformat_minor": 2
}
