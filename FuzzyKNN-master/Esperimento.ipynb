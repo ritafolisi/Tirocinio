{
 "cells": [
  {
   "cell_type": "code",
   "execution_count": 1,
   "metadata": {},
   "outputs": [],
   "source": [
    "from fknn import *\n",
    "import numpy as np"
   ]
  },
  {
   "cell_type": "code",
   "execution_count": 2,
   "metadata": {},
   "outputs": [],
   "source": [
    "import pandas as pd\n",
    "dataset = pd.read_csv(\"iris-versicolor.csv\")"
   ]
  },
  {
   "cell_type": "code",
   "execution_count": 3,
   "metadata": {},
   "outputs": [
    {
     "data": {
      "text/html": [
       "<div>\n",
       "<style scoped>\n",
       "    .dataframe tbody tr th:only-of-type {\n",
       "        vertical-align: middle;\n",
       "    }\n",
       "\n",
       "    .dataframe tbody tr th {\n",
       "        vertical-align: top;\n",
       "    }\n",
       "\n",
       "    .dataframe thead th {\n",
       "        text-align: right;\n",
       "    }\n",
       "</style>\n",
       "<table border=\"1\" class=\"dataframe\">\n",
       "  <thead>\n",
       "    <tr style=\"text-align: right;\">\n",
       "      <th></th>\n",
       "      <th>species</th>\n",
       "      <th>sepal_length</th>\n",
       "      <th>sepal_width</th>\n",
       "      <th>petal_length</th>\n",
       "      <th>petal_width</th>\n",
       "    </tr>\n",
       "  </thead>\n",
       "  <tbody>\n",
       "    <tr>\n",
       "      <td>0</td>\n",
       "      <td>0</td>\n",
       "      <td>5.1</td>\n",
       "      <td>3.5</td>\n",
       "      <td>1.4</td>\n",
       "      <td>0.2</td>\n",
       "    </tr>\n",
       "    <tr>\n",
       "      <td>1</td>\n",
       "      <td>0</td>\n",
       "      <td>4.9</td>\n",
       "      <td>3.0</td>\n",
       "      <td>1.4</td>\n",
       "      <td>0.2</td>\n",
       "    </tr>\n",
       "    <tr>\n",
       "      <td>2</td>\n",
       "      <td>0</td>\n",
       "      <td>4.7</td>\n",
       "      <td>3.2</td>\n",
       "      <td>1.3</td>\n",
       "      <td>0.2</td>\n",
       "    </tr>\n",
       "    <tr>\n",
       "      <td>3</td>\n",
       "      <td>0</td>\n",
       "      <td>4.6</td>\n",
       "      <td>3.1</td>\n",
       "      <td>1.5</td>\n",
       "      <td>0.2</td>\n",
       "    </tr>\n",
       "    <tr>\n",
       "      <td>4</td>\n",
       "      <td>0</td>\n",
       "      <td>5.0</td>\n",
       "      <td>3.6</td>\n",
       "      <td>1.4</td>\n",
       "      <td>0.2</td>\n",
       "    </tr>\n",
       "    <tr>\n",
       "      <td>...</td>\n",
       "      <td>...</td>\n",
       "      <td>...</td>\n",
       "      <td>...</td>\n",
       "      <td>...</td>\n",
       "      <td>...</td>\n",
       "    </tr>\n",
       "    <tr>\n",
       "      <td>145</td>\n",
       "      <td>0</td>\n",
       "      <td>6.7</td>\n",
       "      <td>3.0</td>\n",
       "      <td>5.2</td>\n",
       "      <td>2.3</td>\n",
       "    </tr>\n",
       "    <tr>\n",
       "      <td>146</td>\n",
       "      <td>0</td>\n",
       "      <td>6.3</td>\n",
       "      <td>2.5</td>\n",
       "      <td>5.0</td>\n",
       "      <td>1.9</td>\n",
       "    </tr>\n",
       "    <tr>\n",
       "      <td>147</td>\n",
       "      <td>0</td>\n",
       "      <td>6.5</td>\n",
       "      <td>3.0</td>\n",
       "      <td>5.2</td>\n",
       "      <td>2.0</td>\n",
       "    </tr>\n",
       "    <tr>\n",
       "      <td>148</td>\n",
       "      <td>0</td>\n",
       "      <td>6.2</td>\n",
       "      <td>3.4</td>\n",
       "      <td>5.4</td>\n",
       "      <td>2.3</td>\n",
       "    </tr>\n",
       "    <tr>\n",
       "      <td>149</td>\n",
       "      <td>0</td>\n",
       "      <td>5.9</td>\n",
       "      <td>3.0</td>\n",
       "      <td>5.1</td>\n",
       "      <td>1.8</td>\n",
       "    </tr>\n",
       "  </tbody>\n",
       "</table>\n",
       "<p>150 rows × 5 columns</p>\n",
       "</div>"
      ],
      "text/plain": [
       "     species  sepal_length  sepal_width  petal_length  petal_width\n",
       "0          0           5.1          3.5           1.4          0.2\n",
       "1          0           4.9          3.0           1.4          0.2\n",
       "2          0           4.7          3.2           1.3          0.2\n",
       "3          0           4.6          3.1           1.5          0.2\n",
       "4          0           5.0          3.6           1.4          0.2\n",
       "..       ...           ...          ...           ...          ...\n",
       "145        0           6.7          3.0           5.2          2.3\n",
       "146        0           6.3          2.5           5.0          1.9\n",
       "147        0           6.5          3.0           5.2          2.0\n",
       "148        0           6.2          3.4           5.4          2.3\n",
       "149        0           5.9          3.0           5.1          1.8\n",
       "\n",
       "[150 rows x 5 columns]"
      ]
     },
     "execution_count": 3,
     "metadata": {},
     "output_type": "execute_result"
    }
   ],
   "source": [
    "dataset"
   ]
  },
  {
   "cell_type": "code",
   "execution_count": 4,
   "metadata": {},
   "outputs": [
    {
     "data": {
      "text/plain": [
       "array([0, 0, 0, 0, 0, 0, 0, 0, 0, 0, 0, 0, 0, 0, 0, 0, 0, 0, 0, 0, 0, 0,\n",
       "       0, 0, 0, 0, 0, 0, 0, 0, 0, 0, 0, 0, 0, 0, 0, 0, 0, 0, 0, 0, 0, 0,\n",
       "       0, 0, 0, 0, 0, 0, 1, 1, 1, 1, 1, 1, 1, 1, 1, 1, 1, 1, 1, 1, 1, 1,\n",
       "       1, 1, 1, 1, 1, 1, 1, 1, 1, 1, 1, 1, 1, 1, 1, 1, 1, 1, 1, 1, 1, 1,\n",
       "       1, 1, 1, 1, 1, 1, 1, 1, 1, 1, 1, 1, 0, 0, 0, 0, 0, 0, 0, 0, 0, 0,\n",
       "       0, 0, 0, 0, 0, 0, 0, 0, 0, 0, 0, 0, 0, 0, 0, 0, 0, 0, 0, 0, 0, 0,\n",
       "       0, 0, 0, 0, 0, 0, 0, 0, 0, 0, 0, 0, 0, 0, 0, 0, 0, 0], dtype=int64)"
      ]
     },
     "execution_count": 4,
     "metadata": {},
     "output_type": "execute_result"
    }
   ],
   "source": [
    "X = dataset.iloc[:, 1:3]\n",
    "Y = dataset.iloc[:,0]\n",
    "\n",
    "X = np.array(X)\n",
    "Y = np.array(Y)\n",
    "Y"
   ]
  },
  {
   "cell_type": "code",
   "execution_count": 5,
   "metadata": {},
   "outputs": [],
   "source": [
    "from sklearn.model_selection import train_test_split\n",
    "xTrain, xTest, yTrain, yTest = train_test_split(X,Y)"
   ]
  },
  {
   "cell_type": "code",
   "execution_count": 6,
   "metadata": {},
   "outputs": [],
   "source": [
    "import pprint\n",
    "import operator\n",
    "\n",
    "import matplotlib.pyplot as plt\n",
    "\n",
    "from sklearn.model_selection import train_test_split, cross_val_score\n",
    "from sklearn.datasets import load_iris, load_breast_cancer\n",
    "from sklearn.metrics import accuracy_score\n",
    "from sklearn.neighbors import KNeighborsClassifier\n",
    "from sklearn.base import BaseEstimator, ClassifierMixin\n",
    "from sklearn.metrics import mean_squared_error"
   ]
  },
  {
   "cell_type": "code",
   "execution_count": null,
   "metadata": {},
   "outputs": [],
   "source": []
  },
  {
   "cell_type": "code",
   "execution_count": 7,
   "metadata": {},
   "outputs": [],
   "source": [
    "model = FuzzyKNN()"
   ]
  },
  {
   "cell_type": "code",
   "execution_count": 8,
   "metadata": {},
   "outputs": [
    {
     "data": {
      "text/plain": [
       "FuzzyKNN(k=3, plot=False)"
      ]
     },
     "execution_count": 8,
     "metadata": {},
     "output_type": "execute_result"
    }
   ],
   "source": [
    "model.fit(xTrain, yTrain)"
   ]
  },
  {
   "cell_type": "code",
   "execution_count": 9,
   "metadata": {},
   "outputs": [
    {
     "name": "stderr",
     "output_type": "stream",
     "text": [
      "C:\\Users\\rita folisi\\Desktop\\Tirocinio\\Codice\\knn\\Funzionanti\\Tirocinio\\FuzzyKNN-master\\fknn.py:55: RuntimeWarning: divide by zero encountered in double_scalars\n",
      "  den += 1 / (dist ** (2 / (m-1)))\n",
      "C:\\Users\\rita folisi\\Desktop\\Tirocinio\\Codice\\knn\\Funzionanti\\Tirocinio\\FuzzyKNN-master\\fknn.py:60: RuntimeWarning: divide by zero encountered in double_scalars\n",
      "  num = (neighbors.iloc[n].membership[c]) / (dist ** (2 / (m-1)))\n",
      "C:\\Users\\rita folisi\\Desktop\\Tirocinio\\Codice\\knn\\Funzionanti\\Tirocinio\\FuzzyKNN-master\\fknn.py:62: RuntimeWarning: invalid value encountered in double_scalars\n",
      "  vote = num/den\n",
      "C:\\Users\\rita folisi\\Desktop\\Tirocinio\\Codice\\knn\\Funzionanti\\Tirocinio\\FuzzyKNN-master\\fknn.py:60: RuntimeWarning: invalid value encountered in double_scalars\n",
      "  num = (neighbors.iloc[n].membership[c]) / (dist ** (2 / (m-1)))\n"
     ]
    },
    {
     "data": {
      "text/plain": [
       "0.7631578947368421"
      ]
     },
     "execution_count": 9,
     "metadata": {},
     "output_type": "execute_result"
    }
   ],
   "source": [
    "model.score(xTest, yTest)"
   ]
  },
  {
   "cell_type": "code",
   "execution_count": 10,
   "metadata": {},
   "outputs": [
    {
     "data": {
      "text/plain": [
       "0.23684210526315788"
      ]
     },
     "execution_count": 10,
     "metadata": {},
     "output_type": "execute_result"
    }
   ],
   "source": [
    "model.mean_squared_error(xTest, yTest)"
   ]
  },
  {
   "cell_type": "code",
   "execution_count": 11,
   "metadata": {},
   "outputs": [
    {
     "data": {
      "text/plain": [
       "[(0, {0: 1.0, 1: 0.0}), (0, {0: 0.9999999999999999, 1: 0.0})]"
      ]
     },
     "execution_count": 11,
     "metadata": {},
     "output_type": "execute_result"
    }
   ],
   "source": [
    "model.predict(xTrain[3])"
   ]
  },
  {
   "cell_type": "code",
   "execution_count": 12,
   "metadata": {},
   "outputs": [
    {
     "name": "stdout",
     "output_type": "stream",
     "text": [
      "TRAIN: [  0   1   2   3   4   5   6   7   8   9  11  12  13  14  15  16  18  19\n",
      "  20  21  22  23  24  25  26  27  28  29  30  34  35  37  38  40  41  42\n",
      "  43  45  46  47  48  49  50  51  52  54  56  57  58  59  60  61  62  63\n",
      "  65  66  67  68  69  70  71  72  73  74  75  76  77  78  79  80  81  84\n",
      "  86  87  90  91  92  95  96  97  98  99 100 103 104 105 107 108 109 110\n",
      " 111 112 113 114 116 117 118 120 121 122 123 124 125 126 127 129 133 135\n",
      " 136 137 138 139 140 141 144 145 146 147 148 149] TEST: [ 10  17  31  32  33  36  39  44  53  55  64  82  83  85  88  89  93  94\n",
      " 101 102 106 115 119 128 130 131 132 134 142 143]\n"
     ]
    },
    {
     "name": "stderr",
     "output_type": "stream",
     "text": [
      "C:\\Users\\rita folisi\\Desktop\\Tirocinio\\Codice\\knn\\Funzionanti\\Tirocinio\\FuzzyKNN-master\\fknn.py:55: RuntimeWarning: divide by zero encountered in double_scalars\n",
      "  den += 1 / (dist ** (2 / (m-1)))\n",
      "C:\\Users\\rita folisi\\Desktop\\Tirocinio\\Codice\\knn\\Funzionanti\\Tirocinio\\FuzzyKNN-master\\fknn.py:60: RuntimeWarning: divide by zero encountered in double_scalars\n",
      "  num = (neighbors.iloc[n].membership[c]) / (dist ** (2 / (m-1)))\n",
      "C:\\Users\\rita folisi\\Desktop\\Tirocinio\\Codice\\knn\\Funzionanti\\Tirocinio\\FuzzyKNN-master\\fknn.py:62: RuntimeWarning: invalid value encountered in double_scalars\n",
      "  vote = num/den\n",
      "C:\\Users\\rita folisi\\Desktop\\Tirocinio\\Codice\\knn\\Funzionanti\\Tirocinio\\FuzzyKNN-master\\fknn.py:60: RuntimeWarning: invalid value encountered in double_scalars\n",
      "  num = (neighbors.iloc[n].membership[c]) / (dist ** (2 / (m-1)))\n"
     ]
    },
    {
     "name": "stdout",
     "output_type": "stream",
     "text": [
      "TRAIN: [  0   1   3   4   5   6   7   8   9  10  11  12  13  14  15  16  17  18\n",
      "  20  21  22  24  25  26  28  29  30  31  32  33  36  37  39  41  42  43\n",
      "  44  45  47  49  50  52  53  54  55  56  57  58  60  61  62  63  64  67\n",
      "  68  70  71  73  74  75  77  79  80  81  82  83  84  85  86  87  88  89\n",
      "  90  91  92  93  94  95  98  99 100 101 102 103 105 106 107 108 110 111\n",
      " 113 114 115 116 118 119 120 121 122 124 125 126 127 128 129 130 131 132\n",
      " 133 134 135 136 137 139 140 141 142 143 146 148] TEST: [  2  19  23  27  34  35  38  40  46  48  51  59  65  66  69  72  76  78\n",
      "  96  97 104 109 112 117 123 138 144 145 147 149]\n"
     ]
    },
    {
     "name": "stderr",
     "output_type": "stream",
     "text": [
      "C:\\Users\\rita folisi\\Desktop\\Tirocinio\\Codice\\knn\\Funzionanti\\Tirocinio\\FuzzyKNN-master\\fknn.py:55: RuntimeWarning: divide by zero encountered in double_scalars\n",
      "  den += 1 / (dist ** (2 / (m-1)))\n",
      "C:\\Users\\rita folisi\\Desktop\\Tirocinio\\Codice\\knn\\Funzionanti\\Tirocinio\\FuzzyKNN-master\\fknn.py:60: RuntimeWarning: divide by zero encountered in double_scalars\n",
      "  num = (neighbors.iloc[n].membership[c]) / (dist ** (2 / (m-1)))\n",
      "C:\\Users\\rita folisi\\Desktop\\Tirocinio\\Codice\\knn\\Funzionanti\\Tirocinio\\FuzzyKNN-master\\fknn.py:62: RuntimeWarning: invalid value encountered in double_scalars\n",
      "  vote = num/den\n",
      "C:\\Users\\rita folisi\\Desktop\\Tirocinio\\Codice\\knn\\Funzionanti\\Tirocinio\\FuzzyKNN-master\\fknn.py:60: RuntimeWarning: invalid value encountered in double_scalars\n",
      "  num = (neighbors.iloc[n].membership[c]) / (dist ** (2 / (m-1)))\n"
     ]
    },
    {
     "name": "stdout",
     "output_type": "stream",
     "text": [
      "TRAIN: [  0   1   2   5   6   7   8   9  10  11  12  13  14  16  17  18  19  20\n",
      "  22  23  25  27  28  29  30  31  32  33  34  35  36  37  38  39  40  42\n",
      "  44  46  47  48  50  51  52  53  54  55  56  57  58  59  61  62  63  64\n",
      "  65  66  68  69  70  71  72  76  77  78  80  82  83  85  88  89  90  91\n",
      "  92  93  94  95  96  97  98  99 100 101 102 104 106 107 109 110 111 112\n",
      " 113 114 115 116 117 118 119 120 121 122 123 125 126 128 129 130 131 132\n",
      " 134 135 138 139 140 142 143 144 145 146 147 149] TEST: [  3   4  15  21  24  26  41  43  45  49  60  67  73  74  75  79  81  84\n",
      "  86  87 103 105 108 124 127 133 136 137 141 148]\n"
     ]
    },
    {
     "name": "stderr",
     "output_type": "stream",
     "text": [
      "C:\\Users\\rita folisi\\Desktop\\Tirocinio\\Codice\\knn\\Funzionanti\\Tirocinio\\FuzzyKNN-master\\fknn.py:55: RuntimeWarning: divide by zero encountered in double_scalars\n",
      "  den += 1 / (dist ** (2 / (m-1)))\n",
      "C:\\Users\\rita folisi\\Desktop\\Tirocinio\\Codice\\knn\\Funzionanti\\Tirocinio\\FuzzyKNN-master\\fknn.py:60: RuntimeWarning: divide by zero encountered in double_scalars\n",
      "  num = (neighbors.iloc[n].membership[c]) / (dist ** (2 / (m-1)))\n",
      "C:\\Users\\rita folisi\\Desktop\\Tirocinio\\Codice\\knn\\Funzionanti\\Tirocinio\\FuzzyKNN-master\\fknn.py:62: RuntimeWarning: invalid value encountered in double_scalars\n",
      "  vote = num/den\n",
      "C:\\Users\\rita folisi\\Desktop\\Tirocinio\\Codice\\knn\\Funzionanti\\Tirocinio\\FuzzyKNN-master\\fknn.py:60: RuntimeWarning: invalid value encountered in double_scalars\n",
      "  num = (neighbors.iloc[n].membership[c]) / (dist ** (2 / (m-1)))\n"
     ]
    },
    {
     "name": "stdout",
     "output_type": "stream",
     "text": [
      "TRAIN: [  1   2   3   4   5   6   9  10  11  12  15  16  17  18  19  20  21  23\n",
      "  24  25  26  27  28  29  31  32  33  34  35  36  37  38  39  40  41  43\n",
      "  44  45  46  48  49  51  52  53  55  56  57  59  60  61  62  63  64  65\n",
      "  66  67  69  71  72  73  74  75  76  77  78  79  81  82  83  84  85  86\n",
      "  87  88  89  93  94  96  97  98  99 100 101 102 103 104 105 106 108 109\n",
      " 112 114 115 117 119 121 122 123 124 125 126 127 128 129 130 131 132 133\n",
      " 134 136 137 138 141 142 143 144 145 147 148 149] TEST: [  0   7   8  13  14  22  30  42  47  50  54  58  68  70  80  90  91  92\n",
      "  95 107 110 111 113 116 118 120 135 139 140 146]\n"
     ]
    },
    {
     "name": "stderr",
     "output_type": "stream",
     "text": [
      "C:\\Users\\rita folisi\\Desktop\\Tirocinio\\Codice\\knn\\Funzionanti\\Tirocinio\\FuzzyKNN-master\\fknn.py:55: RuntimeWarning: divide by zero encountered in double_scalars\n",
      "  den += 1 / (dist ** (2 / (m-1)))\n",
      "C:\\Users\\rita folisi\\Desktop\\Tirocinio\\Codice\\knn\\Funzionanti\\Tirocinio\\FuzzyKNN-master\\fknn.py:60: RuntimeWarning: divide by zero encountered in double_scalars\n",
      "  num = (neighbors.iloc[n].membership[c]) / (dist ** (2 / (m-1)))\n",
      "C:\\Users\\rita folisi\\Desktop\\Tirocinio\\Codice\\knn\\Funzionanti\\Tirocinio\\FuzzyKNN-master\\fknn.py:62: RuntimeWarning: invalid value encountered in double_scalars\n",
      "  vote = num/den\n",
      "C:\\Users\\rita folisi\\Desktop\\Tirocinio\\Codice\\knn\\Funzionanti\\Tirocinio\\FuzzyKNN-master\\fknn.py:60: RuntimeWarning: invalid value encountered in double_scalars\n",
      "  num = (neighbors.iloc[n].membership[c]) / (dist ** (2 / (m-1)))\n"
     ]
    },
    {
     "name": "stdout",
     "output_type": "stream",
     "text": [
      "TRAIN: [  0   2   3   4   7   8  10  13  14  15  17  19  21  22  23  24  26  27\n",
      "  30  31  32  33  34  35  36  38  39  40  41  42  43  44  45  46  47  48\n",
      "  49  50  51  53  54  55  58  59  60  64  65  66  67  68  69  70  72  73\n",
      "  74  75  76  78  79  80  81  82  83  84  85  86  87  88  89  90  91  92\n",
      "  93  94  95  96  97 101 102 103 104 105 106 107 108 109 110 111 112 113\n",
      " 115 116 117 118 119 120 123 124 127 128 130 131 132 133 134 135 136 137\n",
      " 138 139 140 141 142 143 144 145 146 147 148 149] TEST: [  1   5   6   9  11  12  16  18  20  25  28  29  37  52  56  57  61  62\n",
      "  63  71  77  98  99 100 114 121 122 125 126 129]\n"
     ]
    },
    {
     "name": "stderr",
     "output_type": "stream",
     "text": [
      "C:\\Users\\rita folisi\\Desktop\\Tirocinio\\Codice\\knn\\Funzionanti\\Tirocinio\\FuzzyKNN-master\\fknn.py:55: RuntimeWarning: divide by zero encountered in double_scalars\n",
      "  den += 1 / (dist ** (2 / (m-1)))\n",
      "C:\\Users\\rita folisi\\Desktop\\Tirocinio\\Codice\\knn\\Funzionanti\\Tirocinio\\FuzzyKNN-master\\fknn.py:60: RuntimeWarning: divide by zero encountered in double_scalars\n",
      "  num = (neighbors.iloc[n].membership[c]) / (dist ** (2 / (m-1)))\n",
      "C:\\Users\\rita folisi\\Desktop\\Tirocinio\\Codice\\knn\\Funzionanti\\Tirocinio\\FuzzyKNN-master\\fknn.py:62: RuntimeWarning: invalid value encountered in double_scalars\n",
      "  vote = num/den\n",
      "C:\\Users\\rita folisi\\Desktop\\Tirocinio\\Codice\\knn\\Funzionanti\\Tirocinio\\FuzzyKNN-master\\fknn.py:60: RuntimeWarning: invalid value encountered in double_scalars\n",
      "  num = (neighbors.iloc[n].membership[c]) / (dist ** (2 / (m-1)))\n"
     ]
    }
   ],
   "source": [
    "value_array = []\n",
    "error_array = []\n",
    "from sklearn.model_selection import StratifiedKFold\n",
    "skf = StratifiedKFold(n_splits=5, shuffle=True, random_state=1)\n",
    "for train_index, test_index in skf.split(X, Y):\n",
    "    print(\"TRAIN:\", train_index, \"TEST:\", test_index)\n",
    "    xTrain, xTest = X[train_index], X[test_index]\n",
    "    yTrain, yTest = Y[train_index], Y[test_index]\n",
    "    model.fit(xTrain, yTrain)\n",
    "    value = model.score(xTest, yTest)\n",
    "    error = model.mean_squared_error(xTest, yTest)\n",
    "    value_array.append(value)\n",
    "    error_array.append(error)"
   ]
  },
  {
   "cell_type": "code",
   "execution_count": 13,
   "metadata": {},
   "outputs": [
    {
     "data": {
      "text/plain": [
       "0.72"
      ]
     },
     "execution_count": 13,
     "metadata": {},
     "output_type": "execute_result"
    }
   ],
   "source": [
    "np.mean(value_array)"
   ]
  },
  {
   "cell_type": "code",
   "execution_count": 14,
   "metadata": {},
   "outputs": [
    {
     "data": {
      "text/plain": [
       "0.27999999999999997"
      ]
     },
     "execution_count": 14,
     "metadata": {},
     "output_type": "execute_result"
    }
   ],
   "source": [
    "np.mean(error_array)"
   ]
  },
  {
   "cell_type": "code",
   "execution_count": 15,
   "metadata": {},
   "outputs": [
    {
     "data": {
      "text/plain": [
       "array([1, 3, 5, 7, 9])"
      ]
     },
     "execution_count": 15,
     "metadata": {},
     "output_type": "execute_result"
    }
   ],
   "source": [
    "a = np.arange (1, 11, 2)\n",
    "parameters = {\"k\" : a}\n",
    "parameters[\"k\"]"
   ]
  },
  {
   "cell_type": "code",
   "execution_count": 16,
   "metadata": {},
   "outputs": [],
   "source": [
    "from sklearn.model_selection import GridSearchCV\n",
    "clf = GridSearchCV(model, parameters, cv = 5)"
   ]
  },
  {
   "cell_type": "code",
   "execution_count": 17,
   "metadata": {},
   "outputs": [
    {
     "name": "stderr",
     "output_type": "stream",
     "text": [
      "C:\\Users\\rita folisi\\Desktop\\Tirocinio\\Codice\\knn\\Funzionanti\\Tirocinio\\FuzzyKNN-master\\fknn.py:55: RuntimeWarning: divide by zero encountered in double_scalars\n",
      "  den += 1 / (dist ** (2 / (m-1)))\n",
      "C:\\Users\\rita folisi\\Desktop\\Tirocinio\\Codice\\knn\\Funzionanti\\Tirocinio\\FuzzyKNN-master\\fknn.py:60: RuntimeWarning: divide by zero encountered in double_scalars\n",
      "  num = (neighbors.iloc[n].membership[c]) / (dist ** (2 / (m-1)))\n",
      "C:\\Users\\rita folisi\\Desktop\\Tirocinio\\Codice\\knn\\Funzionanti\\Tirocinio\\FuzzyKNN-master\\fknn.py:62: RuntimeWarning: invalid value encountered in double_scalars\n",
      "  vote = num/den\n",
      "C:\\Users\\rita folisi\\Desktop\\Tirocinio\\Codice\\knn\\Funzionanti\\Tirocinio\\FuzzyKNN-master\\fknn.py:60: RuntimeWarning: invalid value encountered in double_scalars\n",
      "  num = (neighbors.iloc[n].membership[c]) / (dist ** (2 / (m-1)))\n"
     ]
    },
    {
     "data": {
      "text/plain": [
       "GridSearchCV(cv=5, error_score='raise-deprecating',\n",
       "             estimator=FuzzyKNN(k=3, plot=False), iid='warn', n_jobs=None,\n",
       "             param_grid={'k': array([1, 3, 5, 7, 9])}, pre_dispatch='2*n_jobs',\n",
       "             refit=True, return_train_score=False, scoring=None, verbose=0)"
      ]
     },
     "execution_count": 17,
     "metadata": {},
     "output_type": "execute_result"
    }
   ],
   "source": [
    "clf.fit(xTrain, yTrain)"
   ]
  },
  {
   "cell_type": "code",
   "execution_count": 18,
   "metadata": {},
   "outputs": [
    {
     "data": {
      "text/plain": [
       "0.6"
      ]
     },
     "execution_count": 18,
     "metadata": {},
     "output_type": "execute_result"
    }
   ],
   "source": [
    "clf.score(xTest, yTest) "
   ]
  },
  {
   "cell_type": "code",
   "execution_count": 19,
   "metadata": {},
   "outputs": [
    {
     "data": {
      "text/plain": [
       "{'k': 1}"
      ]
     },
     "execution_count": 19,
     "metadata": {},
     "output_type": "execute_result"
    }
   ],
   "source": [
    "best_params = clf.best_params_\n",
    "best_params"
   ]
  },
  {
   "cell_type": "code",
   "execution_count": 20,
   "metadata": {},
   "outputs": [],
   "source": [
    "model.k = best_params['k']"
   ]
  },
  {
   "cell_type": "code",
   "execution_count": 21,
   "metadata": {},
   "outputs": [
    {
     "data": {
      "text/plain": [
       "numpy.int32"
      ]
     },
     "execution_count": 21,
     "metadata": {},
     "output_type": "execute_result"
    }
   ],
   "source": [
    "type(model.k)"
   ]
  },
  {
   "cell_type": "code",
   "execution_count": 6,
   "metadata": {},
   "outputs": [
    {
     "name": "stdout",
     "output_type": "stream",
     "text": [
      "{0: 1.0, 1: 0.0}\n",
      "{0: nan, 1: nan}\n",
      "{0: nan, 1: nan}\n",
      "{0: 1.0, 1: 0.0}\n",
      "{0: 1.0, 1: 0.0}\n",
      "{0: 0.0, 1: 1.0}\n",
      "{0: 0.44222222222222257, 1: 0.5577777777777775}\n",
      "{0: 1.0, 1: 0.0}\n",
      "{0: nan, 1: nan}\n",
      "{0: 0.0, 1: 1.0000000000000002}\n",
      "{0: 0.4633333333333326, 1: 0.5366666666666673}\n",
      "{0: 0.10888888888888856, 1: 0.8911111111111114}\n",
      "{0: 0.44222222222222257, 1: 0.5577777777777775}\n",
      "{0: 0.8833333333333336, 1: 0.11666666666666628}\n",
      "{0: nan, 1: nan}\n",
      "{0: 1.0, 1: 0.0}\n",
      "{0: 0.6694535519125684, 1: 0.3305464480874316}\n",
      "{0: 0.41833333333333333, 1: 0.5816666666666666}\n"
     ]
    },
    {
     "name": "stderr",
     "output_type": "stream",
     "text": [
      "C:\\Users\\rita folisi\\Desktop\\Tirocinio\\Codice\\knn\\Funzionanti\\Tirocinio\\FuzzyKNN-master\\fknn.py:56: RuntimeWarning: divide by zero encountered in double_scalars\n",
      "  den += 1 / (dist ** (2 / (m-1)))\n",
      "C:\\Users\\rita folisi\\Desktop\\Tirocinio\\Codice\\knn\\Funzionanti\\Tirocinio\\FuzzyKNN-master\\fknn.py:61: RuntimeWarning: divide by zero encountered in double_scalars\n",
      "  num = (neighbors.iloc[n].membership[c]) / (dist ** (2 / (m-1)))\n",
      "C:\\Users\\rita folisi\\Desktop\\Tirocinio\\Codice\\knn\\Funzionanti\\Tirocinio\\FuzzyKNN-master\\fknn.py:63: RuntimeWarning: invalid value encountered in double_scalars\n",
      "  vote = num/den\n",
      "C:\\Users\\rita folisi\\Desktop\\Tirocinio\\Codice\\knn\\Funzionanti\\Tirocinio\\FuzzyKNN-master\\fknn.py:61: RuntimeWarning: invalid value encountered in double_scalars\n",
      "  num = (neighbors.iloc[n].membership[c]) / (dist ** (2 / (m-1)))\n"
     ]
    },
    {
     "name": "stdout",
     "output_type": "stream",
     "text": [
      "{0: nan, 1: nan}\n",
      "{0: nan, 1: nan}\n",
      "{0: 0.13466666666666763, 1: 0.8653333333333324}\n",
      "{0: nan, 1: nan}\n",
      "{0: 0.22444444444444378, 1: 0.7755555555555562}\n",
      "{0: 0.41833333333333333, 1: 0.5816666666666666}\n",
      "{0: 1.0, 1: 0.0}\n",
      "{0: 1.0, 1: 0.0}\n",
      "{0: 1.0, 1: 0.0}\n",
      "{0: nan, 1: nan}\n",
      "{0: 1.0, 1: 0.0}\n",
      "{0: nan, 1: nan}\n",
      "{0: nan, 1: nan}\n",
      "{0: nan, 1: nan}\n",
      "{0: 0.5577777777777801, 1: 0.44222222222221974}\n",
      "{0: 0.9999999999999998, 1: 0.0}\n",
      "{0: 0.0, 1: 1.0}\n",
      "{0: nan, 1: nan}\n",
      "{0: nan, 1: nan}\n",
      "{0: nan, 1: nan}\n"
     ]
    },
    {
     "data": {
      "text/plain": [
       "0.8157894736842105"
      ]
     },
     "execution_count": 6,
     "metadata": {},
     "output_type": "execute_result"
    }
   ],
   "source": [
    "from fknn import *\n",
    "import numpy as np\n",
    "\n",
    "model = FuzzyKNN()\n",
    "model.fit(xTrain, yTrain)\n",
    "model.score(xTest, yTest)"
   ]
  },
  {
   "cell_type": "code",
   "execution_count": null,
   "metadata": {},
   "outputs": [],
   "source": []
  },
  {
   "cell_type": "code",
   "execution_count": 7,
   "metadata": {},
   "outputs": [
    {
     "data": {
      "text/plain": [
       "array([0, 0, 0, 0, 0, 1, 0, 0, 1, 0, 1, 1, 0, 0, 0, 0, 0, 1, 0, 0, 1, 1,\n",
       "       1, 1, 0, 0, 0, 0, 0, 0, 0, 0, 1, 0, 0, 0, 0, 0], dtype=int64)"
      ]
     },
     "execution_count": 7,
     "metadata": {},
     "output_type": "execute_result"
    }
   ],
   "source": [
    "yTest"
   ]
  },
  {
   "cell_type": "code",
   "execution_count": 45,
   "metadata": {},
   "outputs": [
    {
     "name": "stdout",
     "output_type": "stream",
     "text": [
      "{0: 1.0, 1: 0.0}\n",
      "{0: nan, 1: nan}\n",
      "{0: nan, 1: nan}\n",
      "{0: 1.0, 1: 0.0}\n"
     ]
    },
    {
     "data": {
      "text/plain": [
       "[{0: 1.0, 1: 0.0}, {0: nan, 1: nan}, {0: nan, 1: nan}, {0: 1.0, 1: 0.0}]"
      ]
     },
     "execution_count": 45,
     "metadata": {},
     "output_type": "execute_result"
    }
   ],
   "source": [
    "memb, _ = model.predict(xTest[0:4])\n",
    "memb"
   ]
  },
  {
   "cell_type": "code",
   "execution_count": 46,
   "metadata": {},
   "outputs": [
    {
     "data": {
      "text/plain": [
       "[0.0, nan, nan, 0.0]"
      ]
     },
     "execution_count": 46,
     "metadata": {},
     "output_type": "execute_result"
    }
   ],
   "source": [
    "res = []\n",
    "for t in memb:\n",
    "    res.append(t[1])\n",
    "res"
   ]
  },
  {
   "cell_type": "code",
   "execution_count": 47,
   "metadata": {},
   "outputs": [
    {
     "ename": "ValueError",
     "evalue": "Input contains NaN, infinity or a value too large for dtype('float64').",
     "output_type": "error",
     "traceback": [
      "\u001b[1;31m---------------------------------------------------------------------------\u001b[0m",
      "\u001b[1;31mValueError\u001b[0m                                Traceback (most recent call last)",
      "\u001b[1;32m<ipython-input-47-3b69e16b22ba>\u001b[0m in \u001b[0;36m<module>\u001b[1;34m\u001b[0m\n\u001b[1;32m----> 1\u001b[1;33m \u001b[0mmean_squared_error\u001b[0m\u001b[1;33m(\u001b[0m\u001b[0myTest\u001b[0m\u001b[1;33m[\u001b[0m\u001b[1;36m0\u001b[0m\u001b[1;33m:\u001b[0m\u001b[1;36m4\u001b[0m\u001b[1;33m]\u001b[0m\u001b[1;33m,\u001b[0m \u001b[0mres\u001b[0m\u001b[1;33m)\u001b[0m\u001b[1;33m\u001b[0m\u001b[1;33m\u001b[0m\u001b[0m\n\u001b[0m",
      "\u001b[1;32m~\\Anaconda3\\lib\\site-packages\\sklearn\\metrics\\regression.py\u001b[0m in \u001b[0;36mmean_squared_error\u001b[1;34m(y_true, y_pred, sample_weight, multioutput)\u001b[0m\n\u001b[0;32m    239\u001b[0m     \"\"\"\n\u001b[0;32m    240\u001b[0m     y_type, y_true, y_pred, multioutput = _check_reg_targets(\n\u001b[1;32m--> 241\u001b[1;33m         y_true, y_pred, multioutput)\n\u001b[0m\u001b[0;32m    242\u001b[0m     \u001b[0mcheck_consistent_length\u001b[0m\u001b[1;33m(\u001b[0m\u001b[0my_true\u001b[0m\u001b[1;33m,\u001b[0m \u001b[0my_pred\u001b[0m\u001b[1;33m,\u001b[0m \u001b[0msample_weight\u001b[0m\u001b[1;33m)\u001b[0m\u001b[1;33m\u001b[0m\u001b[1;33m\u001b[0m\u001b[0m\n\u001b[0;32m    243\u001b[0m     output_errors = np.average((y_true - y_pred) ** 2, axis=0,\n",
      "\u001b[1;32m~\\Anaconda3\\lib\\site-packages\\sklearn\\metrics\\regression.py\u001b[0m in \u001b[0;36m_check_reg_targets\u001b[1;34m(y_true, y_pred, multioutput)\u001b[0m\n\u001b[0;32m     77\u001b[0m     \u001b[0mcheck_consistent_length\u001b[0m\u001b[1;33m(\u001b[0m\u001b[0my_true\u001b[0m\u001b[1;33m,\u001b[0m \u001b[0my_pred\u001b[0m\u001b[1;33m)\u001b[0m\u001b[1;33m\u001b[0m\u001b[1;33m\u001b[0m\u001b[0m\n\u001b[0;32m     78\u001b[0m     \u001b[0my_true\u001b[0m \u001b[1;33m=\u001b[0m \u001b[0mcheck_array\u001b[0m\u001b[1;33m(\u001b[0m\u001b[0my_true\u001b[0m\u001b[1;33m,\u001b[0m \u001b[0mensure_2d\u001b[0m\u001b[1;33m=\u001b[0m\u001b[1;32mFalse\u001b[0m\u001b[1;33m)\u001b[0m\u001b[1;33m\u001b[0m\u001b[1;33m\u001b[0m\u001b[0m\n\u001b[1;32m---> 79\u001b[1;33m     \u001b[0my_pred\u001b[0m \u001b[1;33m=\u001b[0m \u001b[0mcheck_array\u001b[0m\u001b[1;33m(\u001b[0m\u001b[0my_pred\u001b[0m\u001b[1;33m,\u001b[0m \u001b[0mensure_2d\u001b[0m\u001b[1;33m=\u001b[0m\u001b[1;32mFalse\u001b[0m\u001b[1;33m)\u001b[0m\u001b[1;33m\u001b[0m\u001b[1;33m\u001b[0m\u001b[0m\n\u001b[0m\u001b[0;32m     80\u001b[0m \u001b[1;33m\u001b[0m\u001b[0m\n\u001b[0;32m     81\u001b[0m     \u001b[1;32mif\u001b[0m \u001b[0my_true\u001b[0m\u001b[1;33m.\u001b[0m\u001b[0mndim\u001b[0m \u001b[1;33m==\u001b[0m \u001b[1;36m1\u001b[0m\u001b[1;33m:\u001b[0m\u001b[1;33m\u001b[0m\u001b[1;33m\u001b[0m\u001b[0m\n",
      "\u001b[1;32m~\\Anaconda3\\lib\\site-packages\\sklearn\\utils\\validation.py\u001b[0m in \u001b[0;36mcheck_array\u001b[1;34m(array, accept_sparse, accept_large_sparse, dtype, order, copy, force_all_finite, ensure_2d, allow_nd, ensure_min_samples, ensure_min_features, warn_on_dtype, estimator)\u001b[0m\n\u001b[0;32m    540\u001b[0m         \u001b[1;32mif\u001b[0m \u001b[0mforce_all_finite\u001b[0m\u001b[1;33m:\u001b[0m\u001b[1;33m\u001b[0m\u001b[1;33m\u001b[0m\u001b[0m\n\u001b[0;32m    541\u001b[0m             _assert_all_finite(array,\n\u001b[1;32m--> 542\u001b[1;33m                                allow_nan=force_all_finite == 'allow-nan')\n\u001b[0m\u001b[0;32m    543\u001b[0m \u001b[1;33m\u001b[0m\u001b[0m\n\u001b[0;32m    544\u001b[0m     \u001b[1;32mif\u001b[0m \u001b[0mensure_min_samples\u001b[0m \u001b[1;33m>\u001b[0m \u001b[1;36m0\u001b[0m\u001b[1;33m:\u001b[0m\u001b[1;33m\u001b[0m\u001b[1;33m\u001b[0m\u001b[0m\n",
      "\u001b[1;32m~\\Anaconda3\\lib\\site-packages\\sklearn\\utils\\validation.py\u001b[0m in \u001b[0;36m_assert_all_finite\u001b[1;34m(X, allow_nan)\u001b[0m\n\u001b[0;32m     54\u001b[0m                 not allow_nan and not np.isfinite(X).all()):\n\u001b[0;32m     55\u001b[0m             \u001b[0mtype_err\u001b[0m \u001b[1;33m=\u001b[0m \u001b[1;34m'infinity'\u001b[0m \u001b[1;32mif\u001b[0m \u001b[0mallow_nan\u001b[0m \u001b[1;32melse\u001b[0m \u001b[1;34m'NaN, infinity'\u001b[0m\u001b[1;33m\u001b[0m\u001b[1;33m\u001b[0m\u001b[0m\n\u001b[1;32m---> 56\u001b[1;33m             \u001b[1;32mraise\u001b[0m \u001b[0mValueError\u001b[0m\u001b[1;33m(\u001b[0m\u001b[0mmsg_err\u001b[0m\u001b[1;33m.\u001b[0m\u001b[0mformat\u001b[0m\u001b[1;33m(\u001b[0m\u001b[0mtype_err\u001b[0m\u001b[1;33m,\u001b[0m \u001b[0mX\u001b[0m\u001b[1;33m.\u001b[0m\u001b[0mdtype\u001b[0m\u001b[1;33m)\u001b[0m\u001b[1;33m)\u001b[0m\u001b[1;33m\u001b[0m\u001b[1;33m\u001b[0m\u001b[0m\n\u001b[0m\u001b[0;32m     57\u001b[0m     \u001b[1;31m# for object dtype data, we only check for NaNs (GH-13254)\u001b[0m\u001b[1;33m\u001b[0m\u001b[1;33m\u001b[0m\u001b[1;33m\u001b[0m\u001b[0m\n\u001b[0;32m     58\u001b[0m     \u001b[1;32melif\u001b[0m \u001b[0mX\u001b[0m\u001b[1;33m.\u001b[0m\u001b[0mdtype\u001b[0m \u001b[1;33m==\u001b[0m \u001b[0mnp\u001b[0m\u001b[1;33m.\u001b[0m\u001b[0mdtype\u001b[0m\u001b[1;33m(\u001b[0m\u001b[1;34m'object'\u001b[0m\u001b[1;33m)\u001b[0m \u001b[1;32mand\u001b[0m \u001b[1;32mnot\u001b[0m \u001b[0mallow_nan\u001b[0m\u001b[1;33m:\u001b[0m\u001b[1;33m\u001b[0m\u001b[1;33m\u001b[0m\u001b[0m\n",
      "\u001b[1;31mValueError\u001b[0m: Input contains NaN, infinity or a value too large for dtype('float64')."
     ]
    }
   ],
   "source": [
    "mean_squared_error(yTest[0:4], res) "
   ]
  },
  {
   "cell_type": "code",
   "execution_count": null,
   "metadata": {},
   "outputs": [],
   "source": []
  }
 ],
 "metadata": {
  "kernelspec": {
   "display_name": "Python 3",
   "language": "python",
   "name": "python3"
  },
  "language_info": {
   "codemirror_mode": {
    "name": "ipython",
    "version": 3
   },
   "file_extension": ".py",
   "mimetype": "text/x-python",
   "name": "python",
   "nbconvert_exporter": "python",
   "pygments_lexer": "ipython3",
   "version": "3.7.4"
  }
 },
 "nbformat": 4,
 "nbformat_minor": 2
}
