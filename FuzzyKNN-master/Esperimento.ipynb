{
 "cells": [
  {
   "cell_type": "code",
   "execution_count": 18,
   "metadata": {},
   "outputs": [],
   "source": [
    "from fknn import *\n",
    "import numpy as np"
   ]
  },
  {
   "cell_type": "code",
   "execution_count": 19,
   "metadata": {},
   "outputs": [],
   "source": [
    "import pandas as pd\n",
    "dataset = pd.read_csv(\"iris-virginica.csv\")"
   ]
  },
  {
   "cell_type": "code",
   "execution_count": 20,
   "metadata": {},
   "outputs": [
    {
     "data": {
      "text/html": [
       "<div>\n",
       "<style scoped>\n",
       "    .dataframe tbody tr th:only-of-type {\n",
       "        vertical-align: middle;\n",
       "    }\n",
       "\n",
       "    .dataframe tbody tr th {\n",
       "        vertical-align: top;\n",
       "    }\n",
       "\n",
       "    .dataframe thead th {\n",
       "        text-align: right;\n",
       "    }\n",
       "</style>\n",
       "<table border=\"1\" class=\"dataframe\">\n",
       "  <thead>\n",
       "    <tr style=\"text-align: right;\">\n",
       "      <th></th>\n",
       "      <th>species</th>\n",
       "      <th>sepal_length</th>\n",
       "      <th>sepal_width</th>\n",
       "      <th>petal_length</th>\n",
       "      <th>petal_width</th>\n",
       "    </tr>\n",
       "  </thead>\n",
       "  <tbody>\n",
       "    <tr>\n",
       "      <td>0</td>\n",
       "      <td>0</td>\n",
       "      <td>5.1</td>\n",
       "      <td>3.5</td>\n",
       "      <td>1.4</td>\n",
       "      <td>0.2</td>\n",
       "    </tr>\n",
       "    <tr>\n",
       "      <td>1</td>\n",
       "      <td>0</td>\n",
       "      <td>4.9</td>\n",
       "      <td>3.0</td>\n",
       "      <td>1.4</td>\n",
       "      <td>0.2</td>\n",
       "    </tr>\n",
       "    <tr>\n",
       "      <td>2</td>\n",
       "      <td>0</td>\n",
       "      <td>4.7</td>\n",
       "      <td>3.2</td>\n",
       "      <td>1.3</td>\n",
       "      <td>0.2</td>\n",
       "    </tr>\n",
       "    <tr>\n",
       "      <td>3</td>\n",
       "      <td>0</td>\n",
       "      <td>4.6</td>\n",
       "      <td>3.1</td>\n",
       "      <td>1.5</td>\n",
       "      <td>0.2</td>\n",
       "    </tr>\n",
       "    <tr>\n",
       "      <td>4</td>\n",
       "      <td>0</td>\n",
       "      <td>5.0</td>\n",
       "      <td>3.6</td>\n",
       "      <td>1.4</td>\n",
       "      <td>0.2</td>\n",
       "    </tr>\n",
       "    <tr>\n",
       "      <td>...</td>\n",
       "      <td>...</td>\n",
       "      <td>...</td>\n",
       "      <td>...</td>\n",
       "      <td>...</td>\n",
       "      <td>...</td>\n",
       "    </tr>\n",
       "    <tr>\n",
       "      <td>145</td>\n",
       "      <td>1</td>\n",
       "      <td>6.7</td>\n",
       "      <td>3.0</td>\n",
       "      <td>5.2</td>\n",
       "      <td>2.3</td>\n",
       "    </tr>\n",
       "    <tr>\n",
       "      <td>146</td>\n",
       "      <td>1</td>\n",
       "      <td>6.3</td>\n",
       "      <td>2.5</td>\n",
       "      <td>5.0</td>\n",
       "      <td>1.9</td>\n",
       "    </tr>\n",
       "    <tr>\n",
       "      <td>147</td>\n",
       "      <td>1</td>\n",
       "      <td>6.5</td>\n",
       "      <td>3.0</td>\n",
       "      <td>5.2</td>\n",
       "      <td>2.0</td>\n",
       "    </tr>\n",
       "    <tr>\n",
       "      <td>148</td>\n",
       "      <td>1</td>\n",
       "      <td>6.2</td>\n",
       "      <td>3.4</td>\n",
       "      <td>5.4</td>\n",
       "      <td>2.3</td>\n",
       "    </tr>\n",
       "    <tr>\n",
       "      <td>149</td>\n",
       "      <td>1</td>\n",
       "      <td>5.9</td>\n",
       "      <td>3.0</td>\n",
       "      <td>5.1</td>\n",
       "      <td>1.8</td>\n",
       "    </tr>\n",
       "  </tbody>\n",
       "</table>\n",
       "<p>150 rows × 5 columns</p>\n",
       "</div>"
      ],
      "text/plain": [
       "     species  sepal_length  sepal_width  petal_length  petal_width\n",
       "0          0           5.1          3.5           1.4          0.2\n",
       "1          0           4.9          3.0           1.4          0.2\n",
       "2          0           4.7          3.2           1.3          0.2\n",
       "3          0           4.6          3.1           1.5          0.2\n",
       "4          0           5.0          3.6           1.4          0.2\n",
       "..       ...           ...          ...           ...          ...\n",
       "145        1           6.7          3.0           5.2          2.3\n",
       "146        1           6.3          2.5           5.0          1.9\n",
       "147        1           6.5          3.0           5.2          2.0\n",
       "148        1           6.2          3.4           5.4          2.3\n",
       "149        1           5.9          3.0           5.1          1.8\n",
       "\n",
       "[150 rows x 5 columns]"
      ]
     },
     "execution_count": 20,
     "metadata": {},
     "output_type": "execute_result"
    }
   ],
   "source": [
    "dataset"
   ]
  },
  {
   "cell_type": "code",
   "execution_count": 21,
   "metadata": {},
   "outputs": [
    {
     "data": {
      "text/plain": [
       "array([0, 0, 0, 0, 0, 0, 0, 0, 0, 0, 0, 0, 0, 0, 0, 0, 0, 0, 0, 0, 0, 0,\n",
       "       0, 0, 0, 0, 0, 0, 0, 0, 0, 0, 0, 0, 0, 0, 0, 0, 0, 0, 0, 0, 0, 0,\n",
       "       0, 0, 0, 0, 0, 0, 0, 0, 0, 0, 0, 0, 0, 0, 0, 0, 0, 0, 0, 0, 0, 0,\n",
       "       0, 0, 0, 0, 0, 0, 0, 0, 0, 0, 0, 0, 0, 0, 0, 0, 0, 0, 0, 0, 0, 0,\n",
       "       0, 0, 0, 0, 0, 0, 0, 0, 0, 0, 0, 0, 1, 1, 1, 1, 1, 1, 1, 1, 1, 1,\n",
       "       1, 1, 1, 1, 1, 1, 1, 1, 1, 1, 1, 1, 1, 1, 1, 1, 1, 1, 1, 1, 1, 1,\n",
       "       1, 1, 1, 1, 1, 1, 1, 1, 1, 1, 1, 1, 1, 1, 1, 1, 1, 1], dtype=int64)"
      ]
     },
     "execution_count": 21,
     "metadata": {},
     "output_type": "execute_result"
    }
   ],
   "source": [
    "X = dataset.iloc[:, 1:]\n",
    "Y = dataset.iloc[:,0]\n",
    "\n",
    "X = np.array(X)\n",
    "Y = np.array(Y)\n",
    "Y"
   ]
  },
  {
   "cell_type": "code",
   "execution_count": 22,
   "metadata": {},
   "outputs": [],
   "source": [
    "from sklearn.model_selection import train_test_split\n",
    "xTrain, xTest, yTrain, yTest = train_test_split(X,Y)"
   ]
  },
  {
   "cell_type": "code",
   "execution_count": 23,
   "metadata": {},
   "outputs": [],
   "source": [
    "import pprint\n",
    "import operator\n",
    "\n",
    "import matplotlib.pyplot as plt\n",
    "\n",
    "from sklearn.model_selection import train_test_split, cross_val_score\n",
    "from sklearn.datasets import load_iris, load_breast_cancer\n",
    "from sklearn.metrics import accuracy_score\n",
    "from sklearn.neighbors import KNeighborsClassifier\n",
    "from sklearn.base import BaseEstimator, ClassifierMixin\n",
    "from sklearn.metrics import mean_squared_error"
   ]
  },
  {
   "cell_type": "code",
   "execution_count": null,
   "metadata": {},
   "outputs": [],
   "source": []
  },
  {
   "cell_type": "code",
   "execution_count": 10,
   "metadata": {},
   "outputs": [],
   "source": [
    "model = FuzzyKNN()"
   ]
  },
  {
   "cell_type": "code",
   "execution_count": 11,
   "metadata": {},
   "outputs": [
    {
     "data": {
      "text/plain": [
       "FuzzyKNN(k=3, plot=False)"
      ]
     },
     "execution_count": 11,
     "metadata": {},
     "output_type": "execute_result"
    }
   ],
   "source": [
    "model.fit(xTrain, yTrain)"
   ]
  },
  {
   "cell_type": "code",
   "execution_count": 12,
   "metadata": {},
   "outputs": [
    {
     "name": "stderr",
     "output_type": "stream",
     "text": [
      "C:\\Users\\rita folisi\\Desktop\\Tirocinio\\Codice\\knn\\Funzionanti\\Tirocinio\\FuzzyKNN-master\\fknn.py:55: RuntimeWarning: divide by zero encountered in double_scalars\n",
      "  den += 1 / (dist ** (2 / (m-1)))\n",
      "C:\\Users\\rita folisi\\Desktop\\Tirocinio\\Codice\\knn\\Funzionanti\\Tirocinio\\FuzzyKNN-master\\fknn.py:60: RuntimeWarning: divide by zero encountered in double_scalars\n",
      "  num = (neighbors.iloc[n].membership[c]) / (dist ** (2 / (m-1)))\n",
      "C:\\Users\\rita folisi\\Desktop\\Tirocinio\\Codice\\knn\\Funzionanti\\Tirocinio\\FuzzyKNN-master\\fknn.py:62: RuntimeWarning: invalid value encountered in double_scalars\n",
      "  vote = num/den\n",
      "C:\\Users\\rita folisi\\Desktop\\Tirocinio\\Codice\\knn\\Funzionanti\\Tirocinio\\FuzzyKNN-master\\fknn.py:60: RuntimeWarning: invalid value encountered in double_scalars\n",
      "  num = (neighbors.iloc[n].membership[c]) / (dist ** (2 / (m-1)))\n"
     ]
    },
    {
     "data": {
      "text/plain": [
       "1.0"
      ]
     },
     "execution_count": 12,
     "metadata": {},
     "output_type": "execute_result"
    }
   ],
   "source": [
    "model.score(xTest, yTest)"
   ]
  },
  {
   "cell_type": "code",
   "execution_count": 13,
   "metadata": {},
   "outputs": [
    {
     "data": {
      "text/plain": [
       "0.0"
      ]
     },
     "execution_count": 13,
     "metadata": {},
     "output_type": "execute_result"
    }
   ],
   "source": [
    "model.mean_squared_error(xTest, yTest)"
   ]
  },
  {
   "cell_type": "code",
   "execution_count": 14,
   "metadata": {},
   "outputs": [
    {
     "data": {
      "text/plain": [
       "[(0, {0: 1.0, 1: 0.0}),\n",
       " (0, {0: 1.0000000000000002, 1: 0.0}),\n",
       " (0, {0: 1.0, 1: 0.0}),\n",
       " (1, {0: 0.0, 1: 1.0})]"
      ]
     },
     "execution_count": 14,
     "metadata": {},
     "output_type": "execute_result"
    }
   ],
   "source": [
    "model.predict(xTrain[3])"
   ]
  },
  {
   "cell_type": "code",
   "execution_count": 15,
   "metadata": {},
   "outputs": [
    {
     "name": "stdout",
     "output_type": "stream",
     "text": [
      "TRAIN: [  0   1   2   4   6   7   8   9  10  11  12  13  15  16  17  18  19  20\n",
      "  21  22  23  24  25  26  27  28  29  30  31  34  36  37  40  41  42  45\n",
      "  46  47  48  49  50  51  52  53  54  55  56  57  58  59  61  62  63  64\n",
      "  65  66  68  69  70  71  72  73  74  75  76  77  78  79  80  84  85  87\n",
      "  88  90  91  92  93  95  96  97  98  99 100 103 104 105 107 108 109 110\n",
      " 111 112 113 114 116 117 118 120 121 122 123 124 125 126 127 129 133 135\n",
      " 136 137 138 139 140 141 144 145 146 147 148 149] TEST: [  3   5  14  32  33  35  38  39  43  44  60  67  81  82  83  86  89  94\n",
      " 101 102 106 115 119 128 130 131 132 134 142 143]\n",
      "TRAIN: [  0   2   3   4   5   6   7   8  10  11  12  13  14  17  18  20  21  23\n",
      "  24  25  27  29  30  31  32  33  34  35  36  37  38  39  40  41  42  43\n",
      "  44  45  48  49  50  51  53  54  55  56  57  58  59  60  61  62  63  64\n",
      "  65  66  67  68  70  71  72  74  75  76  78  79  80  81  82  83  86  87\n",
      "  89  91  92  93  94  95  97  99 100 101 102 103 105 106 107 108 110 111\n",
      " 113 114 115 116 118 119 120 121 122 124 125 126 127 128 129 130 131 132\n",
      " 133 134 135 136 137 139 140 141 142 143 146 148] TEST: [  1   9  15  16  19  22  26  28  46  47  52  69  73  77  84  85  88  90\n",
      "  96  98 104 109 112 117 123 138 144 145 147 149]\n"
     ]
    },
    {
     "name": "stderr",
     "output_type": "stream",
     "text": [
      "C:\\Users\\rita folisi\\Desktop\\Tirocinio\\Codice\\knn\\Funzionanti\\Tirocinio\\FuzzyKNN-master\\fknn.py:55: RuntimeWarning: divide by zero encountered in double_scalars\n",
      "  den += 1 / (dist ** (2 / (m-1)))\n",
      "C:\\Users\\rita folisi\\Desktop\\Tirocinio\\Codice\\knn\\Funzionanti\\Tirocinio\\FuzzyKNN-master\\fknn.py:60: RuntimeWarning: invalid value encountered in double_scalars\n",
      "  num = (neighbors.iloc[n].membership[c]) / (dist ** (2 / (m-1)))\n",
      "C:\\Users\\rita folisi\\Desktop\\Tirocinio\\Codice\\knn\\Funzionanti\\Tirocinio\\FuzzyKNN-master\\fknn.py:60: RuntimeWarning: divide by zero encountered in double_scalars\n",
      "  num = (neighbors.iloc[n].membership[c]) / (dist ** (2 / (m-1)))\n",
      "C:\\Users\\rita folisi\\Desktop\\Tirocinio\\Codice\\knn\\Funzionanti\\Tirocinio\\FuzzyKNN-master\\fknn.py:62: RuntimeWarning: invalid value encountered in double_scalars\n",
      "  vote = num/den\n"
     ]
    },
    {
     "name": "stdout",
     "output_type": "stream",
     "text": [
      "TRAIN: [  0   1   2   3   4   5   6   7   8   9  11  12  13  14  15  16  18  19\n",
      "  20  21  22  26  27  28  30  32  33  35  38  39  40  41  42  43  44  45\n",
      "  46  47  48  49  50  51  52  55  56  57  58  59  60  61  62  63  64  66\n",
      "  67  68  69  70  72  73  75  77  78  79  80  81  82  83  84  85  86  87\n",
      "  88  89  90  92  94  96  97  98 100 101 102 104 106 107 109 110 111 112\n",
      " 113 114 115 116 117 118 119 120 121 122 123 125 126 128 129 130 131 132\n",
      " 134 135 138 139 140 142 143 144 145 146 147 149] TEST: [ 10  17  23  24  25  29  31  34  36  37  53  54  65  71  74  76  91  93\n",
      "  95  99 103 105 108 124 127 133 136 137 141 148]\n"
     ]
    },
    {
     "name": "stderr",
     "output_type": "stream",
     "text": [
      "C:\\Users\\rita folisi\\Desktop\\Tirocinio\\Codice\\knn\\Funzionanti\\Tirocinio\\FuzzyKNN-master\\fknn.py:55: RuntimeWarning: divide by zero encountered in double_scalars\n",
      "  den += 1 / (dist ** (2 / (m-1)))\n",
      "C:\\Users\\rita folisi\\Desktop\\Tirocinio\\Codice\\knn\\Funzionanti\\Tirocinio\\FuzzyKNN-master\\fknn.py:60: RuntimeWarning: invalid value encountered in double_scalars\n",
      "  num = (neighbors.iloc[n].membership[c]) / (dist ** (2 / (m-1)))\n",
      "C:\\Users\\rita folisi\\Desktop\\Tirocinio\\Codice\\knn\\Funzionanti\\Tirocinio\\FuzzyKNN-master\\fknn.py:60: RuntimeWarning: divide by zero encountered in double_scalars\n",
      "  num = (neighbors.iloc[n].membership[c]) / (dist ** (2 / (m-1)))\n",
      "C:\\Users\\rita folisi\\Desktop\\Tirocinio\\Codice\\knn\\Funzionanti\\Tirocinio\\FuzzyKNN-master\\fknn.py:62: RuntimeWarning: invalid value encountered in double_scalars\n",
      "  vote = num/den\n"
     ]
    },
    {
     "name": "stdout",
     "output_type": "stream",
     "text": [
      "TRAIN: [  1   2   3   5   6   7   9  10  11  12  13  14  15  16  17  19  21  22\n",
      "  23  24  25  26  27  28  29  31  32  33  34  35  36  37  38  39  43  44\n",
      "  46  47  48  49  51  52  53  54  55  56  59  60  61  62  65  66  67  68\n",
      "  69  70  71  73  74  75  76  77  78  79  81  82  83  84  85  86  87  88\n",
      "  89  90  91  93  94  95  96  98  99 100 101 102 103 104 105 106 108 109\n",
      " 112 114 115 117 119 121 122 123 124 125 126 127 128 129 130 131 132 133\n",
      " 134 136 137 138 141 142 143 144 145 147 148 149] TEST: [  0   4   8  18  20  30  40  41  42  45  50  57  58  63  64  72  80  92\n",
      "  97 107 110 111 113 116 118 120 135 139 140 146]\n",
      "TRAIN: [  0   1   3   4   5   8   9  10  14  15  16  17  18  19  20  22  23  24\n",
      "  25  26  28  29  30  31  32  33  34  35  36  37  38  39  40  41  42  43\n",
      "  44  45  46  47  50  52  53  54  57  58  60  63  64  65  67  69  71  72\n",
      "  73  74  76  77  80  81  82  83  84  85  86  88  89  90  91  92  93  94\n",
      "  95  96  97  98  99 101 102 103 104 105 106 107 108 109 110 111 112 113\n",
      " 115 116 117 118 119 120 123 124 127 128 130 131 132 133 134 135 136 137\n",
      " 138 139 140 141 142 143 144 145 146 147 148 149] TEST: [  2   6   7  11  12  13  21  27  48  49  51  55  56  59  61  62  66  68\n",
      "  70  75  78  79  87 100 114 121 122 125 126 129]\n"
     ]
    }
   ],
   "source": [
    "value_array = []\n",
    "error_array = []\n",
    "from sklearn.model_selection import StratifiedKFold\n",
    "skf = StratifiedKFold(n_splits=5, shuffle=True, random_state=1)\n",
    "for train_index, test_index in skf.split(X, Y):\n",
    "    print(\"TRAIN:\", train_index, \"TEST:\", test_index)\n",
    "    xTrain, xTest = X[train_index], X[test_index]\n",
    "    yTrain, yTest = Y[train_index], Y[test_index]\n",
    "    model.fit(xTrain, yTrain)\n",
    "    value = model.score(xTest, yTest)\n",
    "    error = model.mean_squared_error(xTest, yTest)\n",
    "    value_array.append(value)\n",
    "    error_array.append(error)"
   ]
  },
  {
   "cell_type": "code",
   "execution_count": 16,
   "metadata": {},
   "outputs": [
    {
     "data": {
      "text/plain": [
       "[1.0, 0.9666666666666667, 0.9333333333333333, 1.0, 1.0]"
      ]
     },
     "execution_count": 16,
     "metadata": {},
     "output_type": "execute_result"
    }
   ],
   "source": [
    "value_array"
   ]
  },
  {
   "cell_type": "code",
   "execution_count": 17,
   "metadata": {},
   "outputs": [
    {
     "data": {
      "text/plain": [
       "[0.0, 0.03333333333333333, 0.06666666666666667, 0.0, 0.0]"
      ]
     },
     "execution_count": 17,
     "metadata": {},
     "output_type": "execute_result"
    }
   ],
   "source": [
    "error_array"
   ]
  },
  {
   "cell_type": "code",
   "execution_count": null,
   "metadata": {},
   "outputs": [],
   "source": []
  }
 ],
 "metadata": {
  "kernelspec": {
   "display_name": "Python 3",
   "language": "python",
   "name": "python3"
  },
  "language_info": {
   "codemirror_mode": {
    "name": "ipython",
    "version": 3
   },
   "file_extension": ".py",
   "mimetype": "text/x-python",
   "name": "python",
   "nbconvert_exporter": "python",
   "pygments_lexer": "ipython3",
   "version": "3.7.4"
  }
 },
 "nbformat": 4,
 "nbformat_minor": 2
}
