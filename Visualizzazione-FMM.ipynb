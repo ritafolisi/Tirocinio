{
 "cells": [
  {
   "cell_type": "code",
   "execution_count": 1,
   "metadata": {},
   "outputs": [],
   "source": [
    "import pandas as pd\n",
    "import numpy as np\n",
    "import sklearn as sk\n",
    "import sys\n",
    "from sklearn.model_selection import train_test_split"
   ]
  },
  {
   "cell_type": "code",
   "execution_count": 3,
   "metadata": {},
   "outputs": [],
   "source": [
    "sys.path.insert(1, 'fuzzy-min-max')\n",
    "from fuzzy import *"
   ]
  },
  {
   "cell_type": "markdown",
   "metadata": {},
   "source": [
    "# Setosa"
   ]
  },
  {
   "cell_type": "code",
   "execution_count": 36,
   "metadata": {},
   "outputs": [],
   "source": [
    "df = pd.read_csv('Dataset/iris-setosa.csv')\n",
    "\n",
    "df = df.sample(frac=1)\n",
    "\n",
    "X = df.iloc[:, 1:3].values\n",
    "y = df.iloc[:,0].values"
   ]
  },
  {
   "cell_type": "code",
   "execution_count": 37,
   "metadata": {},
   "outputs": [],
   "source": [
    "xTrain, xTest, yTrain, yTest = train_test_split(X,y)\n",
    "model = FuzzyMMC()"
   ]
  },
  {
   "cell_type": "code",
   "execution_count": 38,
   "metadata": {},
   "outputs": [
    {
     "data": {
      "text/plain": [
       "array([0. , 0.1, 0.2, 0.3, 0.4, 0.5, 0.6, 0.7, 0.8, 0.9, 1. ])"
      ]
     },
     "execution_count": 38,
     "metadata": {},
     "output_type": "execute_result"
    }
   ],
   "source": [
    "a = np.arange (0.0, 1.1, 0.1)\n",
    "parameters = {'sensitivity': a, 'exp_bound': a }\n",
    "parameters['exp_bound']"
   ]
  },
  {
   "cell_type": "code",
   "execution_count": 39,
   "metadata": {},
   "outputs": [],
   "source": [
    "from sklearn.model_selection import GridSearchCV\n",
    "clf = GridSearchCV(model, parameters, cv = 5)"
   ]
  },
  {
   "cell_type": "code",
   "execution_count": 40,
   "metadata": {},
   "outputs": [
    {
     "name": "stderr",
     "output_type": "stream",
     "text": [
      "C:\\Users\\rita folisi\\Anaconda3\\lib\\site-packages\\sklearn\\model_selection\\_search.py:814: DeprecationWarning: The default of the `iid` parameter will change from True to False in version 0.22 and will be removed in 0.24. This will change numeric results when test-set sizes are unequal.\n",
      "  DeprecationWarning)\n"
     ]
    },
    {
     "data": {
      "text/plain": [
       "GridSearchCV(cv=5, error_score='raise-deprecating',\n",
       "             estimator=<fuzzy.FuzzyMMC object at 0x00000166159540C8>,\n",
       "             iid='warn', n_jobs=None,\n",
       "             param_grid={'exp_bound': array([0. , 0.1, 0.2, 0.3, 0.4, 0.5, 0.6, 0.7, 0.8, 0.9, 1. ]),\n",
       "                         'sensitivity': array([0. , 0.1, 0.2, 0.3, 0.4, 0.5, 0.6, 0.7, 0.8, 0.9, 1. ])},\n",
       "             pre_dispatch='2*n_jobs', refit=True, return_train_score=False,\n",
       "             scoring=None, verbose=0)"
      ]
     },
     "execution_count": 40,
     "metadata": {},
     "output_type": "execute_result"
    }
   ],
   "source": [
    "clf.fit(xTrain, yTrain)"
   ]
  },
  {
   "cell_type": "code",
   "execution_count": 41,
   "metadata": {},
   "outputs": [],
   "source": [
    "model = clf.best_estimator_"
   ]
  },
  {
   "cell_type": "code",
   "execution_count": 42,
   "metadata": {},
   "outputs": [],
   "source": [
    "from sklearn.preprocessing import StandardScaler\n",
    "iris_values_std = StandardScaler().fit_transform(X)\n",
    "\n",
    "from sklearn.decomposition import PCA\n",
    "pca_2d = PCA(n_components=2)\n",
    "iris_values_2d = pca_2d.fit_transform(iris_values_std)"
   ]
  },
  {
   "cell_type": "code",
   "execution_count": 43,
   "metadata": {},
   "outputs": [
    {
     "data": {
      "image/png": "[encoded data removed]",
      "text/plain": [
       "<Figure size 432x288 with 1 Axes>"
      ]
     },
     "metadata": {
      "needs_background": "light"
     },
     "output_type": "display_data"
    }
   ],
   "source": [
    "#stampa\n",
    "%matplotlib inline\n",
    "import matplotlib.pyplot as plt\n",
    "\n",
    "\n",
    "def gr_dataset(): \n",
    "    for lab, col in zip((1, 0),\n",
    "                        ('blue', 'red')):\n",
    "        plt.scatter(iris_values_2d[y==lab, 0],\n",
    "                    iris_values_2d[y==lab, 1],\n",
    "                    label=lab,\n",
    "                    c=col)\n",
    "\n",
    "gr_dataset()"
   ]
  },
  {
   "cell_type": "code",
   "execution_count": 10,
   "metadata": {},
   "outputs": [],
   "source": [
    "def gr_membership_contour(estimated_membership):\n",
    "    x = np.arange(-4, 4, .1)\n",
    "    y = np.arange(-4, 4, .1)\n",
    "    X, Y = np.meshgrid(x, y)\n",
    "    zs = np.array([estimated_membership(np.array(list(zip(np.ravel(x), np.ravel(y)))))\n",
    "                   for x,y in zip(np.ravel(X), np.ravel(Y))])\n",
    "    zss = zs[:, :, 1]\n",
    "    print(np.unique(zss))\n",
    "    Z = zss.reshape(X.shape)\n",
    "    membership_contour = plt.contour(X, Y, Z,\n",
    "                                     levels=(.95, .96, .97, .98, .99), colors='k')\n",
    "    plt.clabel(membership_contour, inline=1)"
   ]
  },
  {
   "cell_type": "code",
   "execution_count": 145,
   "metadata": {},
   "outputs": [
    {
     "name": "stdout",
     "output_type": "stream",
     "text": [
      "[0.95   0.95   0.95   0.9525 0.955  0.955  0.955  0.9575 0.9575 0.9575\n",
      " 0.96   0.96   0.96   0.9625 0.9625 0.9625 0.965  0.965  0.965  0.9675\n",
      " 0.9675 0.9675 0.97   0.97   0.97   0.97   0.97   0.9725 0.9725 0.9725\n",
      " 0.9725 0.9725 0.975  0.975  0.975  0.975  0.9775 0.9775 0.9775 0.98\n",
      " 0.98   0.98   0.98   0.9825 0.9825 0.9825 0.985  0.985  0.985  0.9875\n",
      " 0.9875 0.99  ]\n"
     ]
    },
    {
     "data": {
      "image/png": "[encoded data removed]",
      "text/plain": [
       "<Figure size 504x504 with 1 Axes>"
      ]
     },
     "metadata": {
      "needs_background": "light"
     },
     "output_type": "display_data"
    }
   ],
   "source": [
    "plt.figure(figsize=(7,7))\n",
    "gr_dataset()\n",
    "gr_membership_contour(model.estimated_membership)\n",
    "plt.show()"
   ]
  },
  {
   "cell_type": "code",
   "execution_count": 44,
   "metadata": {},
   "outputs": [
    {
     "name": "stdout",
     "output_type": "stream",
     "text": [
      "[0.95       0.95       0.95       0.9525     0.955      0.955\n",
      " 0.955      0.9575     0.9575     0.9575     0.96       0.96\n",
      " 0.96       0.9625     0.9625     0.9625     0.965      0.965\n",
      " 0.965      0.96734375 0.96734375 0.9675     0.9675     0.9675\n",
      " 0.9675     0.96984375 0.96984375 0.97       0.97       0.97\n",
      " 0.97234375 0.97234375 0.97234375 0.9725     0.9725     0.9725\n",
      " 0.9725     0.9725     0.97260742 0.97260742 0.97375    0.974375\n",
      " 0.97484375 0.97484375 0.97484375 0.975      0.975      0.975\n",
      " 0.975      0.975      0.97510742 0.97734375 0.97734375 0.9775\n",
      " 0.9775     0.9775     0.9775     0.97760742 0.97760742 0.97984375\n",
      " 0.98       0.98       0.98       0.98       0.98010742 0.98234375\n",
      " 0.98234375 0.9825     0.9825     0.9825     0.9825     0.98260742\n",
      " 0.98484375 0.98484375 0.985      0.98510742 0.98734375 0.98734375\n",
      " 0.9875     0.98760742 0.98984375 0.99      ]\n"
     ]
    },
    {
     "data": {
      "image/png": "[encoded data removed]",
      "text/plain": [
       "<Figure size 504x504 with 2 Axes>"
      ]
     },
     "metadata": {
      "needs_background": "light"
     },
     "output_type": "display_data"
    }
   ],
   "source": [
    "    x = np.arange(-4, 4, .1)\n",
    "    y = np.arange(-4, 4, .1)\n",
    "    X, Y = np.meshgrid(x, y)\n",
    "    zs = np.array([model.estimated_membership(np.array(list(zip(np.ravel(x), np.ravel(y)))))\n",
    "                   for x,y in zip(np.ravel(X), np.ravel(Y))])\n",
    "    zss = zs[:, :, 1]\n",
    "    print(np.unique(zss))\n",
    "    Z = zss.reshape(X.shape)\n",
    "    \n",
    "    plt.figure(figsize=(7,7))\n",
    "    plt.clf()\n",
    "    plt.imshow(Z, extent=[-4, 4, -4, 4], origin='lower')\n",
    "    plt.xticks(np.arange(-4,4,1))\n",
    "    plt.yticks(np.arange(-4,4,1))\n",
    "    plt.colorbar()\n",
    "    plt.savefig(\"gfmm-set-hm.png\")"
   ]
  },
  {
   "cell_type": "markdown",
   "metadata": {},
   "source": [
    "# Virginica"
   ]
  },
  {
   "cell_type": "code",
   "execution_count": 20,
   "metadata": {},
   "outputs": [],
   "source": [
    "df = pd.read_csv('Dataset/iris-virginica.csv')\n",
    "\n",
    "df = df.sample(frac=1)\n",
    "\n",
    "X = df.iloc[:, 1:3].values\n",
    "y = df.iloc[:,0].values"
   ]
  },
  {
   "cell_type": "code",
   "execution_count": 21,
   "metadata": {},
   "outputs": [
    {
     "data": {
      "text/plain": [
       "array([0. , 0.1, 0.2, 0.3, 0.4, 0.5, 0.6, 0.7, 0.8, 0.9, 1. ])"
      ]
     },
     "execution_count": 21,
     "metadata": {},
     "output_type": "execute_result"
    }
   ],
   "source": [
    "xTrain, xTest, yTrain, yTest = train_test_split(X,y)\n",
    "model = FuzzyMMC()\n",
    "\n",
    "a = np.arange (0.0, 1.1, 0.1)\n",
    "parameters = {'sensitivity': a, 'exp_bound': a }\n",
    "parameters['exp_bound']"
   ]
  },
  {
   "cell_type": "code",
   "execution_count": 22,
   "metadata": {},
   "outputs": [],
   "source": [
    "clf = GridSearchCV(model, parameters, cv = 5)"
   ]
  },
  {
   "cell_type": "code",
   "execution_count": 23,
   "metadata": {},
   "outputs": [
    {
     "name": "stderr",
     "output_type": "stream",
     "text": [
      "C:\\Users\\rita folisi\\Anaconda3\\lib\\site-packages\\sklearn\\model_selection\\_search.py:814: DeprecationWarning: The default of the `iid` parameter will change from True to False in version 0.22 and will be removed in 0.24. This will change numeric results when test-set sizes are unequal.\n",
      "  DeprecationWarning)\n"
     ]
    },
    {
     "data": {
      "text/plain": [
       "GridSearchCV(cv=5, error_score='raise-deprecating',\n",
       "             estimator=<fuzzy.FuzzyMMC object at 0x00000166131B1048>,\n",
       "             iid='warn', n_jobs=None,\n",
       "             param_grid={'exp_bound': array([0. , 0.1, 0.2, 0.3, 0.4, 0.5, 0.6, 0.7, 0.8, 0.9, 1. ]),\n",
       "                         'sensitivity': array([0. , 0.1, 0.2, 0.3, 0.4, 0.5, 0.6, 0.7, 0.8, 0.9, 1. ])},\n",
       "             pre_dispatch='2*n_jobs', refit=True, return_train_score=False,\n",
       "             scoring=None, verbose=0)"
      ]
     },
     "execution_count": 23,
     "metadata": {},
     "output_type": "execute_result"
    }
   ],
   "source": [
    "clf.fit(xTrain, yTrain)"
   ]
  },
  {
   "cell_type": "code",
   "execution_count": 24,
   "metadata": {},
   "outputs": [],
   "source": [
    "model = clf.best_estimator_"
   ]
  },
  {
   "cell_type": "code",
   "execution_count": 25,
   "metadata": {},
   "outputs": [],
   "source": [
    "iris_values_std = StandardScaler().fit_transform(X)\n",
    "\n",
    "pca_2d = PCA(n_components=2)\n",
    "iris_values_2d = pca_2d.fit_transform(iris_values_std)"
   ]
  },
  {
   "cell_type": "code",
   "execution_count": 30,
   "metadata": {},
   "outputs": [],
   "source": [
    "def gr_membership_contour(estimated_membership):\n",
    "    x = np.arange(-4, 4, .1)\n",
    "    y = np.arange(-4, 4, .1)\n",
    "    X, Y = np.meshgrid(x, y)\n",
    "    zs = np.array([estimated_membership(np.array(list(zip(np.ravel(x), np.ravel(y)))))\n",
    "                   for x,y in zip(np.ravel(X), np.ravel(Y))])\n",
    "    zss = zs[:, :, 1]\n",
    "    print(np.unique(zss))\n",
    "    Z = zss.reshape(X.shape)\n",
    "    membership_contour = plt.contour(X, Y, Z,\n",
    "                                     levels=(.8, .85, .88), colors='k')\n",
    "    plt.clabel(membership_contour, inline=1)"
   ]
  },
  {
   "cell_type": "code",
   "execution_count": 31,
   "metadata": {},
   "outputs": [
    {
     "name": "stdout",
     "output_type": "stream",
     "text": [
      "[0.8  0.8  0.8  0.81 0.82 0.83 0.84 0.85 0.86 0.87 0.88 0.88 0.89 0.89\n",
      " 0.89 0.89 0.89 0.9  0.9  0.9  0.9 ]\n"
     ]
    },
    {
     "data": {
      "image/png": "[encoded data removed]",
      "text/plain": [
       "<Figure size 504x504 with 1 Axes>"
      ]
     },
     "metadata": {
      "needs_background": "light"
     },
     "output_type": "display_data"
    }
   ],
   "source": [
    "plt.figure(figsize=(7,7))\n",
    "gr_dataset()\n",
    "gr_membership_contour(model.estimated_membership)\n",
    "plt.show()"
   ]
  },
  {
   "cell_type": "code",
   "execution_count": 26,
   "metadata": {},
   "outputs": [
    {
     "name": "stdout",
     "output_type": "stream",
     "text": [
      "[0.55       0.56477451 0.58727451 0.60977451 0.63227451 0.65477451\n",
      " 0.67727451 0.69977451 0.72227451 0.74477451 0.7525     0.7525\n",
      " 0.76304687 0.76727451 0.775      0.775     ]\n"
     ]
    },
    {
     "data": {
      "image/png": "[encoded data removed]",
      "text/plain": [
       "<Figure size 504x504 with 2 Axes>"
      ]
     },
     "metadata": {
      "needs_background": "light"
     },
     "output_type": "display_data"
    }
   ],
   "source": [
    "    x = np.arange(-4, 4, .1)\n",
    "    y = np.arange(-4, 4, .1)\n",
    "    X, Y = np.meshgrid(x, y)\n",
    "    zs = np.array([model.estimated_membership(np.array(list(zip(np.ravel(x), np.ravel(y)))))\n",
    "                   for x,y in zip(np.ravel(X), np.ravel(Y))])\n",
    "    zss = zs[:, :, 1]\n",
    "    print(np.unique(zss))\n",
    "    Z = zss.reshape(X.shape)\n",
    "    \n",
    "    plt.figure(figsize=(7,7))\n",
    "    plt.clf()\n",
    "    plt.imshow(Z, extent=[-4, 4, -4, 4], origin='lower')\n",
    "    plt.xticks(np.arange(-4,4,1))\n",
    "    plt.yticks(np.arange(-4,4,1))\n",
    "    plt.colorbar()\n",
    "    plt.savefig(\"gfmm-virg-hm.png\")"
   ]
  },
  {
   "cell_type": "markdown",
   "metadata": {},
   "source": [
    "# Versicolor "
   ]
  },
  {
   "cell_type": "code",
   "execution_count": 28,
   "metadata": {},
   "outputs": [],
   "source": [
    "df = pd.read_csv('Dataset/iris-versicolor.csv')\n",
    "\n",
    "df = df.sample(frac=1)\n",
    "\n",
    "X = df.iloc[:, 1:3].values\n",
    "y = df.iloc[:,0].values"
   ]
  },
  {
   "cell_type": "code",
   "execution_count": 29,
   "metadata": {},
   "outputs": [
    {
     "data": {
      "text/plain": [
       "array([0. , 0.1, 0.2, 0.3, 0.4, 0.5, 0.6, 0.7, 0.8, 0.9, 1. ])"
      ]
     },
     "execution_count": 29,
     "metadata": {},
     "output_type": "execute_result"
    }
   ],
   "source": [
    "xTrain, xTest, yTrain, yTest = train_test_split(X,y)\n",
    "model = FuzzyMMC()\n",
    "\n",
    "a = np.arange (0.0, 1.1, 0.1)\n",
    "parameters = {'sensitivity': a, 'exp_bound': a }\n",
    "parameters['exp_bound']"
   ]
  },
  {
   "cell_type": "code",
   "execution_count": 30,
   "metadata": {},
   "outputs": [],
   "source": [
    "clf = GridSearchCV(model, parameters, cv = 5)"
   ]
  },
  {
   "cell_type": "code",
   "execution_count": 31,
   "metadata": {},
   "outputs": [
    {
     "name": "stderr",
     "output_type": "stream",
     "text": [
      "C:\\Users\\rita folisi\\Anaconda3\\lib\\site-packages\\sklearn\\model_selection\\_search.py:814: DeprecationWarning: The default of the `iid` parameter will change from True to False in version 0.22 and will be removed in 0.24. This will change numeric results when test-set sizes are unequal.\n",
      "  DeprecationWarning)\n"
     ]
    },
    {
     "data": {
      "text/plain": [
       "GridSearchCV(cv=5, error_score='raise-deprecating',\n",
       "             estimator=<fuzzy.FuzzyMMC object at 0x00000166157D1AC8>,\n",
       "             iid='warn', n_jobs=None,\n",
       "             param_grid={'exp_bound': array([0. , 0.1, 0.2, 0.3, 0.4, 0.5, 0.6, 0.7, 0.8, 0.9, 1. ]),\n",
       "                         'sensitivity': array([0. , 0.1, 0.2, 0.3, 0.4, 0.5, 0.6, 0.7, 0.8, 0.9, 1. ])},\n",
       "             pre_dispatch='2*n_jobs', refit=True, return_train_score=False,\n",
       "             scoring=None, verbose=0)"
      ]
     },
     "execution_count": 31,
     "metadata": {},
     "output_type": "execute_result"
    }
   ],
   "source": [
    "clf.fit(xTrain, yTrain)"
   ]
  },
  {
   "cell_type": "code",
   "execution_count": 32,
   "metadata": {},
   "outputs": [],
   "source": [
    "model = clf.best_estimator_"
   ]
  },
  {
   "cell_type": "code",
   "execution_count": 33,
   "metadata": {},
   "outputs": [],
   "source": [
    "iris_values_std = StandardScaler().fit_transform(X)\n",
    "\n",
    "pca_2d = PCA(n_components=2)\n",
    "iris_values_2d = pca_2d.fit_transform(iris_values_std)"
   ]
  },
  {
   "cell_type": "code",
   "execution_count": 60,
   "metadata": {},
   "outputs": [],
   "source": [
    "def gr_membership_contour(estimated_membership):\n",
    "    x = np.arange(-4, 4, .1)\n",
    "    y = np.arange(-4, 4, .1)\n",
    "    X, Y = np.meshgrid(x, y)\n",
    "    zs = np.array([estimated_membership(np.array(list(zip(np.ravel(x), np.ravel(y)))))\n",
    "                   for x,y in zip(np.ravel(X), np.ravel(Y))])\n",
    "    zss = zs[:, :, 1]\n",
    "    print(np.unique(zss))\n",
    "    Z = zss.reshape(X.shape)\n",
    "    membership_contour = plt.contour(X, Y, Z,\n",
    "                                     levels=(.95, .97), colors='k')\n",
    "    plt.clabel(membership_contour, inline=1)"
   ]
  },
  {
   "cell_type": "code",
   "execution_count": 61,
   "metadata": {},
   "outputs": [
    {
     "name": "stdout",
     "output_type": "stream",
     "text": [
      "[0.95       0.95       0.9525     0.95447266 0.955      0.95697266\n",
      " 0.9575     0.95947266 0.96       0.96197266 0.9625     0.96447266\n",
      " 0.965      0.96697266 0.9675     0.96947266 0.96984375 0.97\n",
      " 0.97091675 0.97197266 0.97234375 0.9725     0.97341675 0.97447266\n",
      " 0.97484375 0.975     ]\n"
     ]
    },
    {
     "data": {
      "image/png": "[encoded data removed]",
      "text/plain": [
       "<Figure size 504x504 with 1 Axes>"
      ]
     },
     "metadata": {
      "needs_background": "light"
     },
     "output_type": "display_data"
    }
   ],
   "source": [
    "plt.figure(figsize=(7,7))\n",
    "gr_dataset()\n",
    "gr_membership_contour(model.estimated_membership)\n",
    "plt.show()"
   ]
  },
  {
   "cell_type": "code",
   "execution_count": 35,
   "metadata": {},
   "outputs": [
    {
     "name": "stdout",
     "output_type": "stream",
     "text": [
      "[0.95       0.95       0.9525     0.95300415 0.955      0.95550415\n",
      " 0.9575     0.95800415 0.96       0.96050415 0.9625     0.96300415\n",
      " 0.965      0.96550415 0.9675     0.96800415 0.97       0.97050415\n",
      " 0.97080078 0.9725     0.9725     0.97300415 0.97330078 0.975\n",
      " 0.975     ]\n"
     ]
    },
    {
     "data": {
      "image/png": "[encoded data removed]",
      "text/plain": [
       "<Figure size 504x504 with 2 Axes>"
      ]
     },
     "metadata": {
      "needs_background": "light"
     },
     "output_type": "display_data"
    }
   ],
   "source": [
    "    x = np.arange(-4, 4, .1)\n",
    "    y = np.arange(-4, 4, .1)\n",
    "    X, Y = np.meshgrid(x, y)\n",
    "    zs = np.array([model.estimated_membership(np.array(list(zip(np.ravel(x), np.ravel(y)))))\n",
    "                   for x,y in zip(np.ravel(X), np.ravel(Y))])\n",
    "    zss = zs[:, :, 1]\n",
    "    print(np.unique(zss))\n",
    "    Z = zss.reshape(X.shape)\n",
    "    \n",
    "    plt.figure(figsize=(7,7))\n",
    "    plt.clf()\n",
    "    plt.imshow(Z, extent=[-4, 4, -4, 4], origin='lower')\n",
    "    plt.xticks(np.arange(-4,4,1))\n",
    "    plt.yticks(np.arange(-4,4,1))\n",
    "    plt.colorbar()\n",
    "    plt.savefig(\"gfmm-vers-hm.png\")"
   ]
  },
  {
   "cell_type": "code",
   "execution_count": null,
   "metadata": {},
   "outputs": [],
   "source": []
  }
 ],
 "metadata": {
  "kernelspec": {
   "display_name": "Python 3",
   "language": "python",
   "name": "python3"
  },
  "language_info": {
   "codemirror_mode": {
    "name": "ipython",
    "version": 3
   },
   "file_extension": ".py",
   "mimetype": "text/x-python",
   "name": "python",
   "nbconvert_exporter": "python",
   "pygments_lexer": "ipython3",
   "version": "3.7.4"
  }
 },
 "nbformat": 4,
 "nbformat_minor": 2
}
