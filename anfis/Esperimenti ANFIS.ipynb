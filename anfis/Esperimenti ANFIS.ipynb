{
 "cells": [
  {
   "cell_type": "code",
   "execution_count": 1,
   "metadata": {},
   "outputs": [],
   "source": [
    "import anfis\n",
    "import membership.mfDerivs\n",
    "import membership.membershipfunction\n",
    "import numpy as np\n",
    "import pandas as pd"
   ]
  },
  {
   "cell_type": "code",
   "execution_count": 2,
   "metadata": {},
   "outputs": [],
   "source": [
    "df = pd.read_csv('iris-setosa.csv')\n",
    "\n",
    "df = df.sample(frac=1)\n",
    "\n",
    "\n",
    "X = df.iloc[:, 1:3].values\n",
    "Y = df.iloc[:,0].values\n",
    "\n",
    "from sklearn.model_selection import train_test_split\n",
    "xTrain, xTest, yTrain, yTest = train_test_split(X,Y)"
   ]
  },
  {
   "cell_type": "code",
   "execution_count": 3,
   "metadata": {},
   "outputs": [],
   "source": [
    "mf = [[['gaussmf',{'mean':0.,'sigma':1.}],['gaussmf',{'mean':-1.,'sigma':2.}],\n",
    "       ['gaussmf',{'mean':-4.,'sigma':10.}],['gaussmf',{'mean':-7.,'sigma':7.}]],\n",
    "            [['gaussmf',{'mean':1.,'sigma':2.}],['gaussmf',{'mean':2.,'sigma':3.}],\n",
    "             ['gaussmf',{'mean':-2.,'sigma':10.}],['gaussmf',{'mean':-10.5,'sigma':5.}]]]"
   ]
  },
  {
   "cell_type": "code",
   "execution_count": 4,
   "metadata": {},
   "outputs": [],
   "source": [
    "mfc = membership.membershipfunction.MemFuncs(mf)\n",
    "anf = anfis.ANFIS(X, Y, mfc)"
   ]
  },
  {
   "cell_type": "code",
   "execution_count": 5,
   "metadata": {},
   "outputs": [
    {
     "name": "stdout",
     "output_type": "stream",
     "text": [
      "current error: 3.6470482735661585\n",
      "current error: 3.6443938897274455\n",
      "current error: 3.641741412755519\n",
      "current error: 3.63908955169925\n",
      "current error: 3.63617106109139\n",
      "current error: 3.6329571945113543\n",
      "current error: 3.6294153489313152\n",
      "current error: 3.625508305817829\n",
      "current error: 3.6211932650401923\n",
      "current error: 3.6164206057609953\n",
      "current error: 3.6111322866605313\n",
      "current error: 3.6052597708113217\n",
      "current error: 3.598721329045543\n",
      "current error: 3.5914185485837447\n",
      "current error: 3.58323187649781\n",
      "current error: 3.574015134647626\n",
      "current error: 3.5635893568159887\n",
      "current error: 3.5517375621616543\n",
      "current error: 3.538205608243148\n"
     ]
    },
    {
     "data": {
      "text/plain": [
       "array([[-6.31290861e-02],\n",
       "       [-9.79533041e-02],\n",
       "       [-7.13744547e-02],\n",
       "       [-6.78301159e-02],\n",
       "       [ 7.85588438e-01],\n",
       "       [ 1.00511524e+00],\n",
       "       [ 5.16936551e-02],\n",
       "       [-6.07305525e-02],\n",
       "       [-2.31753110e-02],\n",
       "       [ 1.29482491e+00],\n",
       "       [-5.73597735e-02],\n",
       "       [ 1.29972518e+00],\n",
       "       [ 1.19603945e+00],\n",
       "       [ 9.78556662e-02],\n",
       "       [ 1.01463899e-01],\n",
       "       [-3.26509731e-02],\n",
       "       [-2.14743196e-02],\n",
       "       [-1.77186886e-02],\n",
       "       [-9.45075079e-02],\n",
       "       [-5.87928461e-02],\n",
       "       [-3.26509731e-02],\n",
       "       [ 6.68706448e-02],\n",
       "       [ 6.03082443e-01],\n",
       "       [ 9.57226762e-01],\n",
       "       [ 3.25256882e-02],\n",
       "       [-9.00237011e-02],\n",
       "       [ 9.57226762e-01],\n",
       "       [ 2.56432390e-02],\n",
       "       [ 1.11879154e+00],\n",
       "       [ 7.62161382e-01],\n",
       "       [ 1.32056311e-01],\n",
       "       [-9.60156367e-02],\n",
       "       [-6.86685026e-02],\n",
       "       [ 9.50334312e-01],\n",
       "       [-2.45031402e-02],\n",
       "       [-8.81269048e-02],\n",
       "       [ 2.45836459e-01],\n",
       "       [-6.62133695e-02],\n",
       "       [ 1.94414206e-02],\n",
       "       [ 8.80174262e-01],\n",
       "       [ 2.55084358e-01],\n",
       "       [ 2.10555887e-01],\n",
       "       [ 1.53737507e-01],\n",
       "       [ 6.68706448e-02],\n",
       "       [ 2.84605589e-02],\n",
       "       [ 1.03791762e+00],\n",
       "       [ 1.11879154e+00],\n",
       "       [-6.07305525e-02],\n",
       "       [-6.63596475e-02],\n",
       "       [ 2.55084358e-01],\n",
       "       [-6.13922220e-02],\n",
       "       [ 1.02403507e+00],\n",
       "       [ 1.48084423e-01],\n",
       "       [ 1.38767598e-01],\n",
       "       [ 1.12071675e+00],\n",
       "       [ 1.12325194e+00],\n",
       "       [ 3.08921525e-01],\n",
       "       [ 1.94326044e-01],\n",
       "       [-1.30641424e-02],\n",
       "       [-4.35126026e-02],\n",
       "       [ 2.56432390e-02],\n",
       "       [ 2.53084792e-01],\n",
       "       [ 4.68713178e-04],\n",
       "       [ 1.09724544e+00],\n",
       "       [ 1.10097667e+00],\n",
       "       [ 7.62161382e-01],\n",
       "       [ 8.89687186e-02],\n",
       "       [-2.70439513e-02],\n",
       "       [ 2.00304918e-01],\n",
       "       [-2.70439513e-02],\n",
       "       [ 7.73669987e-01],\n",
       "       [ 4.54600102e-01],\n",
       "       [ 1.19603945e+00],\n",
       "       [ 6.58290999e-01],\n",
       "       [ 3.55269614e-01],\n",
       "       [ 6.70377239e-01],\n",
       "       [ 2.56432390e-02],\n",
       "       [ 6.78506163e-02],\n",
       "       [ 2.56432390e-02],\n",
       "       [-3.85613367e-02],\n",
       "       [ 1.01463899e-01],\n",
       "       [ 1.48084423e-01],\n",
       "       [-4.91362976e-02],\n",
       "       [ 3.79851691e-02],\n",
       "       [-8.41782012e-02],\n",
       "       [ 1.03791762e+00],\n",
       "       [-6.31290861e-02],\n",
       "       [ 9.62490230e-01],\n",
       "       [ 1.48890524e+00],\n",
       "       [-5.73597735e-02],\n",
       "       [ 1.10858064e+00],\n",
       "       [ 6.97679002e-02],\n",
       "       [ 1.19603945e+00],\n",
       "       [-7.43141627e-02],\n",
       "       [ 6.58290999e-01],\n",
       "       [-3.81048425e-02],\n",
       "       [-1.02687809e-02],\n",
       "       [-8.33777787e-02],\n",
       "       [ 7.52023733e-01],\n",
       "       [ 1.53350939e-01],\n",
       "       [ 2.38807516e-01],\n",
       "       [-2.05178427e-02],\n",
       "       [ 8.71763864e-01],\n",
       "       [-7.63099641e-02],\n",
       "       [ 3.48546765e-03],\n",
       "       [-2.70439513e-02],\n",
       "       [-5.24110111e-02],\n",
       "       [ 1.32056311e-01],\n",
       "       [ 3.48546765e-03],\n",
       "       [ 1.19851959e+00],\n",
       "       [ 1.02403507e+00],\n",
       "       [-3.26509731e-02],\n",
       "       [-9.11987859e-02],\n",
       "       [-9.60156367e-02],\n",
       "       [ 9.50334312e-01],\n",
       "       [ 7.52023733e-01],\n",
       "       [-1.20819493e-02],\n",
       "       [-7.42371108e-02],\n",
       "       [-3.21563822e-02],\n",
       "       [ 3.25256882e-02],\n",
       "       [ 2.00040445e-01],\n",
       "       [ 1.56247349e-02],\n",
       "       [-2.93854586e-02],\n",
       "       [ 6.75420462e-01],\n",
       "       [ 2.63240127e-01],\n",
       "       [ 7.99602153e-01],\n",
       "       [ 5.39551563e-02],\n",
       "       [ 7.51031250e-01],\n",
       "       [ 1.30225232e+00],\n",
       "       [ 7.17611194e-02],\n",
       "       [-1.20819493e-02],\n",
       "       [ 2.45028790e-02],\n",
       "       [ 9.99804548e-01],\n",
       "       [ 7.89993857e-02],\n",
       "       [ 7.62161382e-01],\n",
       "       [-9.24066039e-02],\n",
       "       [ 8.41409629e-01],\n",
       "       [ 8.12488228e-03],\n",
       "       [ 8.61827695e-01],\n",
       "       [ 7.96933868e-01],\n",
       "       [ 1.01234010e+00],\n",
       "       [ 1.01884561e+00],\n",
       "       [ 3.24886280e-01],\n",
       "       [ 8.88464261e-01],\n",
       "       [-9.79533041e-02],\n",
       "       [ 1.01884561e+00],\n",
       "       [ 4.30912775e-02],\n",
       "       [-8.12310672e-02],\n",
       "       [-6.07305525e-02],\n",
       "       [ 6.97679002e-02]])"
      ]
     },
     "execution_count": 5,
     "metadata": {},
     "output_type": "execute_result"
    }
   ],
   "source": [
    "anf.trainHybridJangOffLine(epochs=20)"
   ]
  },
  {
   "cell_type": "code",
   "execution_count": 6,
   "metadata": {},
   "outputs": [
    {
     "name": "stdout",
     "output_type": "stream",
     "text": [
      "0.101335\n",
      "0.2267\n"
     ]
    }
   ],
   "source": [
    "print(round(anf.consequents[-1][0],6))\n",
    "print(round(anf.consequents[-2][0],6))"
   ]
  },
  {
   "cell_type": "code",
   "execution_count": 7,
   "metadata": {},
   "outputs": [
    {
     "name": "stdout",
     "output_type": "stream",
     "text": [
      "1.294825\n"
     ]
    }
   ],
   "source": [
    "print(round(anf.fittedValues[9][0],6))"
   ]
  },
  {
   "cell_type": "code",
   "execution_count": 8,
   "metadata": {},
   "outputs": [
    {
     "data": {
      "text/plain": [
       "<Figure size 640x480 with 1 Axes>"
      ]
     },
     "metadata": {},
     "output_type": "display_data"
    }
   ],
   "source": [
    "anf.plotErrors()         #capire che tipo di errore sta plottando"
   ]
  },
  {
   "cell_type": "code",
   "execution_count": 9,
   "metadata": {},
   "outputs": [
    {
     "data": {
      "image/png": "[encoded data removed]",
      "text/plain": [
       "<Figure size 432x288 with 1 Axes>"
      ]
     },
     "metadata": {
      "needs_background": "light"
     },
     "output_type": "display_data"
    }
   ],
   "source": [
    "anf.plotResults()      # in ascissa = righe del dataframe; \n",
    "                       # in ordinata = valori della membership (rosso = dopo aver fatto training, blu = y originale cioè 1 o 0)"
   ]
  },
  {
   "cell_type": "code",
   "execution_count": 15,
   "metadata": {},
   "outputs": [],
   "source": [
    "\n",
    "\n",
    "anfis.predict(anf, xTest)"
   ]
  },
  {
   "cell_type": "code",
   "execution_count": 17,
   "metadata": {},
   "outputs": [
    {
     "data": {
      "text/plain": [
       "(array([[ 1.32056311e-01],\n",
       "        [-5.24110111e-02],\n",
       "        [ 7.62161382e-01],\n",
       "        [ 3.55269614e-01],\n",
       "        [-3.85613367e-02],\n",
       "        [ 6.97679002e-02],\n",
       "        [ 2.00304918e-01],\n",
       "        [ 1.94414206e-02],\n",
       "        [ 3.25256882e-02],\n",
       "        [ 9.57226762e-01],\n",
       "        [ 4.30912775e-02],\n",
       "        [-7.13744547e-02],\n",
       "        [ 2.53084792e-01],\n",
       "        [ 1.94326044e-01],\n",
       "        [ 1.32056311e-01],\n",
       "        [-4.35126026e-02],\n",
       "        [-7.43141627e-02],\n",
       "        [ 2.55084358e-01],\n",
       "        [ 2.56432390e-02],\n",
       "        [ 2.56432390e-02],\n",
       "        [-9.00237011e-02],\n",
       "        [ 1.10858064e+00],\n",
       "        [ 4.68713178e-04],\n",
       "        [-1.77186886e-02],\n",
       "        [-6.63596475e-02],\n",
       "        [-2.70439513e-02],\n",
       "        [ 6.68706448e-02],\n",
       "        [ 1.12071675e+00],\n",
       "        [-3.81048425e-02],\n",
       "        [-3.26509731e-02],\n",
       "        [ 1.01463899e-01],\n",
       "        [ 6.68706448e-02],\n",
       "        [-2.93854586e-02],\n",
       "        [-7.63099641e-02],\n",
       "        [ 6.58290999e-01],\n",
       "        [ 7.96933868e-01],\n",
       "        [-3.26509731e-02],\n",
       "        [-2.31753110e-02]]),\n",
       " array([0, 0, 1, 0, 0, 0, 0, 0, 0, 1, 0, 0, 0, 0, 0, 0, 0, 0, 0, 0, 0, 1,\n",
       "        0, 0, 0, 0, 0, 1, 0, 0, 0, 0, 0, 0, 1, 1, 0, 0], dtype=int64))"
      ]
     },
     "execution_count": 17,
     "metadata": {},
     "output_type": "execute_result"
    }
   ],
   "source": [
    "(a, yTest)"
   ]
  },
  {
   "cell_type": "code",
   "execution_count": 20,
   "metadata": {},
   "outputs": [
    {
     "ename": "IndexError",
     "evalue": "list index out of range",
     "output_type": "error",
     "traceback": [
      "\u001b[1;31m---------------------------------------------------------------------------\u001b[0m",
      "\u001b[1;31mIndexError\u001b[0m                                Traceback (most recent call last)",
      "\u001b[1;32m<ipython-input-20-53afe74ae649>\u001b[0m in \u001b[0;36m<module>\u001b[1;34m\u001b[0m\n\u001b[1;32m----> 1\u001b[1;33m \u001b[0manf\u001b[0m\u001b[1;33m.\u001b[0m\u001b[0mplotMF\u001b[0m\u001b[1;33m(\u001b[0m\u001b[1;36m2\u001b[0m\u001b[1;33m,\u001b[0m \u001b[1;36m2\u001b[0m\u001b[1;33m)\u001b[0m\u001b[1;33m\u001b[0m\u001b[1;33m\u001b[0m\u001b[0m\n\u001b[0m",
      "\u001b[1;32m~\\Desktop\\Tirocinio\\Codice\\knn\\Funzionanti\\Tirocinio\\anfis\\anfis.py\u001b[0m in \u001b[0;36mplotMF\u001b[1;34m(self, x, inputVar)\u001b[0m\n\u001b[0;32m    146\u001b[0m         \u001b[1;32mfrom\u001b[0m \u001b[0mskfuzzy\u001b[0m \u001b[1;32mimport\u001b[0m \u001b[0mgaussmf\u001b[0m\u001b[1;33m,\u001b[0m \u001b[0mgbellmf\u001b[0m\u001b[1;33m,\u001b[0m \u001b[0msigmf\u001b[0m\u001b[1;33m\u001b[0m\u001b[1;33m\u001b[0m\u001b[0m\n\u001b[0;32m    147\u001b[0m \u001b[1;33m\u001b[0m\u001b[0m\n\u001b[1;32m--> 148\u001b[1;33m         \u001b[1;32mfor\u001b[0m \u001b[0mmf\u001b[0m \u001b[1;32min\u001b[0m \u001b[0mrange\u001b[0m\u001b[1;33m(\u001b[0m\u001b[0mlen\u001b[0m\u001b[1;33m(\u001b[0m\u001b[0mself\u001b[0m\u001b[1;33m.\u001b[0m\u001b[0mmemFuncs\u001b[0m\u001b[1;33m[\u001b[0m\u001b[0minputVar\u001b[0m\u001b[1;33m]\u001b[0m\u001b[1;33m)\u001b[0m\u001b[1;33m)\u001b[0m\u001b[1;33m:\u001b[0m\u001b[1;33m\u001b[0m\u001b[1;33m\u001b[0m\u001b[0m\n\u001b[0m\u001b[0;32m    149\u001b[0m             \u001b[1;32mif\u001b[0m \u001b[0mself\u001b[0m\u001b[1;33m.\u001b[0m\u001b[0mmemFuncs\u001b[0m\u001b[1;33m[\u001b[0m\u001b[0minputVar\u001b[0m\u001b[1;33m]\u001b[0m\u001b[1;33m[\u001b[0m\u001b[0mmf\u001b[0m\u001b[1;33m]\u001b[0m\u001b[1;33m[\u001b[0m\u001b[1;36m0\u001b[0m\u001b[1;33m]\u001b[0m \u001b[1;33m==\u001b[0m \u001b[1;34m'gaussmf'\u001b[0m\u001b[1;33m:\u001b[0m\u001b[1;33m\u001b[0m\u001b[1;33m\u001b[0m\u001b[0m\n\u001b[0;32m    150\u001b[0m                 \u001b[0my\u001b[0m \u001b[1;33m=\u001b[0m \u001b[0mgaussmf\u001b[0m\u001b[1;33m(\u001b[0m\u001b[0mx\u001b[0m\u001b[1;33m,\u001b[0m\u001b[1;33m**\u001b[0m\u001b[0mself\u001b[0m\u001b[1;33m.\u001b[0m\u001b[0mmemClass\u001b[0m\u001b[1;33m.\u001b[0m\u001b[0mMFList\u001b[0m\u001b[1;33m[\u001b[0m\u001b[0minputVar\u001b[0m\u001b[1;33m]\u001b[0m\u001b[1;33m[\u001b[0m\u001b[0mmf\u001b[0m\u001b[1;33m]\u001b[0m\u001b[1;33m[\u001b[0m\u001b[1;36m1\u001b[0m\u001b[1;33m]\u001b[0m\u001b[1;33m)\u001b[0m\u001b[1;33m\u001b[0m\u001b[1;33m\u001b[0m\u001b[0m\n",
      "\u001b[1;31mIndexError\u001b[0m: list index out of range"
     ]
    }
   ],
   "source": [
    "anf.plotMF(xTest, y)"
   ]
  },
  {
   "cell_type": "code",
   "execution_count": null,
   "metadata": {},
   "outputs": [],
   "source": []
  }
 ],
 "metadata": {
  "kernelspec": {
   "display_name": "Python 3",
   "language": "python",
   "name": "python3"
  },
  "language_info": {
   "codemirror_mode": {
    "name": "ipython",
    "version": 3
   },
   "file_extension": ".py",
   "mimetype": "text/x-python",
   "name": "python",
   "nbconvert_exporter": "python",
   "pygments_lexer": "ipython3",
   "version": "3.7.4"
  }
 },
 "nbformat": 4,
 "nbformat_minor": 2
}
