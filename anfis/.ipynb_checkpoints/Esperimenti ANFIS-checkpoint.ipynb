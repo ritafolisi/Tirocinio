{
 "cells": [
  {
   "cell_type": "code",
   "execution_count": 6,
   "metadata": {},
   "outputs": [],
   "source": [
    "import anfis\n",
    "import membership.mfDerivs\n",
    "import membership.membershipfunction\n",
    "import numpy as np\n",
    "import pandas as pd"
   ]
  },
  {
   "cell_type": "code",
   "execution_count": 8,
   "metadata": {},
   "outputs": [],
   "source": [
    "df = pd.read_csv('iris-setosa.csv')\n",
    "\n",
    "df = df.sample(frac=1)\n",
    "\n",
    "\n",
    "X = df.iloc[:, 1:3].values\n",
    "Y = df.iloc[:,0].values"
   ]
  },
  {
   "cell_type": "code",
   "execution_count": 11,
   "metadata": {},
   "outputs": [],
   "source": [
    "mf = [[['gaussmf',{'mean':0.,'sigma':1.}],['gaussmf',{'mean':-1.,'sigma':2.}],\n",
    "       ['gaussmf',{'mean':-4.,'sigma':10.}],['gaussmf',{'mean':-7.,'sigma':7.}]],\n",
    "            [['gaussmf',{'mean':1.,'sigma':2.}],['gaussmf',{'mean':2.,'sigma':3.}],\n",
    "             ['gaussmf',{'mean':-2.,'sigma':10.}],['gaussmf',{'mean':-10.5,'sigma':5.}]]]"
   ]
  },
  {
   "cell_type": "code",
   "execution_count": 12,
   "metadata": {},
   "outputs": [],
   "source": [
    "mfc = membership.membershipfunction.MemFuncs(mf)\n",
    "anf = anfis.ANFIS(X, Y, mfc)"
   ]
  },
  {
   "cell_type": "code",
   "execution_count": 13,
   "metadata": {},
   "outputs": [
    {
     "name": "stdout",
     "output_type": "stream",
     "text": [
      "current error: 3.647048273565635\n",
      "current error: 3.6443938897263317\n",
      "current error: 3.6417414127591146\n",
      "current error: 3.639089551705808\n",
      "current error: 3.6361710610968356\n",
      "current error: 3.6329571945201815\n",
      "current error: 3.6294153489415253\n",
      "current error: 3.6255083058278452\n",
      "current error: 3.6211932650537575\n",
      "current error: 3.6164206057773303\n",
      "current error: 3.6111322866745663\n",
      "current error: 3.6052597708064282\n",
      "current error: 3.5987213290383817\n",
      "current error: 3.591418548586953\n",
      "current error: 3.5832318765003963\n",
      "current error: 3.5740151346580955\n",
      "current error: 3.563589356813429\n",
      "current error: 3.551737562151412\n",
      "current error: 3.538205608248103\n"
     ]
    },
    {
     "data": {
      "text/plain": [
       "array([[ 1.38767598e-01],\n",
       "       [ 1.53737507e-01],\n",
       "       [-9.11987859e-02],\n",
       "       [-1.20819492e-02],\n",
       "       [-1.77186886e-02],\n",
       "       [-5.73597734e-02],\n",
       "       [-2.31753110e-02],\n",
       "       [ 6.03082443e-01],\n",
       "       [-6.78301159e-02],\n",
       "       [ 8.80174262e-01],\n",
       "       [ 2.38807516e-01],\n",
       "       [ 3.25256882e-02],\n",
       "       [ 1.53350939e-01],\n",
       "       [ 8.89687187e-02],\n",
       "       [ 6.70377239e-01],\n",
       "       [ 6.58290999e-01],\n",
       "       [-9.60156366e-02],\n",
       "       [-3.26509731e-02],\n",
       "       [-5.87928461e-02],\n",
       "       [-6.13922220e-02],\n",
       "       [ 1.12071675e+00],\n",
       "       [ 5.39551563e-02],\n",
       "       [-7.43141626e-02],\n",
       "       [ 3.08921525e-01],\n",
       "       [ 1.01234010e+00],\n",
       "       [-7.13744547e-02],\n",
       "       [ 1.48890524e+00],\n",
       "       [ 1.19851959e+00],\n",
       "       [ 1.11879154e+00],\n",
       "       [ 1.19603945e+00],\n",
       "       [ 4.54600102e-01],\n",
       "       [-9.24066038e-02],\n",
       "       [ 2.56432391e-02],\n",
       "       [ 4.30912775e-02],\n",
       "       [-6.63596475e-02],\n",
       "       [-6.31290861e-02],\n",
       "       [ 6.58290999e-01],\n",
       "       [ 2.63240127e-01],\n",
       "       [-8.81269047e-02],\n",
       "       [ 2.56432391e-02],\n",
       "       [ 1.10097667e+00],\n",
       "       [ 3.48546770e-03],\n",
       "       [-2.05178427e-02],\n",
       "       [ 9.57226762e-01],\n",
       "       [-8.12310671e-02],\n",
       "       [ 9.62490230e-01],\n",
       "       [ 8.12488233e-03],\n",
       "       [ 7.85588438e-01],\n",
       "       [ 8.71763864e-01],\n",
       "       [ 2.10555887e-01],\n",
       "       [-6.07305525e-02],\n",
       "       [ 3.79851692e-02],\n",
       "       [-3.26509731e-02],\n",
       "       [ 6.97679003e-02],\n",
       "       [ 1.09724544e+00],\n",
       "       [-9.60156366e-02],\n",
       "       [-1.02687808e-02],\n",
       "       [ 1.01463899e-01],\n",
       "       [-2.70439512e-02],\n",
       "       [ 2.55084358e-01],\n",
       "       [ 1.00511524e+00],\n",
       "       [ 8.88464261e-01],\n",
       "       [ 9.50334312e-01],\n",
       "       [ 1.32056312e-01],\n",
       "       [-5.73597734e-02],\n",
       "       [ 7.51031251e-01],\n",
       "       [-4.35126026e-02],\n",
       "       [ 1.56247350e-02],\n",
       "       [-1.30641423e-02],\n",
       "       [ 6.75420462e-01],\n",
       "       [ 9.78556663e-02],\n",
       "       [ 1.19603945e+00],\n",
       "       [ 7.62161382e-01],\n",
       "       [-6.62133694e-02],\n",
       "       [-8.41782011e-02],\n",
       "       [-2.93854586e-02],\n",
       "       [-3.26509731e-02],\n",
       "       [ 6.97679003e-02],\n",
       "       [ 9.50334312e-01],\n",
       "       [ 6.68706449e-02],\n",
       "       [-8.33777787e-02],\n",
       "       [ 3.24886280e-01],\n",
       "       [ 7.52023733e-01],\n",
       "       [-2.45031401e-02],\n",
       "       [ 1.03791762e+00],\n",
       "       [-4.91362976e-02],\n",
       "       [ 1.02403507e+00],\n",
       "       [-2.70439512e-02],\n",
       "       [ 2.55084358e-01],\n",
       "       [-9.79533040e-02],\n",
       "       [-6.07305525e-02],\n",
       "       [ 1.03791762e+00],\n",
       "       [-3.21563821e-02],\n",
       "       [-9.79533040e-02],\n",
       "       [ 2.45836459e-01],\n",
       "       [ 2.56432391e-02],\n",
       "       [ 2.84605589e-02],\n",
       "       [ 1.48084423e-01],\n",
       "       [ 2.45028791e-02],\n",
       "       [ 7.89993857e-02],\n",
       "       [-6.31290861e-02],\n",
       "       [ 1.01463899e-01],\n",
       "       [-2.14743196e-02],\n",
       "       [ 1.29972518e+00],\n",
       "       [ 1.02403507e+00],\n",
       "       [-6.07305525e-02],\n",
       "       [-6.86685025e-02],\n",
       "       [ 1.30225232e+00],\n",
       "       [-7.42371108e-02],\n",
       "       [ 1.32056312e-01],\n",
       "       [-3.85613366e-02],\n",
       "       [ 7.62161382e-01],\n",
       "       [ 4.68713221e-04],\n",
       "       [ 8.61827695e-01],\n",
       "       [ 7.99602153e-01],\n",
       "       [ 7.17611195e-02],\n",
       "       [ 9.99804548e-01],\n",
       "       [ 3.48546770e-03],\n",
       "       [ 1.94414207e-02],\n",
       "       [ 2.00040445e-01],\n",
       "       [ 1.01884561e+00],\n",
       "       [ 2.00304918e-01],\n",
       "       [ 1.12325194e+00],\n",
       "       [ 1.29482491e+00],\n",
       "       [ 6.68706449e-02],\n",
       "       [ 7.62161382e-01],\n",
       "       [ 1.94326044e-01],\n",
       "       [ 1.19603945e+00],\n",
       "       [-2.70439512e-02],\n",
       "       [ 6.78506163e-02],\n",
       "       [-7.63099641e-02],\n",
       "       [ 2.53084792e-01],\n",
       "       [ 7.96933868e-01],\n",
       "       [ 7.52023733e-01],\n",
       "       [ 8.41409629e-01],\n",
       "       [-3.81048425e-02],\n",
       "       [ 9.57226762e-01],\n",
       "       [ 7.73669987e-01],\n",
       "       [ 1.11879154e+00],\n",
       "       [ 1.48084423e-01],\n",
       "       [ 1.01884561e+00],\n",
       "       [ 5.16936551e-02],\n",
       "       [-9.00237011e-02],\n",
       "       [ 2.56432391e-02],\n",
       "       [ 3.55269614e-01],\n",
       "       [-9.45075079e-02],\n",
       "       [-5.24110111e-02],\n",
       "       [ 3.25256882e-02],\n",
       "       [ 1.10858064e+00],\n",
       "       [-1.20819492e-02]])"
      ]
     },
     "execution_count": 13,
     "metadata": {},
     "output_type": "execute_result"
    }
   ],
   "source": [
    "anf.trainHybridJangOffLine(epochs=20)"
   ]
  },
  {
   "cell_type": "code",
   "execution_count": 14,
   "metadata": {},
   "outputs": [
    {
     "name": "stdout",
     "output_type": "stream",
     "text": [
      "0.101335\n",
      "0.2267\n"
     ]
    }
   ],
   "source": [
    "print(round(anf.consequents[-1][0],6))\n",
    "print(round(anf.consequents[-2][0],6))"
   ]
  },
  {
   "cell_type": "code",
   "execution_count": 15,
   "metadata": {},
   "outputs": [
    {
     "name": "stdout",
     "output_type": "stream",
     "text": [
      "0.880174\n"
     ]
    }
   ],
   "source": [
    "print(round(anf.fittedValues[9][0],6))"
   ]
  },
  {
   "cell_type": "code",
   "execution_count": 19,
   "metadata": {},
   "outputs": [
    {
     "data": {
      "image/png": "[encoded data removed]",
      "text/plain": [
       "<Figure size 432x288 with 1 Axes>"
      ]
     },
     "metadata": {
      "needs_background": "light"
     },
     "output_type": "display_data"
    }
   ],
   "source": [
    "anf.plotErrors()         #capire che tipo di errore sta plottando"
   ]
  },
  {
   "cell_type": "code",
   "execution_count": 18,
   "metadata": {},
   "outputs": [
    {
     "data": {
      "image/png": "[encoded data removed]",
      "text/plain": [
       "<Figure size 432x288 with 1 Axes>"
      ]
     },
     "metadata": {
      "needs_background": "light"
     },
     "output_type": "display_data"
    }
   ],
   "source": [
    "anf.plotResults()      # in ascissa = righe del dataframe; \n",
    "                       # in ordinata = valori della membership (rosso = dopo aver fatto training, blu = y originale cioè 1 o 0)"
   ]
  },
  {
   "cell_type": "code",
   "execution_count": null,
   "metadata": {},
   "outputs": [],
   "source": []
  },
  {
   "cell_type": "code",
   "execution_count": null,
   "metadata": {},
   "outputs": [],
   "source": []
  }
 ],
 "metadata": {
  "kernelspec": {
   "display_name": "Python 3",
   "language": "python",
   "name": "python3"
  },
  "language_info": {
   "codemirror_mode": {
    "name": "ipython",
    "version": 3
   },
   "file_extension": ".py",
   "mimetype": "text/x-python",
   "name": "python",
   "nbconvert_exporter": "python",
   "pygments_lexer": "ipython3",
   "version": "3.7.4"
  }
 },
 "nbformat": 4,
 "nbformat_minor": 2
}
