{
 "cells": [
  {
   "cell_type": "code",
   "execution_count": 1,
   "metadata": {},
   "outputs": [
    {
     "data": {
      "text/html": [
       "<div>\n",
       "<style scoped>\n",
       "    .dataframe tbody tr th:only-of-type {\n",
       "        vertical-align: middle;\n",
       "    }\n",
       "\n",
       "    .dataframe tbody tr th {\n",
       "        vertical-align: top;\n",
       "    }\n",
       "\n",
       "    .dataframe thead th {\n",
       "        text-align: right;\n",
       "    }\n",
       "</style>\n",
       "<table border=\"1\" class=\"dataframe\">\n",
       "  <thead>\n",
       "    <tr style=\"text-align: right;\">\n",
       "      <th></th>\n",
       "      <th>sepal_len</th>\n",
       "      <th>sepal_wid</th>\n",
       "      <th>petal_len</th>\n",
       "      <th>petal_wid</th>\n",
       "      <th>class</th>\n",
       "    </tr>\n",
       "  </thead>\n",
       "  <tbody>\n",
       "    <tr>\n",
       "      <th>145</th>\n",
       "      <td>6.7</td>\n",
       "      <td>3.0</td>\n",
       "      <td>5.2</td>\n",
       "      <td>2.3</td>\n",
       "      <td>Iris-virginica</td>\n",
       "    </tr>\n",
       "    <tr>\n",
       "      <th>146</th>\n",
       "      <td>6.3</td>\n",
       "      <td>2.5</td>\n",
       "      <td>5.0</td>\n",
       "      <td>1.9</td>\n",
       "      <td>Iris-virginica</td>\n",
       "    </tr>\n",
       "    <tr>\n",
       "      <th>147</th>\n",
       "      <td>6.5</td>\n",
       "      <td>3.0</td>\n",
       "      <td>5.2</td>\n",
       "      <td>2.0</td>\n",
       "      <td>Iris-virginica</td>\n",
       "    </tr>\n",
       "    <tr>\n",
       "      <th>148</th>\n",
       "      <td>6.2</td>\n",
       "      <td>3.4</td>\n",
       "      <td>5.4</td>\n",
       "      <td>2.3</td>\n",
       "      <td>Iris-virginica</td>\n",
       "    </tr>\n",
       "    <tr>\n",
       "      <th>149</th>\n",
       "      <td>5.9</td>\n",
       "      <td>3.0</td>\n",
       "      <td>5.1</td>\n",
       "      <td>1.8</td>\n",
       "      <td>Iris-virginica</td>\n",
       "    </tr>\n",
       "  </tbody>\n",
       "</table>\n",
       "</div>"
      ],
      "text/plain": [
       "     sepal_len  sepal_wid  petal_len  petal_wid           class\n",
       "145        6.7        3.0        5.2        2.3  Iris-virginica\n",
       "146        6.3        2.5        5.0        1.9  Iris-virginica\n",
       "147        6.5        3.0        5.2        2.0  Iris-virginica\n",
       "148        6.2        3.4        5.4        2.3  Iris-virginica\n",
       "149        5.9        3.0        5.1        1.8  Iris-virginica"
      ]
     },
     "execution_count": 1,
     "metadata": {},
     "output_type": "execute_result"
    }
   ],
   "source": [
    "import numpy as np\n",
    "import matplotlib.cm as cm\n",
    "import pandas as pd\n",
    "import matplotlib.pyplot as plt\n",
    "\n",
    "import warnings\n",
    "warnings.filterwarnings(\"ignore\")\n",
    "\n",
    "from fuzzylearn import *\n",
    "from fuzzylearn.fuzzifiers import LinearFuzzifier, CrispFuzzifier,ExponentialFuzzifier,QuantileLinearPiecewiseFuzzifier, QuantileConstantPiecewiseFuzzifier\n",
    "\n",
    "source = 'https://archive.ics.uci.edu/ml/machine-learning-databases/iris/iris.data'\n",
    "\n",
    "iris_df = pd.read_csv(\n",
    "    filepathE _or_buffer=source,\n",
    "    header=None,\n",
    "    sep=',')\n",
    "\n",
    "iris_df.columns=['sepal_len', 'sepal_wid', 'petal_len', 'petal_wid', 'class']\n",
    "iris_df.dropna(how=\"all\", inplace=True) # drops the empty line at file-end\n",
    "\n",
    "iris_df.tail()"
   ]
  },
  {
   "cell_type": "code",
   "execution_count": 2,
   "metadata": {},
   "outputs": [],
   "source": [
    "iris_values = iris_df.iloc[:,0:4].values\n",
    "iris_labels = iris_df.iloc[:,4].values"
   ]
  },
  {
   "cell_type": "code",
   "execution_count": 3,
   "metadata": {},
   "outputs": [],
   "source": [
    "from sklearn.preprocessing import StandardScaler\n",
    "iris_values_std = StandardScaler().fit_transform(iris_values)\n",
    "\n",
    "from sklearn.decomposition import PCA\n",
    "pca_2d = PCA(n_components=2)\n",
    "iris_values_2d = pca_2d.fit_transform(iris_values_std)"
   ]
  },
  {
   "cell_type": "code",
   "execution_count": 4,
   "metadata": {},
   "outputs": [
    {
     "data": {
      "image/png": "[encoded data removed]",
      "text/plain": [
       "<Figure size 432x288 with 1 Axes>"
      ]
     },
     "metadata": {
      "needs_background": "light"
     },
     "output_type": "display_data"
    }
   ],
   "source": [
    "#stampa\n",
    "%matplotlib inline\n",
    "import matplotlib.pyplot as plt\n",
    "\n",
    "def gr_dataset(): \n",
    "    for lab, col in zip(('Iris-setosa', 'Iris-versicolor', 'Iris-virginica'),\n",
    "                        ('blue', 'green', 'red')):\n",
    "        plt.scatter(iris_values_2d[iris_labels==lab, 0],\n",
    "                    iris_values_2d[iris_labels==lab, 1],\n",
    "                    label=lab,\n",
    "                    c=col)\n",
    "\n",
    "gr_dataset()"
   ]
  },
  {
   "cell_type": "code",
   "execution_count": 5,
   "metadata": {},
   "outputs": [],
   "source": [
    "def to_membership_values(labels, target):\n",
    "    return [1 if l==target else 0 for l in labels]\n",
    "\n",
    "mu = {}\n",
    "for target in ('Iris-setosa', 'Iris-versicolor', 'Iris-virginica'):\n",
    "    mu[target] = to_membership_values(iris_labels, target)"
   ]
  },
  {
   "cell_type": "code",
   "execution_count": 6,
   "metadata": {},
   "outputs": [],
   "source": [
    "def gr_membership_contour(estimated_membership):\n",
    "    x = np.arange(-4, 4, .1)\n",
    "    y = np.arange(-4, 4, .1)\n",
    "    X, Y = np.meshgrid(x, y)\n",
    "    zs = np.array([estimated_membership((x, y))\n",
    "                   for x,y in zip(np.ravel(X), np.ravel(Y))])\n",
    "    Z = zs.reshape(X.shape)\n",
    "    membership_contour = plt.contour(X, Y, Z,\n",
    "                                     levels=(.1, .3, .5, .95), colors='k')\n",
    "    plt.clabel(membership_contour, inline=1)"
   ]
  },
  {
   "cell_type": "code",
   "execution_count": 7,
   "metadata": {},
   "outputs": [],
   "source": [
    "def generator(m):\n",
    "    return (-4 + np.random.random(2*m) * 8).reshape((m, 2))"
   ]
  },
  {
   "cell_type": "code",
   "execution_count": 8,
   "metadata": {},
   "outputs": [],
   "source": [
    "from sklearn.model_selection import GridSearchCV, cross_val_score"
   ]
  },
  {
   "cell_type": "code",
   "execution_count": 9,
   "metadata": {},
   "outputs": [],
   "source": [
    "sigmas = [.225,.5]\n",
    "parameters = parameters = {'c':[1,10,100],\n",
    "                           'k':[GaussianKernel(i) for i in sigmas],\n",
    "                          }"
   ]
  },
  {
   "cell_type": "code",
   "execution_count": 10,
   "metadata": {},
   "outputs": [
    {
     "name": "stderr",
     "output_type": "stream",
     "text": [
      "\r",
      "  0%|          | 0/100 [00:00<?, ?it/s]"
     ]
    },
    {
     "name": "stdout",
     "output_type": "stream",
     "text": [
      "WARNING:tensorflow:From /home/malchiodi/share/anaconda3/lib/python3.7/site-packages/tensorflow_core/python/ops/math_grad.py:1430: where (from tensorflow.python.ops.array_ops) is deprecated and will be removed in a future version.\n",
      "Instructions for updating:\n",
      "Use tf.where in 2.0, which has the same broadcast rule as np.where\n"
     ]
    },
    {
     "name": "stderr",
     "output_type": "stream",
     "text": [
      "100%|██████████| 100/100 [00:13<00:00,  7.18it/s]\n"
     ]
    },
    {
     "data": {
      "text/plain": [
       "GridSearchCV(cv='warn', error_score='raise-deprecating',\n",
       "             estimator=FuzzyInductor(c=1,\n",
       "                                     fuzzifier=<class 'fuzzylearn.fuzzifiers.LinearFuzzifier'>,\n",
       "                                     k=GaussianKernel(1), random_state=None,\n",
       "                                     return_profile=False, return_vars=False,\n",
       "                                     sample_generator=<function generator at 0x7fa31c2fc048>,\n",
       "                                     solve_strategy=(<function solve_optimization_tensorflow at 0x7fa331cabf28>,\n",
       "                                                     {})),\n",
       "             iid='warn', n_jobs=-1,\n",
       "             param_grid={'c': [1, 10, 100],\n",
       "                         'k': [GaussianKernel(0.225), GaussianKernel(0.5)]},\n",
       "             pre_dispatch='2*n_jobs', refit=True, return_train_score=False,\n",
       "             scoring=None, verbose=0)"
      ]
     },
     "execution_count": 10,
     "metadata": {},
     "output_type": "execute_result"
    }
   ],
   "source": [
    "virginica = GridSearchCV(estimator=FuzzyInductor(sample_generator=generator,fuzzifier=LinearFuzzifier), param_grid=parameters, n_jobs=-1)\n",
    "virginica.fit(iris_values_2d,mu['Iris-virginica'])"
   ]
  },
  {
   "cell_type": "code",
   "execution_count": 11,
   "metadata": {},
   "outputs": [
    {
     "data": {
      "image/png": "[encoded data removed]",
      "text/plain": [
       "<Figure size 504x504 with 1 Axes>"
      ]
     },
     "metadata": {
      "needs_background": "light"
     },
     "output_type": "display_data"
    }
   ],
   "source": [
    "plt.figure(figsize=(7,7))\n",
    "gr_dataset()\n",
    "gr_membership_contour(virginica.best_estimator_.estimated_membership_)\n",
    "plt.show()"
   ]
  },
  {
   "cell_type": "code",
   "execution_count": 12,
   "metadata": {},
   "outputs": [
    {
     "name": "stderr",
     "output_type": "stream",
     "text": [
      "100%|██████████| 100/100 [00:14<00:00,  6.97it/s]\n"
     ]
    },
    {
     "data": {
      "text/plain": [
       "GridSearchCV(cv='warn', error_score='raise-deprecating',\n",
       "             estimator=FuzzyInductor(c=1,\n",
       "                                     fuzzifier=<class 'fuzzylearn.fuzzifiers.LinearFuzzifier'>,\n",
       "                                     k=GaussianKernel(1), random_state=None,\n",
       "                                     return_profile=False, return_vars=False,\n",
       "                                     sample_generator=<function generator at 0x7fa31c2fc048>,\n",
       "                                     solve_strategy=(<function solve_optimization_tensorflow at 0x7fa331cabf28>,\n",
       "                                                     {})),\n",
       "             iid='warn', n_jobs=-1,\n",
       "             param_grid={'c': [1, 10, 100],\n",
       "                         'k': [GaussianKernel(0.225), GaussianKernel(0.5)]},\n",
       "             pre_dispatch='2*n_jobs', refit=True, return_train_score=False,\n",
       "             scoring=None, verbose=0)"
      ]
     },
     "execution_count": 12,
     "metadata": {},
     "output_type": "execute_result"
    }
   ],
   "source": [
    "versicolor = GridSearchCV(estimator=FuzzyInductor(sample_generator=generator,fuzzifier=LinearFuzzifier), param_grid=parameters, n_jobs=-1)\n",
    "versicolor.fit(iris_values_2d,mu['Iris-versicolor'])"
   ]
  },
  {
   "cell_type": "code",
   "execution_count": 13,
   "metadata": {},
   "outputs": [
    {
     "data": {
      "image/png": "[encoded data removed]",
      "text/plain": [
       "<Figure size 504x504 with 1 Axes>"
      ]
     },
     "metadata": {
      "needs_background": "light"
     },
     "output_type": "display_data"
    }
   ],
   "source": [
    "plt.figure(figsize=(7,7))\n",
    "gr_dataset()\n",
    "gr_membership_contour(versicolor.best_estimator_.estimated_membership_)\n",
    "plt.show()"
   ]
  },
  {
   "cell_type": "code",
   "execution_count": 14,
   "metadata": {},
   "outputs": [
    {
     "name": "stderr",
     "output_type": "stream",
     "text": [
      "100%|██████████| 100/100 [00:14<00:00,  6.97it/s]\n"
     ]
    },
    {
     "data": {
      "text/plain": [
       "GridSearchCV(cv='warn', error_score='raise-deprecating',\n",
       "             estimator=FuzzyInductor(c=1,\n",
       "                                     fuzzifier=<class 'fuzzylearn.fuzzifiers.LinearFuzzifier'>,\n",
       "                                     k=GaussianKernel(1), random_state=None,\n",
       "                                     return_profile=False, return_vars=False,\n",
       "                                     sample_generator=<function generator at 0x7fa31c2fc048>,\n",
       "                                     solve_strategy=(<function solve_optimization_tensorflow at 0x7fa331cabf28>,\n",
       "                                                     {})),\n",
       "             iid='warn', n_jobs=-1,\n",
       "             param_grid={'c': [1, 10, 100],\n",
       "                         'k': [GaussianKernel(0.225), GaussianKernel(0.5)]},\n",
       "             pre_dispatch='2*n_jobs', refit=True, return_train_score=False,\n",
       "             scoring=None, verbose=0)"
      ]
     },
     "execution_count": 14,
     "metadata": {},
     "output_type": "execute_result"
    }
   ],
   "source": [
    "setosa = GridSearchCV(estimator=FuzzyInductor(sample_generator=generator,fuzzifier=LinearFuzzifier), param_grid=parameters,n_jobs=-1)\n",
    "setosa.fit(iris_values_2d,mu['Iris-setosa'])"
   ]
  },
  {
   "cell_type": "code",
   "execution_count": 15,
   "metadata": {},
   "outputs": [
    {
     "data": {
      "image/png": "[encoded data removed]",
      "text/plain": [
       "<Figure size 504x504 with 1 Axes>"
      ]
     },
     "metadata": {
      "needs_background": "light"
     },
     "output_type": "display_data"
    }
   ],
   "source": [
    "plt.figure(figsize=(7,7))\n",
    "gr_dataset()\n",
    "gr_membership_contour(setosa.best_estimator_.estimated_membership_)\n",
    "plt.show()"
   ]
  },
  {
   "cell_type": "code",
   "execution_count": 16,
   "metadata": {},
   "outputs": [
    {
     "name": "stdout",
     "output_type": "stream",
     "text": [
      "Setosa score: -0.0\n",
      "Virginica score: -0.0782198539997079\n",
      "Versicolor score: -0.1\n"
     ]
    }
   ],
   "source": [
    "print(\"Setosa score: \" + str(setosa.best_estimator_.score(iris_values_2d,mu['Iris-setosa'])) +\n",
    "      \"\\nVirginica score: \" + str(virginica.best_estimator_.score(iris_values_2d,mu['Iris-virginica']))\n",
    "      +\"\\nVersicolor score: \" + str(versicolor.best_estimator_.score(iris_values_2d,mu['Iris-versicolor'])))"
   ]
  },
  {
   "cell_type": "code",
   "execution_count": 17,
   "metadata": {},
   "outputs": [],
   "source": [
    "def classify(item):\n",
    "    return sorted([(m(item), l)\n",
    "                   for m, l in zip((virginica.best_estimator_.estimated_membership_,\n",
    "                                    versicolor.best_estimator_.estimated_membership_,\n",
    "                                    setosa.best_estimator_.estimated_membership_),\n",
    "                              ('Iris-virginica', 'Iris-versicolor', 'Iris-setosa'))])[-1][1]"
   ]
  },
  {
   "cell_type": "code",
   "execution_count": 18,
   "metadata": {},
   "outputs": [
    {
     "data": {
      "text/plain": [
       "[(54, 'Iris-virginica', 'Iris-versicolor'),\n",
       " (60, 'Iris-virginica', 'Iris-versicolor'),\n",
       " (68, 'Iris-virginica', 'Iris-versicolor'),\n",
       " (72, 'Iris-virginica', 'Iris-versicolor'),\n",
       " (83, 'Iris-virginica', 'Iris-versicolor'),\n",
       " (106, 'Iris-versicolor', 'Iris-virginica'),\n",
       " (110, 'Iris-versicolor', 'Iris-virginica'),\n",
       " (121, 'Iris-versicolor', 'Iris-virginica'),\n",
       " (127, 'Iris-versicolor', 'Iris-virginica'),\n",
       " (137, 'Iris-versicolor', 'Iris-virginica'),\n",
       " (138, 'Iris-versicolor', 'Iris-virginica'),\n",
       " (149, 'Iris-versicolor', 'Iris-virginica')]"
      ]
     },
     "execution_count": 18,
     "metadata": {},
     "output_type": "execute_result"
    }
   ],
   "source": [
    "results = zip(range(len(iris_values_2d)), map(classify, iris_values_2d), iris_labels)\n",
    "[r for r in results if r[1] != r[2]]"
   ]
  },
  {
   "cell_type": "code",
   "execution_count": 19,
   "metadata": {},
   "outputs": [],
   "source": [
    "def get_generator(d):\n",
    "    return lambda m: (-4 + np.random.random(d*m) * 8).reshape((m, d))\n",
    "    return (-4 + np.random.random(2*m) * 8).reshape((m, 2))\n",
    "\n",
    "def classify(item, est_mu, classes):\n",
    "    return sorted([(l, est_mu[l](item)) for l in classes], key=lambda i:i[1], reverse=True)[0][0]\n",
    "\n",
    "def holdout(data_values, data_labels, classes,\n",
    "            train_percentage, parameters, generator_factory,\n",
    "            classify, num_holdouts):\n",
    "  \n",
    "    n = len(data_values)\n",
    "    \n",
    "    performance_train = performance_test = 0.0\n",
    "    \n",
    "    trials = range(num_holdouts)\n",
    "    \n",
    "    for trial in trials:\n",
    "    \n",
    "        permuted_indices = np.random.permutation(n)\n",
    "        train_indices = permuted_indices[:int(n*train_percentage)]\n",
    "        test_indices = permuted_indices[int(n*train_percentage):]\n",
    "    \n",
    "        train_values = [data_values[i] for i in train_indices]\n",
    "        test_values = [data_values[i] for i in test_indices]\n",
    "        \n",
    "        train_values_arr = np.asarray(train_values)\n",
    "    \n",
    "        mu = {} \n",
    "        mu_train = {}\n",
    "        mu_test = {}\n",
    "    \n",
    "        result = []\n",
    "    \n",
    "        for target in classes:\n",
    "            mu[target] = to_membership_values(data_labels, target)\n",
    "            mu_train[target] = [mu[target][i] for i in train_indices]\n",
    "            mu_test[target] = [mu[target][i] for i in test_indices]\n",
    "        \n",
    "    \n",
    "        labels_train = [data_labels[i] for i in train_indices]\n",
    "        labels_test = [data_labels[i] for i in test_indices]\n",
    "    \n",
    "        est_mu = {}\n",
    "        \n",
    "        targets = classes\n",
    "        \n",
    "        for target in targets:\n",
    "            clf = GridSearchCV(estimator=FuzzyInductor(sample_generator=generator_factory(c),fuzzifier=LinearFuzzifier), param_grid=parameters, n_jobs=-1)\n",
    "            clf.fit(train_values_arr, mu_train[target])\n",
    "            est_mu[target] = clf.best_estimator_.estimated_membership_\n",
    "\n",
    "            if len(est_mu.values()) < len(classes):\n",
    "                continue # at least one class not inferred\n",
    "        \n",
    "        results_train = list(zip(range(len(train_values)),\n",
    "                            map(lambda item: classify(item, est_mu, classes),\n",
    "                            train_values), labels_train))\n",
    "        performance_train += 1.0 * len([r for r in results_train if r[1] != r[2]]) / len(results_train)\n",
    "    \n",
    "        results_test = list(zip(range(len(test_values)),\n",
    "                           map(lambda item: classify(item, est_mu, classes),\n",
    "                           test_values), labels_test))\n",
    "    \n",
    "        performance_test += 1.0 * len([r for r in results_test if r[1] != r[2]]) / len(results_test)\n",
    "        \n",
    "    return (performance_train/num_holdouts, performance_test/num_holdouts)"
   ]
  },
  {
   "cell_type": "code",
   "execution_count": 20,
   "metadata": {},
   "outputs": [
    {
     "name": "stderr",
     "output_type": "stream",
     "text": [
      "100%|██████████| 100/100 [00:10<00:00,  9.92it/s]\n",
      "100%|██████████| 100/100 [00:10<00:00,  9.89it/s]\n",
      "100%|██████████| 100/100 [00:10<00:00,  9.97it/s]\n",
      "100%|██████████| 100/100 [00:09<00:00, 10.36it/s]\n",
      "100%|██████████| 100/100 [00:09<00:00, 10.31it/s]\n",
      "100%|██████████| 100/100 [00:09<00:00, 10.26it/s]\n",
      "100%|██████████| 100/100 [00:09<00:00, 10.40it/s]\n",
      "100%|██████████| 100/100 [00:09<00:00, 10.28it/s]\n",
      "100%|██████████| 100/100 [00:09<00:00, 10.39it/s]\n",
      "100%|██████████| 100/100 [00:09<00:00, 10.13it/s]\n",
      "100%|██████████| 100/100 [00:09<00:00, 10.56it/s]\n",
      "100%|██████████| 100/100 [00:09<00:00, 10.52it/s]\n",
      "100%|██████████| 100/100 [00:09<00:00, 10.28it/s]\n",
      "100%|██████████| 100/100 [00:09<00:00, 10.24it/s]\n",
      "100%|██████████| 100/100 [00:10<00:00,  9.86it/s]\n",
      "100%|██████████| 100/100 [00:10<00:00,  9.86it/s]\n",
      "100%|██████████| 100/100 [00:10<00:00,  9.62it/s]\n",
      "100%|██████████| 100/100 [00:09<00:00, 10.09it/s]\n"
     ]
    }
   ],
   "source": [
    "classes = ('Iris-virginica','Iris-versicolor','Iris-setosa')\n",
    "train_percentage = 0.7\n",
    "num_holdouts = 2\n",
    "\n",
    "results_df = pd.DataFrame()\n",
    "\n",
    "for c in range(2,5):\n",
    "    pca = PCA(n_components=c)\n",
    "    iris_values_tr = pca.fit_transform(iris_values_std)\n",
    "    perf_train, perf_test = holdout(iris_values_tr,iris_labels,classes,\n",
    "                                   train_percentage, parameters, get_generator,\n",
    "                                   classify, num_holdouts)\n",
    "    results_df = results_df.append({'components': c,\n",
    "                                   'train': perf_train,\n",
    "                                   'test': perf_test}, \n",
    "                                  ignore_index=True)"
   ]
  },
  {
   "cell_type": "code",
   "execution_count": 21,
   "metadata": {},
   "outputs": [
    {
     "data": {
      "text/html": [
       "<div>\n",
       "<style scoped>\n",
       "    .dataframe tbody tr th:only-of-type {\n",
       "        vertical-align: middle;\n",
       "    }\n",
       "\n",
       "    .dataframe tbody tr th {\n",
       "        vertical-align: top;\n",
       "    }\n",
       "\n",
       "    .dataframe thead th {\n",
       "        text-align: right;\n",
       "    }\n",
       "</style>\n",
       "<table border=\"1\" class=\"dataframe\">\n",
       "  <thead>\n",
       "    <tr style=\"text-align: right;\">\n",
       "      <th></th>\n",
       "      <th>components</th>\n",
       "      <th>test</th>\n",
       "      <th>train</th>\n",
       "    </tr>\n",
       "  </thead>\n",
       "  <tbody>\n",
       "    <tr>\n",
       "      <th>0</th>\n",
       "      <td>2.0</td>\n",
       "      <td>0.088889</td>\n",
       "      <td>0.085714</td>\n",
       "    </tr>\n",
       "    <tr>\n",
       "      <th>1</th>\n",
       "      <td>3.0</td>\n",
       "      <td>0.055556</td>\n",
       "      <td>0.019048</td>\n",
       "    </tr>\n",
       "    <tr>\n",
       "      <th>2</th>\n",
       "      <td>4.0</td>\n",
       "      <td>0.055556</td>\n",
       "      <td>0.019048</td>\n",
       "    </tr>\n",
       "  </tbody>\n",
       "</table>\n",
       "</div>"
      ],
      "text/plain": [
       "   components      test     train\n",
       "0         2.0  0.088889  0.085714\n",
       "1         3.0  0.055556  0.019048\n",
       "2         4.0  0.055556  0.019048"
      ]
     },
     "execution_count": 21,
     "metadata": {},
     "output_type": "execute_result"
    }
   ],
   "source": [
    "results_df"
   ]
  },
  {
   "cell_type": "code",
   "execution_count": 10,
   "metadata": {},
   "outputs": [],
   "source": [
    "def fuzzifier_table(fuzzifiers,columns,model_class, y, model_selection_grid, num_fold_grid_search, num_fold_cross_val, logger = None, scaling=StandardScaler(), dim_reduction=None):\n",
    "    table = pd.DataFrame({str(columns):[None for f in fuzzifiers]},index=[fuzzifiers_to_string[f] for f in fuzzifiers])\n",
    "    for fuzzifier in fuzzifiers:\n",
    "        params_fuzzifier = model_selection_grid \n",
    "        params_fuzzifier['fuzzifier'] = [fuzzifier]\n",
    "        score, _ = experiment(columns,model_class, y, params_fuzzifier, num_fold_grid_search, num_fold_cross_val, scaling=StandardScaler(), dim_reduction=None)\n",
    "        table.loc[fuzzifiers_to_string[fuzzifier]][str(columns)] = score\n",
    "    return table"
   ]
  },
  {
   "cell_type": "code",
   "execution_count": 11,
   "metadata": {},
   "outputs": [],
   "source": [
    "def experiment(columns,model_class, y, model_selection_grid, num_fold_grid_search, num_fold_cross_val, logger = None, scaling=StandardScaler(), dim_reduction=None):\n",
    "    grid = {}\n",
    "    if logger is not None:\n",
    "        logger.info('ESPERIMENTO CON %s',str(columns))\n",
    "        \n",
    "    dataset_values = iris_df[columns].values\n",
    "    result, grid = train(FuzzyInductor,dataset_values,y,model_selection_grid,3,3)\n",
    "    \n",
    "    if logger is not None:\n",
    "        logger.info('Score: %s',str(result.mean()))\n",
    "        logger.info(\"FINE ESPERIMENTO\\n\")\n",
    "    \n",
    "    return np.mean(result[np.isfinite(result)]), grid"
   ]
  },
  {
   "cell_type": "code",
   "execution_count": 12,
   "metadata": {},
   "outputs": [],
   "source": [
    "def train(model_class, X, y, model_selection_grid, num_fold_grid_search, num_fold_cross_val, logger = None, scaling=StandardScaler(), dim_reduction=None):\n",
    "        \n",
    "    if logger is not None:\n",
    "        logger.info('Inizio Addestramento')\n",
    "        \n",
    "    X_std = scaling.fit_transform(X)  if scaling is not None else X\n",
    "    \n",
    "    X_std = dim_reduction.fit_transform(X_std) if dim_reduction is not None else X_std\n",
    "    \n",
    "    clf = GridSearchCV(estimator=model_class(), param_grid=model_selection_grid, cv=num_fold_grid_search, n_jobs=-1)\n",
    "    clf.fit(X,y)\n",
    "    \n",
    "    grid = clf.best_params_\n",
    "    for i, j in grid.items():\n",
    "        grid[i] = str(j)\n",
    "\n",
    "    val = cross_val_score(clf, X_std, y, cv=num_fold_cross_val)\n",
    "    \n",
    "    if logger is not None:\n",
    "        logger.info('%s',str(clf.best_params_))\n",
    "        logger.info('Scores: %s',str(val))\n",
    "        logger.info(\"Fine addestramento\")\n",
    "        \n",
    "    return val, grid"
   ]
  },
  {
   "cell_type": "code",
   "execution_count": 13,
   "metadata": {},
   "outputs": [],
   "source": [
    "def iris_fuzzifier_table(classes,fuzzifiers,columns,model_class, y, model_selection_grid, num_fold_grid_search, num_fold_cross_val, logger = None, scaling=StandardScaler(), dim_reduction=None):\n",
    "    table = pd.DataFrame(index=[fuzzifiers_to_string[f] for f in fuzzifiers])\n",
    "    for target in classes:\n",
    "        table[target] = fuzzifier_table(fuzzifiers,columns,model_class,y[target],model_selection_grid,num_fold_grid_search, num_fold_cross_val, logger = None, scaling=StandardScaler(),dim_reduction=dim_reduction)\n",
    "    return table"
   ]
  },
  {
   "cell_type": "code",
   "execution_count": 84,
   "metadata": {},
   "outputs": [],
   "source": [
    "fuzzifiers = [LinearFuzzifier,ExponentialFuzzifier, CrispFuzzifier, \n",
    "              QuantileConstantPiecewiseFuzzifier, QuantileLinearPiecewiseFuzzifier]\n",
    "fuzzifiers_to_string = {LinearFuzzifier: \"LinearFuzzifier\",\n",
    "                        ExponentialFuzzifier:\"ExponentialFuzzifier\",\n",
    "                        CrispFuzzifier: \"CrispFuzzifier\",\n",
    "                        QuantileConstantPiecewiseFuzzifier: \" QuantileConstantPiecewiseFuzzifier\",\n",
    "                        QuantileLinearPiecewiseFuzzifier: \"QuantileLinearPiecewiseFuzzifier\"}\n",
    "\n",
    "params_grid_noFuzzifier = {'c':[1,10,100],\n",
    "       'k':[GaussianKernel(sigma) for sigma in sigmas],   \n",
    "}\n",
    "\n",
    "dim_red = PCA(n_components=2)\n",
    "columns = ['sepal_len', 'sepal_wid', 'petal_len', 'petal_wid']"
   ]
  },
  {
   "cell_type": "code",
   "execution_count": 85,
   "metadata": {},
   "outputs": [
    {
     "name": "stderr",
     "output_type": "stream",
     "text": [
      "100%|██████████| 100/100 [00:39<00:00,  2.48it/s]\n",
      "100%|██████████| 100/100 [00:27<00:00,  3.73it/s]\n",
      "100%|██████████| 100/100 [00:27<00:00,  4.26it/s]\n",
      "100%|██████████| 100/100 [00:27<00:00,  3.70it/s]\n",
      "100%|██████████| 100/100 [00:39<00:00,  2.57it/s]\n",
      "100%|██████████| 100/100 [00:26<00:00,  3.93it/s]\n",
      "100%|██████████| 100/100 [00:26<00:00,  3.69it/s]\n",
      "100%|██████████| 100/100 [00:28<00:00,  3.62it/s]\n",
      "100%|██████████| 100/100 [00:40<00:00,  2.51it/s]\n",
      "100%|██████████| 100/100 [00:27<00:00,  3.64it/s]\n",
      "100%|██████████| 100/100 [00:28<00:00,  3.81it/s]\n",
      "100%|██████████| 100/100 [00:27<00:00,  3.64it/s]\n",
      "100%|██████████| 100/100 [00:41<00:00,  2.39it/s]\n",
      "100%|██████████| 100/100 [00:27<00:00,  3.68it/s]\n",
      "100%|██████████| 100/100 [00:27<00:00,  3.20it/s]\n",
      "100%|██████████| 100/100 [00:27<00:00,  3.61it/s]\n",
      "100%|██████████| 100/100 [00:40<00:00,  2.48it/s]\n",
      "100%|██████████| 100/100 [00:28<00:00,  3.59it/s]\n",
      "100%|██████████| 100/100 [00:27<00:00,  3.68it/s]\n",
      "100%|██████████| 100/100 [00:31<00:00,  3.35it/s]\n",
      "100%|██████████| 100/100 [00:42<00:00,  2.28it/s]\n",
      "100%|██████████| 100/100 [00:27<00:00,  3.38it/s]\n",
      "100%|██████████| 100/100 [00:37<00:00,  3.34it/s]\n",
      "100%|██████████| 100/100 [00:27<00:00,  3.31it/s]\n",
      "100%|██████████| 100/100 [00:42<00:00,  2.27it/s]\n",
      "100%|██████████| 100/100 [00:31<00:00,  3.71it/s]\n",
      "100%|██████████| 100/100 [00:28<00:00,  3.32it/s]\n",
      "100%|██████████| 100/100 [00:28<00:00,  3.64it/s]\n",
      "100%|██████████| 100/100 [00:43<00:00,  2.75it/s]\n",
      "100%|██████████| 100/100 [00:30<00:00,  3.33it/s]\n",
      "100%|██████████| 100/100 [00:29<00:00,  3.29it/s]\n",
      "100%|██████████| 100/100 [00:30<00:00,  3.34it/s]\n",
      "100%|██████████| 100/100 [00:41<00:00,  2.30it/s]\n",
      "100%|██████████| 100/100 [00:30<00:00,  3.23it/s]\n",
      "100%|██████████| 100/100 [00:29<00:00,  3.38it/s]\n",
      "100%|██████████| 100/100 [00:27<00:00,  3.62it/s]\n",
      "100%|██████████| 100/100 [00:39<00:00,  2.47it/s]\n",
      "100%|██████████| 100/100 [00:27<00:00,  3.64it/s]\n",
      "100%|██████████| 100/100 [00:27<00:00,  3.27it/s]\n",
      "100%|██████████| 100/100 [00:29<00:00,  3.31it/s]\n",
      "100%|██████████| 100/100 [00:42<00:00,  2.50it/s]\n",
      "100%|██████████| 100/100 [00:28<00:00,  3.33it/s]\n",
      "100%|██████████| 100/100 [00:29<00:00,  3.53it/s]\n",
      "100%|██████████| 100/100 [00:27<00:00,  3.63it/s]\n",
      "100%|██████████| 100/100 [00:43<00:00,  2.12it/s]\n",
      "100%|██████████| 100/100 [00:28<00:00,  3.60it/s]\n",
      "100%|██████████| 100/100 [00:29<00:00,  3.26it/s]\n",
      "100%|██████████| 100/100 [00:30<00:00,  3.08it/s]\n",
      "100%|██████████| 100/100 [00:43<00:00,  2.37it/s]\n",
      "100%|██████████| 100/100 [00:30<00:00,  3.30it/s]\n",
      "100%|██████████| 100/100 [00:28<00:00,  3.63it/s]\n",
      "100%|██████████| 100/100 [00:30<00:00,  3.33it/s]\n",
      "100%|██████████| 100/100 [00:44<00:00,  2.23it/s]\n",
      "100%|██████████| 100/100 [00:28<00:00,  3.29it/s]\n",
      "100%|██████████| 100/100 [00:28<00:00,  3.65it/s]\n",
      "100%|██████████| 100/100 [00:30<00:00,  3.61it/s]\n",
      "100%|██████████| 100/100 [00:43<00:00,  2.28it/s]\n",
      "100%|██████████| 100/100 [00:28<00:00,  3.64it/s]\n",
      "100%|██████████| 100/100 [00:28<00:00,  3.61it/s]\n",
      "100%|██████████| 100/100 [00:29<00:00,  3.28it/s]\n"
     ]
    }
   ],
   "source": [
    "ift = iris_fuzzifier_table(classes,fuzzifiers,columns,FuzzyInductor,mu,params_grid_noFuzzifier,3,3,dim_reduction=dim_red)"
   ]
  },
  {
   "cell_type": "code",
   "execution_count": 88,
   "metadata": {},
   "outputs": [
    {
     "data": {
      "text/html": [
       "<div>\n",
       "<style scoped>\n",
       "    .dataframe tbody tr th:only-of-type {\n",
       "        vertical-align: middle;\n",
       "    }\n",
       "\n",
       "    .dataframe tbody tr th {\n",
       "        vertical-align: top;\n",
       "    }\n",
       "\n",
       "    .dataframe thead th {\n",
       "        text-align: right;\n",
       "    }\n",
       "</style>\n",
       "<table border=\"1\" class=\"dataframe\">\n",
       "  <thead>\n",
       "    <tr style=\"text-align: right;\">\n",
       "      <th></th>\n",
       "      <th>Iris-virginica</th>\n",
       "      <th>Iris-versicolor</th>\n",
       "      <th>Iris-setosa</th>\n",
       "    </tr>\n",
       "  </thead>\n",
       "  <tbody>\n",
       "    <tr>\n",
       "      <th>LinearFuzzifier</th>\n",
       "      <td>-0.342055</td>\n",
       "      <td>-0.240479</td>\n",
       "      <td>0</td>\n",
       "    </tr>\n",
       "    <tr>\n",
       "      <th>ExponentialFuzzifier</th>\n",
       "      <td>-0.325888</td>\n",
       "      <td>-0.330854</td>\n",
       "      <td>-1.45018e-13</td>\n",
       "    </tr>\n",
       "    <tr>\n",
       "      <th>CrispFuzzifier</th>\n",
       "      <td>-0.23</td>\n",
       "      <td>-0.17</td>\n",
       "      <td>0</td>\n",
       "    </tr>\n",
       "    <tr>\n",
       "      <th>QuantileConstantPiecewiseFuzzifier</th>\n",
       "      <td>-0.0725</td>\n",
       "      <td>-0.02625</td>\n",
       "      <td>-0.13</td>\n",
       "    </tr>\n",
       "    <tr>\n",
       "      <th>QuantileLinearPiecewiseFuzzifier</th>\n",
       "      <td>-0.0949999</td>\n",
       "      <td>-0.0371176</td>\n",
       "      <td>-0.160975</td>\n",
       "    </tr>\n",
       "  </tbody>\n",
       "</table>\n",
       "</div>"
      ],
      "text/plain": [
       "                                    Iris-virginica Iris-versicolor  \\\n",
       "LinearFuzzifier                          -0.342055       -0.240479   \n",
       "ExponentialFuzzifier                     -0.325888       -0.330854   \n",
       "CrispFuzzifier                               -0.23           -0.17   \n",
       " QuantileConstantPiecewiseFuzzifier        -0.0725        -0.02625   \n",
       "QuantileLinearPiecewiseFuzzifier        -0.0949999      -0.0371176   \n",
       "\n",
       "                                     Iris-setosa  \n",
       "LinearFuzzifier                                0  \n",
       "ExponentialFuzzifier                -1.45018e-13  \n",
       "CrispFuzzifier                                 0  \n",
       " QuantileConstantPiecewiseFuzzifier        -0.13  \n",
       "QuantileLinearPiecewiseFuzzifier       -0.160975  "
      ]
     },
     "execution_count": 88,
     "metadata": {},
     "output_type": "execute_result"
    }
   ],
   "source": [
    "ift"
   ]
  }
 ],
 "metadata": {
  "kernelspec": {
   "display_name": "Python 3",
   "language": "python",
   "name": "python3"
  },
  "language_info": {
   "codemirror_mode": {
    "name": "ipython",
    "version": 3
   },
   "file_extension": ".py",
   "mimetype": "text/x-python",
   "name": "python",
   "nbconvert_exporter": "python",
   "pygments_lexer": "ipython3",
   "version": "3.7.6"
  },
  "latex_envs": {
   "LaTeX_envs_menu_present": true,
   "autoclose": false,
   "autocomplete": true,
   "bibliofile": "biblio.bib",
   "cite_by": "apalike",
   "current_citInitial": 1,
   "eqLabelWithNumbers": true,
   "eqNumInitial": 1,
   "hotkeys": {
    "equation": "Ctrl-E",
    "itemize": "Ctrl-I"
   },
   "labels_anchors": false,
   "latex_user_defs": false,
   "report_style_numbering": false,
   "user_envs_cfg": false
  },
  "toc": {
   "base_numbering": 1,
   "nav_menu": {},
   "number_sections": true,
   "sideBar": true,
   "skip_h1_title": false,
   "title_cell": "Table of Contents",
   "title_sidebar": "Contents",
   "toc_cell": false,
   "toc_position": {},
   "toc_section_display": true,
   "toc_window_display": false
  }
 },
 "nbformat": 4,
 "nbformat_minor": 2
}
