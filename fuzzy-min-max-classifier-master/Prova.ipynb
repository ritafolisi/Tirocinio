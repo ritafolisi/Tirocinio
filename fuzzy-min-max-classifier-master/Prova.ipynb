{
 "cells": [
  {
   "cell_type": "code",
   "execution_count": 1,
   "metadata": {},
   "outputs": [],
   "source": [
    "from fuzzy import *\n",
    "import matplotlib.pyplot as plt\n",
    "import pandas as pd\n",
    "import math\n",
    "import random\n",
    "from sklearn.model_selection import train_test_split\n"
   ]
  },
  {
   "cell_type": "code",
   "execution_count": 26,
   "metadata": {},
   "outputs": [
    {
     "data": {
      "text/plain": [
       "array([[5.5, 2.4],\n",
       "       [5.1, 3.8],\n",
       "       [6.3, 2.3],\n",
       "       [6.3, 2.7],\n",
       "       [5.1, 3.3],\n",
       "       [7.1, 3. ],\n",
       "       [6.1, 2.8],\n",
       "       [5.6, 2.9],\n",
       "       [4.8, 3.1],\n",
       "       [5.6, 3. ],\n",
       "       [5.8, 2.7],\n",
       "       [5.7, 2.6],\n",
       "       [5.5, 3.5],\n",
       "       [5. , 3.2],\n",
       "       [6.5, 3. ],\n",
       "       [7.9, 3.8],\n",
       "       [7.2, 3.2],\n",
       "       [6.9, 3.1],\n",
       "       [6.4, 2.7],\n",
       "       [5.4, 3.9],\n",
       "       [5.7, 3.8],\n",
       "       [6.3, 3.3],\n",
       "       [6.3, 3.3],\n",
       "       [7.7, 3. ],\n",
       "       [4.7, 3.2],\n",
       "       [6.7, 3.1],\n",
       "       [5.6, 2.7],\n",
       "       [5.2, 2.7],\n",
       "       [6.9, 3.1],\n",
       "       [5.5, 4.2],\n",
       "       [5.2, 3.4],\n",
       "       [5.9, 3. ],\n",
       "       [5.1, 3.5],\n",
       "       [6.8, 3. ],\n",
       "       [7.7, 2.8],\n",
       "       [4.9, 3.1],\n",
       "       [5.4, 3.4],\n",
       "       [7.2, 3. ],\n",
       "       [4.9, 3. ],\n",
       "       [4.6, 3.1],\n",
       "       [6.8, 2.8],\n",
       "       [6.7, 3. ],\n",
       "       [6.1, 2.8],\n",
       "       [7.3, 2.9],\n",
       "       [6.4, 3.1],\n",
       "       [4.6, 3.4],\n",
       "       [5.8, 2.6],\n",
       "       [6.4, 2.8],\n",
       "       [4.8, 3. ],\n",
       "       [4.4, 3.2],\n",
       "       [6.1, 3. ],\n",
       "       [6.2, 2.9],\n",
       "       [4.7, 3.2],\n",
       "       [6.4, 2.9],\n",
       "       [4.8, 3.4],\n",
       "       [6. , 2.9],\n",
       "       [6.9, 3.2],\n",
       "       [6.7, 3.3],\n",
       "       [5.5, 2.3],\n",
       "       [6.5, 3.2],\n",
       "       [5. , 3.6],\n",
       "       [6. , 2.2],\n",
       "       [6.7, 3. ],\n",
       "       [5.4, 3.4],\n",
       "       [6.3, 2.8],\n",
       "       [6.7, 3.3],\n",
       "       [4.3, 3. ],\n",
       "       [5. , 3. ],\n",
       "       [5.4, 3.7],\n",
       "       [5.2, 4.1],\n",
       "       [6.2, 3.4],\n",
       "       [5. , 3.5],\n",
       "       [5.7, 2.8],\n",
       "       [6.7, 3.1],\n",
       "       [5.8, 4. ],\n",
       "       [6. , 3. ],\n",
       "       [5.7, 2.8],\n",
       "       [7. , 3.2],\n",
       "       [5. , 3.5],\n",
       "       [6.3, 2.5],\n",
       "       [7.6, 3. ],\n",
       "       [6.5, 2.8],\n",
       "       [6.4, 3.2],\n",
       "       [4.4, 2.9],\n",
       "       [5.6, 3. ],\n",
       "       [6.2, 2.8],\n",
       "       [5.8, 2.8],\n",
       "       [4.9, 3.1],\n",
       "       [5.7, 2.5],\n",
       "       [7.7, 3.8],\n",
       "       [5.1, 3.5],\n",
       "       [4.9, 3.1],\n",
       "       [5. , 2.3],\n",
       "       [5.2, 3.5],\n",
       "       [7.7, 2.6],\n",
       "       [6.7, 3.1],\n",
       "       [6.7, 2.5],\n",
       "       [5.5, 2.6],\n",
       "       [4.4, 3. ],\n",
       "       [5.4, 3. ],\n",
       "       [7.4, 2.8],\n",
       "       [4.8, 3. ],\n",
       "       [5.8, 2.7],\n",
       "       [6. , 2.2],\n",
       "       [6.5, 3. ],\n",
       "       [5.5, 2.5],\n",
       "       [6.9, 3.1],\n",
       "       [6. , 3.4],\n",
       "       [4.9, 2.5],\n",
       "       [5.9, 3. ],\n",
       "       [4.6, 3.6],\n",
       "       [4.6, 3.2],\n",
       "       [5.1, 3.7],\n",
       "       [5.8, 2.7],\n",
       "       [6.6, 3. ],\n",
       "       [5.3, 3.7],\n",
       "       [6.4, 2.8],\n",
       "       [5.1, 3.4],\n",
       "       [6.3, 2.9],\n",
       "       [5. , 3.4],\n",
       "       [5.1, 3.8],\n",
       "       [5.6, 2.5],\n",
       "       [6.6, 2.9],\n",
       "       [5.5, 2.4],\n",
       "       [5. , 3.4],\n",
       "       [7.2, 3.6],\n",
       "       [6.1, 2.6],\n",
       "       [6.1, 2.9],\n",
       "       [5.1, 3.8],\n",
       "       [5.7, 4.4],\n",
       "       [6.1, 3. ],\n",
       "       [5.8, 2.7],\n",
       "       [5. , 3.3],\n",
       "       [5. , 2. ],\n",
       "       [5.6, 2.8],\n",
       "       [5.7, 3. ],\n",
       "       [4.8, 3.4],\n",
       "       [6.2, 2.2],\n",
       "       [4.5, 2.3],\n",
       "       [6.3, 2.5],\n",
       "       [6.8, 3.2],\n",
       "       [6.4, 3.2],\n",
       "       [5.7, 2.9],\n",
       "       [4.9, 2.4],\n",
       "       [5.9, 3.2],\n",
       "       [6.5, 3. ],\n",
       "       [6.3, 3.4],\n",
       "       [5.4, 3.9],\n",
       "       [6. , 2.7],\n",
       "       [5.1, 2.5]])"
      ]
     },
     "execution_count": 26,
     "metadata": {},
     "output_type": "execute_result"
    }
   ],
   "source": [
    "df = pd.read_csv('iris-versicolor.csv')\n",
    "\n",
    "df = df.sample(frac=1)\n",
    "\n",
    "\n",
    "X = df.iloc[:, 1:3].values\n",
    "Y = df.iloc[:,0].values\n",
    "X"
   ]
  },
  {
   "cell_type": "code",
   "execution_count": 27,
   "metadata": {},
   "outputs": [],
   "source": [
    "xTrain, xTest, yTrain, yTest = train_test_split(X,Y)"
   ]
  },
  {
   "cell_type": "code",
   "execution_count": 28,
   "metadata": {},
   "outputs": [
    {
     "data": {
      "text/plain": [
       "((112, 2), (38, 2))"
      ]
     },
     "execution_count": 28,
     "metadata": {},
     "output_type": "execute_result"
    }
   ],
   "source": [
    "xTrain.shape, xTest.shape"
   ]
  },
  {
   "cell_type": "code",
   "execution_count": 29,
   "metadata": {},
   "outputs": [],
   "source": [
    "def mean_squared_error(self, X, Y):\n",
    "\n",
    "\t\tres = []\n",
    "\t\tfor x, y in zip(X, Y):\n",
    "\t\t\t_, pred = self.predict(x)\n",
    "\t\t\tres.append(pred)\n",
    "\n",
    "\t\treturn mean_squared_error(Y, res)"
   ]
  },
  {
   "cell_type": "code",
   "execution_count": 30,
   "metadata": {},
   "outputs": [],
   "source": [
    "model = FuzzyMMC(sensitivity=1, exp_bound=0.1, animate=False)"
   ]
  },
  {
   "cell_type": "code",
   "execution_count": 31,
   "metadata": {},
   "outputs": [],
   "source": [
    "model.fit(xTrain, yTrain)"
   ]
  },
  {
   "cell_type": "code",
   "execution_count": 53,
   "metadata": {},
   "outputs": [
    {
     "data": {
      "text/plain": [
       "0.7368421052631579"
      ]
     },
     "execution_count": 53,
     "metadata": {},
     "output_type": "execute_result"
    }
   ],
   "source": [
    "model.score(xTest, yTest) "
   ]
  },
  {
   "cell_type": "code",
   "execution_count": 33,
   "metadata": {},
   "outputs": [
    {
     "data": {
      "text/plain": [
       "0.2631578947368421"
      ]
     },
     "execution_count": 33,
     "metadata": {},
     "output_type": "execute_result"
    }
   ],
   "source": [
    "model.mean_squared_error(xTest, yTest)"
   ]
  },
  {
   "cell_type": "code",
   "execution_count": 52,
   "metadata": {},
   "outputs": [
    {
     "data": {
      "text/plain": [
       "(0.9500000000000002, 1)"
      ]
     },
     "execution_count": 52,
     "metadata": {},
     "output_type": "execute_result"
    }
   ],
   "source": [
    "x = xTest[9]\n",
    "\n",
    "membership, pred = model.predict(x)\n",
    "(membership, pred)"
   ]
  },
  {
   "cell_type": "code",
   "execution_count": 49,
   "metadata": {},
   "outputs": [
    {
     "data": {
      "text/plain": [
       "array([6.3, 2.3])"
      ]
     },
     "execution_count": 49,
     "metadata": {},
     "output_type": "execute_result"
    }
   ],
   "source": [
    "xTest[9]"
   ]
  },
  {
   "cell_type": "code",
   "execution_count": 50,
   "metadata": {},
   "outputs": [
    {
     "data": {
      "text/plain": [
       "1"
      ]
     },
     "execution_count": 50,
     "metadata": {},
     "output_type": "execute_result"
    }
   ],
   "source": [
    "yTest[9]"
   ]
  },
  {
   "cell_type": "code",
   "execution_count": null,
   "metadata": {},
   "outputs": [],
   "source": []
  }
 ],
 "metadata": {
  "kernelspec": {
   "display_name": "Python 3",
   "language": "python",
   "name": "python3"
  },
  "language_info": {
   "codemirror_mode": {
    "name": "ipython",
    "version": 3
   },
   "file_extension": ".py",
   "mimetype": "text/x-python",
   "name": "python",
   "nbconvert_exporter": "python",
   "pygments_lexer": "ipython3",
   "version": "3.7.4"
  }
 },
 "nbformat": 4,
 "nbformat_minor": 2
}
